{
 "cells": [
  {
   "cell_type": "code",
   "execution_count": 1,
   "metadata": {},
   "outputs": [],
   "source": []
  },
  {
   "cell_type": "markdown",
   "metadata": {},
   "source": [
    "# Домашнее задание 3\n",
    "## Сравнение интересов аудитории телеканалов НТВ и Дождь с помощью тематического моделирования LDA"
   ]
  },
  {
   "cell_type": "markdown",
   "metadata": {},
   "source": [
    "Задача:\n",
    "Сравнить интересы аудитории телеканолов НТВ и Дождь с помощью методов тематического моделирования\n",
    "1. Получить данные по аудитории из социальной сети ВК\n",
    "2. Зарегистрировать приложение, получить app_id, access_token\n",
    "3. Скачать данные по пользователям в каждой из групп (id групп ВК даны ниже, tvrain_id, ntv_id)\n",
    "4. Взять небольшую выборку из каждой совокупности телезрителей(около 1000-2000 человек, т.к. 300k-400k слишком много), с которыми работать дальше\n",
    "5. Обучить LDA модель на их подписках\n",
    "6. По группам, на которые подписаны эти люди, полуичть ключевые слова групп, на которые они подписаны\n",
    "7. Получить распределение интересов людей для каждой совокупности, сравнить на графике"
   ]
  },
  {
   "cell_type": "code",
   "execution_count": 10,
   "metadata": {},
   "outputs": [],
   "source": [
    "import seaborn as sb\n",
    "import sys  \n",
    "import pandas as pd\n",
    "import requests\n",
    "import numpy as np\n",
    "import datetime\n",
    "import time\n",
    "import pickle\n",
    "import matplotlib.pyplot as plt\n",
    "import time\n",
    "%matplotlib inline\n",
    "\n",
    "from bs4 import BeautifulSoup as bs\n",
    "import urllib"
   ]
  },
  {
   "cell_type": "code",
   "execution_count": 11,
   "metadata": {},
   "outputs": [],
   "source": [
    "def load_obj(name):\n",
    "    with open(name + '.pkl', 'rb') as f:\n",
    "        return pickle.load(f)\n",
    "\n",
    "def save_obj(obj, name):\n",
    "    with open(name + '.pkl', 'wb') as f:\n",
    "        pickle.dump(obj, f, pickle.HIGHEST_PROTOCOL)"
   ]
  },
  {
   "cell_type": "markdown",
   "metadata": {},
   "source": [
    "#### Для использования VK API необходимо создать приложение в VK\n",
    "\n",
    "1. Создать приложение по адресу https://vk.com/apps?act=manage (кнопка \"создать приложение\")\n",
    "2. При создании указать название, описание (можно любые), категория  - прочее. Тип - standalone приложение\n",
    "3. В настройках получить **app_id**. App_id потребуется для получения access token\n",
    "4. Авторизовать пользователя (получить access token) можно по адресу: https://vk.com/dev/first_guide, в правилах нас интересует пункт 3 **Авторизация пользователя**\n",
    "5. После того, как ознакомитесь с авторизацией пользователя, скопируйте в адресную строку такой запрос https://oauth.vk.com/authorize?client_id=5490057&display=page&redirect_uri=https://oauth.vk.com/blank.html&scope=friends&response_type=token&v=5.52, где число **5490057** замените на число, которое получите для вашего **app_id**\n",
    "6. Нажмите Enter. Откроется окно с запросом прав. В нем отображаются название приложения, иконки прав доступа, и Ваши имя с фамилией. Нажмите «Разрешить». Вы попадете на новую страницу с предупреждением о том, что токен нельзя копировать и передавать третьим лицам. В адресной строке будет URL https://oauth.vk.com/blank.html, а после # Вы увидите дополнительные параметры — access_token, expires_in и user_id. Токен может выглядеть, например, так: 51eff86578a3bbbcb5c7043a122a69fd04dca057ac821dd7afd7c2d8e35b60172d45a26599c08034cc40a\n",
    "7. Токен — это Ваш ключ доступа. При выполнении определенных условий человек, получивший Ваш токен, может нанести существенный ущерб Вашим данным и данным других людей. Поэтому очень важно не передавать свой токен третьим лицам\n",
    "8. Поле expires_in содержит время жизни токена в секундах. 86400 секунд — это ровно сутки. Через сутки полученный токен перестанет действовать, для продолжения работы нужно будет получить новый по такому же алгоритму"
   ]
  },
  {
   "cell_type": "code",
   "execution_count": 12,
   "metadata": {},
   "outputs": [],
   "source": [
    "# use your own app id and respective tokens\n",
    "\n",
    "# скопируйте сюда ваши app_id и access_token, полученные по методу, описанному выше\n",
    "app_id = 6743997\n",
    "#app_id = 6755037\n",
    "access_token = '33107ce233107ce233107ce24a33769b5f3331033107ce268f26b45fab25e2f9de6a2a8'\n",
    "#access_token = 'dd0f17a3dd0f17a3dd0f17a3f9dd68057eddd0fdd0f17a386ff9fab1e5bcb7859265d0f'\n",
    "\n",
    "# id групп ВК Дождя и НТВ\n",
    "tvrain_id = 17568841\n",
    "ntv_id = 28658784"
   ]
  },
  {
   "cell_type": "code",
   "execution_count": 13,
   "metadata": {},
   "outputs": [
    {
     "name": "stdout",
     "output_type": "stream",
     "text": [
      "{'response': [{'uid': 1, 'first_name': 'Павел', 'last_name': 'Дуров'}]}\n"
     ]
    }
   ],
   "source": [
    "# проверка работы API и авторизации пользователя. Если возникает ошибка, то, возможно, access token необходимо обновить\n",
    "check_id = 1\n",
    "\n",
    "# api call and test\n",
    "def vk_get_response(method, parameters, token):\n",
    "    url = 'https://api.vk.com/method/' + method + '?' + parameters + '&access_token=' + token\n",
    "#     print url\n",
    "    return(requests.get(url).json())\n",
    "\n",
    "answer = vk_get_response('users.get', 'user_ids={0}&v=4.9&lang=ru'.format(check_id), access_token)\n",
    "print(answer) #['response']\n",
    "#print(answer[0]['first_name'], answer[0]['last_name'])"
   ]
  },
  {
   "cell_type": "markdown",
   "metadata": {},
   "source": [
    "### Получение подписчиков телеканалов НТВ и Дождь в VK"
   ]
  },
  {
   "cell_type": "markdown",
   "metadata": {},
   "source": [
    "Получим объекты, которые содержат всю информацию о подпиичиках соответствующих групп (указанных в domains) и сохраним их на диск. Получим в итоге два файла - **ntv_subs** и **tvrain_subs** в формате **.pkl** - питоновский формат хранения данных"
   ]
  },
  {
   "cell_type": "code",
   "execution_count": 5,
   "metadata": {
    "scrolled": true
   },
   "outputs": [
    {
     "name": "stdout",
     "output_type": "stream",
     "text": [
      "Offset:  0\n",
      "Offset:  1000\n",
      "Offset:  2000\n",
      "Offset:  3000\n",
      "Offset:  4000\n",
      "Offset:  360000\n",
      "Offset:  0\n",
      "Offset:  1000\n",
      "Offset:  164000\n",
      "Offset:  165000\n",
      "Offset:  166000\n",
      "Offset:  167000\n",
      "Offset:  439000\n",
      "Offset:  440000\n",
      "Offset:  441000\n"
     ]
    }
   ],
   "source": [
    "domains = ['ntv', 'tvrain']\n",
    "\n",
    "\n",
    "for group_domain in domains:\n",
    "    offset = 0\n",
    "    group_id = group_domain\n",
    "    fields = \"\"\"sex,bdate,city,country,home_town,lists,domain,has_mobile,\n",
    "    contacts,connections,education,universities,followers_count,occupation,last_seen,relation\"\"\"\n",
    "    first_sample = vk_get_response(\n",
    "        'groups.getMembers', 'group_id={0}&offset={1}&fields={2}&v=4.9&lang=ru'.format(\n",
    "            group_id, offset, fields\n",
    "        ), token=access_token\n",
    "    )\n",
    "    community_count = first_sample['response']['count']\n",
    "    community_members = []\n",
    "    for i in range(community_count // 1000 + 1):\n",
    "        offset = i * 1000\n",
    "        try:\n",
    "            answer = vk_get_response(\n",
    "                'groups.getMembers', 'group_id={0}&offset={1}&fields={2}&v=4.9&lang=ru'.format(\n",
    "                    group_id, offset, fields), token=access_token\n",
    "            )\n",
    "            print(\"Offset: \", offset)\n",
    "        except:\n",
    "            print(\"Offset: \", offset, \" Error\")\n",
    "        community_members += answer['response']['users']\n",
    "    save_obj(community_members, '{}_subs'.format(group_domain))"
   ]
  },
  {
   "cell_type": "code",
   "execution_count": 5,
   "metadata": {},
   "outputs": [],
   "source": [
    "community_ntv = load_obj('ntv_subs')\n",
    "community_tvrain = load_obj('tvrain_subs')"
   ]
  },
  {
   "cell_type": "code",
   "execution_count": 6,
   "metadata": {},
   "outputs": [],
   "source": [
    "community_ntv_df = pd.DataFrame(community_ntv)\n",
    "community_tvrain_df = pd.DataFrame(community_tvrain)"
   ]
  },
  {
   "cell_type": "markdown",
   "metadata": {},
   "source": [
    "Сначала получим всех уникальных подписчиков НТВ и Дождя с помощью unique. Далее с помощью numpy.random необходимо выбрать небольшой sample (например, по 1000 из каждой группы) таких людей и объединить их вместе"
   ]
  },
  {
   "cell_type": "code",
   "execution_count": 9,
   "metadata": {},
   "outputs": [],
   "source": [
    "community_ntv_df = community_ntv_df[community_ntv_df['deactivated'].isna()]\n",
    "community_tvrain_df = community_tvrain_df[community_tvrain_df['deactivated'].isna()]\n",
    "ntv_uids = community_ntv_df.uid.unique().tolist()\n",
    "tvrain_uids = community_tvrain_df.uid.unique().tolist()\n"
   ]
  },
  {
   "cell_type": "code",
   "execution_count": 10,
   "metadata": {},
   "outputs": [],
   "source": [
    "# получим списки user'ов, которые только в одной из групп и в обоих   \n",
    "only_ntv_uids = set(ntv_uids) - set(tvrain_uids)\n",
    "only_tvrain_uids = set(tvrain_uids) - set(ntv_uids)\n",
    "ntv_and_tvrain_uids = set(tvrain_uids) & set(ntv_uids)"
   ]
  },
  {
   "cell_type": "code",
   "execution_count": 11,
   "metadata": {},
   "outputs": [
    {
     "name": "stdout",
     "output_type": "stream",
     "text": [
      "302723 360529 15374\n"
     ]
    }
   ],
   "source": [
    "print(len(only_ntv_uids),len(only_tvrain_uids),len(ntv_and_tvrain_uids))"
   ]
  },
  {
   "cell_type": "code",
   "execution_count": 14,
   "metadata": {},
   "outputs": [],
   "source": [
    "import random\n"
   ]
  },
  {
   "cell_type": "code",
   "execution_count": 13,
   "metadata": {},
   "outputs": [],
   "source": [
    "# отберем из полученных групп по 2000 человек\n",
    "count_user = 2000\n",
    "index_only_ntv= random.sample(range(len(only_ntv_uids)), count_user)\n",
    "index_only_tvrain= random.sample(range(len(only_tvrain_uids)), count_user)\n",
    "index_ntv_and_tvrain= random.sample(range(len(ntv_and_tvrain_uids)), count_user)"
   ]
  },
  {
   "cell_type": "code",
   "execution_count": 14,
   "metadata": {},
   "outputs": [
    {
     "data": {
      "text/plain": [
       "2000"
      ]
     },
     "execution_count": 14,
     "metadata": {},
     "output_type": "execute_result"
    }
   ],
   "source": [
    "len(index_only_ntv)"
   ]
  },
  {
   "cell_type": "code",
   "execution_count": 15,
   "metadata": {},
   "outputs": [],
   "source": [
    "# получить общий список людей из двух выборок НТВ и Дождя, всего должно быть в итоге около 2000 человек\n",
    "uids_only_ntv = community_ntv_df.iloc[index_only_ntv]\n",
    "uids_only_tvrain = community_tvrain_df.iloc[index_only_tvrain]\n",
    "uids_ntv_and_tvrain = community_ntv_df.iloc[index_ntv_and_tvrain]\n"
   ]
  },
  {
   "cell_type": "code",
   "execution_count": 16,
   "metadata": {},
   "outputs": [
    {
     "data": {
      "text/plain": [
       "(2000, 30)"
      ]
     },
     "execution_count": 16,
     "metadata": {},
     "output_type": "execute_result"
    }
   ],
   "source": [
    "uids_ntv_and_tvrain.shape"
   ]
  },
  {
   "cell_type": "code",
   "execution_count": 17,
   "metadata": {},
   "outputs": [
    {
     "name": "stdout",
     "output_type": "stream",
     "text": [
      "0 profiles done\n",
      "2300 profiles done\n",
      "2600 profiles done\n",
      "2900 profiles done\n",
      "3300 profiles done\n",
      "3700 profiles done\n",
      "4300 profiles done\n",
      "5100 profiles done\n",
      "5400 profiles done\n",
      "5900 profiles done\n",
      "Error\n",
      "{'error': {'error_code': 15, 'error_msg': 'Access denied: this profile is private', 'request_params': [{'key': 'oauth', 'value': '1'}, {'key': 'method', 'value': 'users.getSubscriptions'}, {'key': 'user_id', 'value': '2726'}, {'key': 'v', 'value': '4.9'}, {'key': 'lang', 'value': 'ru'}]}}\n",
      "user_id=2726&v=4.9&lang=ru 33107ce233107ce233107ce24a33769b5f3331033107ce268f26b45fab25e2f9de6a2a8\n"
     ]
    }
   ],
   "source": [
    "# получить подписки этих пользователей\n",
    "print_counter = 0\n",
    "final_data = {'uids_only_ntv': [],'uids_only_tvrain': [],'uids_ntv_and_tvrain': []}\n",
    "src = {'uids_only_ntv': uids_only_ntv,'uids_only_tvrain': uids_only_tvrain,'uids_ntv_and_tvrain': uids_ntv_and_tvrain}\n",
    "\n",
    "for uids in ['uids_only_ntv', 'uids_only_tvrain', 'uids_ntv_and_tvrain']:\n",
    "    for uid in src[uids].index:\n",
    "        try:\n",
    "            user_subs = vk_get_response(\n",
    "                'users.getSubscriptions', 'user_id={0}&v=4.9&lang=ru'.format(int(uid)), access_token\n",
    "            )\n",
    "            user_subs['response']['uid'] = uid\n",
    "            time.sleep(0.3)\n",
    "            final_data[uids].append(user_subs)\n",
    "        except:\n",
    "            print(\"Error\")\n",
    "            print(user_subs)\n",
    "            print('user_id={0}&v=4.9&lang=ru'.format(int(uid)), access_token)\n",
    "        if print_counter % 100 == 0:\n",
    "            print(\"{0} profiles done\".format(print_counter))\n",
    "        print_counter += 1"
   ]
  },
  {
   "cell_type": "code",
   "execution_count": 21,
   "metadata": {},
   "outputs": [],
   "source": [
    "# возмем только user'ов с количеством подписанных групп более 5\n",
    "final_data1 = {'uids_only_ntv': [],'uids_only_tvrain': [],'uids_ntv_and_tvrain': []}\n",
    "for uids in ['uids_only_ntv', 'uids_only_tvrain', 'uids_ntv_and_tvrain']:\n",
    "    final_data1[uids] =  list(filter(lambda x: x['response']['groups']['count'] > 5 if 'response' in x else False, final_data[uids]))"
   ]
  },
  {
   "cell_type": "code",
   "execution_count": 22,
   "metadata": {},
   "outputs": [
    {
     "name": "stdout",
     "output_type": "stream",
     "text": [
      "1057\n",
      "1086\n",
      "1156\n"
     ]
    }
   ],
   "source": [
    "for uids in ['uids_only_ntv', 'uids_only_tvrain', 'uids_ntv_and_tvrain']:\n",
    "    print(len(final_data1[uids]))\n"
   ]
  },
  {
   "cell_type": "code",
   "execution_count": 18,
   "metadata": {},
   "outputs": [],
   "source": [
    "final_data_all = []\n",
    "for uids in ['uids_only_ntv', 'uids_only_tvrain', 'uids_ntv_and_tvrain']:\n",
    "    final_data_all += final_data1[uids]"
   ]
  },
  {
   "cell_type": "code",
   "execution_count": 44,
   "metadata": {},
   "outputs": [],
   "source": [
    "for uids in ['uids_only_ntv', 'uids_only_tvrain', 'uids_ntv_and_tvrain']:\n",
    "    save_obj(final_data1[uids], uids)"
   ]
  },
  {
   "cell_type": "code",
   "execution_count": 15,
   "metadata": {},
   "outputs": [],
   "source": [
    "final_data_all = []\n",
    "final_data1 = dict()\n",
    "for uids in ['uids_only_ntv', 'uids_only_tvrain', 'uids_ntv_and_tvrain']:\n",
    "    final_data1[uids] = load_obj(uids)"
   ]
  },
  {
   "cell_type": "code",
   "execution_count": 19,
   "metadata": {},
   "outputs": [
    {
     "name": "stdout",
     "output_type": "stream",
     "text": [
      "Processed 100 users\n",
      "Processed 200 users\n",
      "Processed 300 users\n",
      "Processed 400 users\n",
      "Processed 500 users\n",
      "Processed 600 users\n",
      "Processed 700 users\n",
      "Processed 800 users\n",
      "Processed 900 users\n",
      "Processed 1000 users\n",
      "Processed 1100 users\n",
      "Processed 1200 users\n",
      "Processed 1300 users\n",
      "Processed 1400 users\n",
      "Processed 1500 users\n",
      "Processed 1600 users\n",
      "Processed 1700 users\n",
      "Processed 1800 users\n",
      "Processed 1900 users\n",
      "Processed 2000 users\n",
      "Processed 2100 users\n",
      "Processed 2200 users\n",
      "Processed 2300 users\n",
      "Processed 2400 users\n",
      "Processed 2500 users\n",
      "Processed 2600 users\n",
      "Processed 2700 users\n",
      "Processed 2800 users\n",
      "Processed 2900 users\n",
      "Processed 3000 users\n",
      "Processed 3100 users\n",
      "Processed 3200 users\n"
     ]
    }
   ],
   "source": [
    "# получим информацию о группах\n",
    "subs_list = []\n",
    "groups_freq_dict = {}\n",
    "top_n = 5\n",
    "\n",
    "for record in final_data_all:\n",
    "    try:\n",
    "        user_subs = record\n",
    "        uid = record['response']['uid']\n",
    "        if not user_subs.get('response'):\n",
    "            user_subs = vk_get_response(\n",
    "                'users.getSubscriptions', 'user_id={0}&v=4.9&lang=ru'.format(int(uid)), access_token\n",
    "            )\n",
    "        subs_pd = pd.DataFrame(\n",
    "            [\n",
    "                {\n",
    "                    'groups_count': user_subs['response']['groups'].get('count'),\n",
    "                    'groups_list': user_subs['response']['groups'].get('items'),\n",
    "                    'follows_count':user_subs['response']['users'].get('count'),\n",
    "                    'follows_list': user_subs['response']['users'].get('items'),\n",
    "                }\n",
    "            ]\n",
    "        )\n",
    "\n",
    "        for group_id in user_subs['response']['groups'].get('items')[:top_n]:\n",
    "            if groups_freq_dict.get(group_id):\n",
    "                groups_freq_dict[group_id] += 1\n",
    "            else:\n",
    "                groups_freq_dict[group_id] = 1\n",
    "\n",
    "        subs_pd['subs_count'] = subs_pd['groups_count'] + subs_pd['follows_count']\n",
    "        subs_list.append(subs_pd)\n",
    "    except:\n",
    "#         print(user_subs)\n",
    "\n",
    "        pass\n",
    "    if len(subs_list) % 100 == 0:\n",
    "        print(\"Processed {0} users\".format(len(subs_list)))"
   ]
  },
  {
   "cell_type": "markdown",
   "metadata": {},
   "source": [
    "Самые популярные группы"
   ]
  },
  {
   "cell_type": "code",
   "execution_count": 20,
   "metadata": {},
   "outputs": [
    {
     "data": {
      "text/plain": [
       "[(68471405, 194),\n",
       " (30022666, 125),\n",
       " (26270763, 120),\n",
       " (63731512, 119),\n",
       " (29302425, 116)]"
      ]
     },
     "execution_count": 20,
     "metadata": {},
     "output_type": "execute_result"
    }
   ],
   "source": [
    "sorted([(key, val) for key, val in groups_freq_dict.items()], key=lambda x: x[1], reverse=True)[:5]"
   ]
  },
  {
   "cell_type": "markdown",
   "metadata": {},
   "source": [
    "Загрузка постов со стен групп"
   ]
  },
  {
   "cell_type": "code",
   "execution_count": null,
   "metadata": {},
   "outputs": [],
   "source": [
    "group_doc_dict = {}\n"
   ]
  },
  {
   "cell_type": "code",
   "execution_count": 9,
   "metadata": {},
   "outputs": [],
   "source": [
    "counter = 0\n",
    "groups_freq_dict_top5 = groups_freq_dict"
   ]
  },
  {
   "cell_type": "code",
   "execution_count": 45,
   "metadata": {},
   "outputs": [],
   "source": [
    "save_obj(groups_freq_dict, 'groups_freq_dict_tmp')"
   ]
  },
  {
   "cell_type": "code",
   "execution_count": 20,
   "metadata": {},
   "outputs": [],
   "source": [
    "groups_freq_dict = load_obj('groups_freq_dict_tmp')"
   ]
  },
  {
   "cell_type": "code",
   "execution_count": 21,
   "metadata": {},
   "outputs": [
    {
     "data": {
      "text/plain": [
       "7909"
      ]
     },
     "execution_count": 21,
     "metadata": {},
     "output_type": "execute_result"
    }
   ],
   "source": [
    "len(groups_freq_dict)"
   ]
  },
  {
   "cell_type": "code",
   "execution_count": 32,
   "metadata": {},
   "outputs": [
    {
     "name": "stdout",
     "output_type": "stream",
     "text": [
      "100 groups extracted\n",
      "200 groups extracted\n",
      "300 groups extracted\n",
      "5700 groups extracted\n",
      "Response error. Group id 116902432\n",
      "{'error': {'error_code': 15, 'error_msg': 'Access denied: group is blocked', 'request_params': [{'key': 'oauth', 'value': '1'}, {'key': 'method', 'value': 'wall.get'}, {'key': 'owner_id', 'value': '-116902432'}, {'key': 'count', 'value': '100'}, {'key': 'fields', 'value': 'post_type,marked_as_ads'}, {'key': '', 'value': ''}, {'key': 'v', 'value': '4.9'}, {'key': 'lang', 'value': 'ru'}]}}\n",
      "5800 groups extracted\n",
      "5900 groups extracted\n",
      "6000 groups extracted\n",
      "6100 groups extracted\n",
      "6200 groups extracted\n",
      "6300 groups extracted\n",
      "6400 groups extracted\n",
      "6500 groups extracted\n",
      "6600 groups extracted\n",
      "6700 groups extracted\n",
      "6800 groups extracted\n",
      "6900 groups extracted\n",
      "7000 groups extracted\n",
      "Response error. Group id 32916525\n",
      "{'error': {'error_code': 15, 'error_msg': 'Access denied: group is blocked', 'request_params': [{'key': 'oauth', 'value': '1'}, {'key': 'method', 'value': 'wall.get'}, {'key': 'owner_id', 'value': '-32916525'}, {'key': 'count', 'value': '100'}, {'key': 'fields', 'value': 'post_type,marked_as_ads'}, {'key': '', 'value': ''}, {'key': 'v', 'value': '4.9'}, {'key': 'lang', 'value': 'ru'}]}}\n",
      "7100 groups extracted\n",
      "7200 groups extracted\n",
      "7300 groups extracted\n",
      "7400 groups extracted\n",
      "7500 groups extracted\n",
      "7600 groups extracted\n",
      "7700 groups extracted\n",
      "7800 groups extracted\n",
      "7900 groups extracted\n"
     ]
    }
   ],
   "source": [
    "counter = 0\n",
    "is_group_start = True\n",
    "group_start = 170020420\n",
    "for group_id, freq in groups_freq_dict_top5.items():\n",
    "    counter += 1\n",
    "    if is_group_start == True and group_id == group_start:\n",
    "        print('group',group_id)\n",
    "        is_group_start= False\n",
    "    if is_group_start == True:\n",
    "        if counter % 100 == 0:\n",
    "            print(\"{0} groups extracted\".format(counter))\n",
    "        continue\n",
    "    print(\"start\")    \n",
    "    try:\n",
    "        time.sleep(0.4)\n",
    "        check = vk_get_response(\n",
    "            'wall.get',\n",
    "            'owner_id={0}&count=100&fields=post_type,marked_as_ads&&v=4.9&lang=ru'.format(int(group_id) * -1),\n",
    "            access_token\n",
    "        )\n",
    "        check = check['response']\n",
    "        group_doc = ''\n",
    "        if check[0] != 0:\n",
    "            for post in check[1:]:\n",
    "                if post.get('marked_as_ads') != 1:\n",
    "                    group_doc += post['text']\n",
    "        group_doc_dict[group_id] = group_doc\n",
    "    except:\n",
    "        print(\"Response error. Group id {0}\".format(group_id))\n",
    "        print(check)\n",
    "    if counter % 100 == 0:\n",
    "        print(\"{0} groups extracted\".format(counter))\n",
    "    "
   ]
  },
  {
   "cell_type": "code",
   "execution_count": 33,
   "metadata": {},
   "outputs": [],
   "source": [
    "save_obj(group_doc_dict, 'group_doc_dict')"
   ]
  },
  {
   "cell_type": "code",
   "execution_count": 22,
   "metadata": {},
   "outputs": [],
   "source": [
    "group_doc_dict = load_obj('group_doc_dict')"
   ]
  },
  {
   "cell_type": "code",
   "execution_count": 23,
   "metadata": {},
   "outputs": [
    {
     "data": {
      "text/plain": [
       "7904"
      ]
     },
     "execution_count": 23,
     "metadata": {},
     "output_type": "execute_result"
    }
   ],
   "source": [
    "len(group_doc_dict)"
   ]
  },
  {
   "cell_type": "code",
   "execution_count": 31,
   "metadata": {},
   "outputs": [],
   "source": [
    "# сохранить сырые данные по постам групп на диск\n",
    "# save_obj(group_doc_dict, 'group_doc_dict')"
   ]
  },
  {
   "cell_type": "code",
   "execution_count": 14,
   "metadata": {},
   "outputs": [],
   "source": [
    "group_doc_dict = load_obj('group_doc_dict')"
   ]
  },
  {
   "cell_type": "code",
   "execution_count": 5,
   "metadata": {},
   "outputs": [],
   "source": [
    "from bs4 import BeautifulSoup\n",
    "import re\n",
    "import string\n",
    "from nltk import word_tokenize\n",
    "from nltk.corpus import stopwords\n",
    "from nltk.stem.porter import PorterStemmer\n",
    "import nltk\n",
    "from pymorphy2 import MorphAnalyzer"
   ]
  },
  {
   "cell_type": "code",
   "execution_count": 36,
   "metadata": {},
   "outputs": [
    {
     "name": "stdout",
     "output_type": "stream",
     "text": [
      "[nltk_data] Downloading package stopwords to /home/user/nltk_data...\n",
      "[nltk_data]   Package stopwords is already up-to-date!\n"
     ]
    },
    {
     "data": {
      "text/plain": [
       "True"
      ]
     },
     "execution_count": 36,
     "metadata": {},
     "output_type": "execute_result"
    }
   ],
   "source": [
    "nltk.download('stopwords')"
   ]
  },
  {
   "cell_type": "code",
   "execution_count": 37,
   "metadata": {},
   "outputs": [],
   "source": [
    "chrs_to_delete = string.punctuation + u'»' + u'«' + u'—' + u'“' + u'„' + u'•' + u'#'\n",
    "translation_table = {ord(c): None for c in chrs_to_delete if c != u'-'}\n",
    "units = MorphAnalyzer.DEFAULT_UNITS\n",
    "morph = MorphAnalyzer(result_type=None, units=units)\n",
    "PortSt = PorterStemmer()\n",
    "stopw = set(\n",
    "    [w for w in stopwords.words(['russian', 'english'])]\n",
    "    + [u'это', u'году', u'года', u'также', u'етот',\n",
    "       u'которые', u'который', u'которая', u'поэтому',\n",
    "       u'весь', u'свой', u'мочь', u'eтот', u'например',\n",
    "       u'какой-то', u'кто-то', u'самый', u'очень', u'несколько',\n",
    "       u'источник', u'стать', u'время', u'пока', u'однако',\n",
    "       u'около', u'немного', u'кроме', u'гораздо', u'каждый',\n",
    "       u'первый', u'вполне', u'из-за', u'из-под',\n",
    "       u'второй', u'нужно', u'нужный', u'просто', u'большой',\n",
    "       u'хороший', u'хотеть', u'начать', u'должный', u'новый', u'день',\n",
    "       u'метр', u'получить', u'далее', u'именно', u'апрель',\n",
    "       u'сообщать', u'разный', u'говорить', u'делать',\n",
    "       u'появиться', u'2016',\n",
    "       u'2015', u'получить', u'иметь', u'составить', u'дать', u'читать',\n",
    "       u'ничто', u'достаточно', u'использовать',\n",
    "       u'принять', u'практически',\n",
    "       u'находиться', u'месяц', u'достаточно', u'что-то', u'часто',\n",
    "       u'хотеть', u'начаться', u'делать', u'событие', u'составлять',\n",
    "       u'остаться', u'заявить', u'сделать', u'дело',\n",
    "       u'примерно', u'попасть', u'хотя', u'лишь', u'первое',\n",
    "       u'больший', u'решить', u'число', u'идти', u'давать', u'вопрос',\n",
    "       u'сегодня', u'часть', u'высокий', u'главный', u'случай', u'место',\n",
    "       u'конец', u'работать', u'работа', u'слово', u'важный', u'сказать']\n",
    ")"
   ]
  },
  {
   "cell_type": "code",
   "execution_count": 38,
   "metadata": {},
   "outputs": [],
   "source": [
    "url_start = 'http[s]?://'\n",
    "url_end = (\n",
    "    '(?:[a-zA-Z]|[0-9]|[$-_@.&+]|[!*\\(\\),]|(?:%[0-9a-fA-F][0-9a-fA-F]))+'\n",
    ")\n",
    "pattern = url_start + url_end"
   ]
  },
  {
   "cell_type": "markdown",
   "metadata": {},
   "source": [
    "Обработка слов постов групп - трансформация в \"хороший\" вид. Нормализация и стэмминг, удаление стоп-слов"
   ]
  },
  {
   "cell_type": "code",
   "execution_count": 39,
   "metadata": {},
   "outputs": [
    {
     "name": "stdout",
     "output_type": "stream",
     "text": [
      "[nltk_data] Downloading package punkt to /home/user/nltk_data...\n",
      "[nltk_data]   Package punkt is already up-to-date!\n"
     ]
    },
    {
     "data": {
      "text/plain": [
       "True"
      ]
     },
     "execution_count": 39,
     "metadata": {},
     "output_type": "execute_result"
    }
   ],
   "source": [
    "nltk.download('punkt')"
   ]
  },
  {
   "cell_type": "code",
   "execution_count": 40,
   "metadata": {},
   "outputs": [
    {
     "name": "stdout",
     "output_type": "stream",
     "text": [
      "100 docs processed\n",
      "200 docs processed\n",
      "300 docs processed\n",
      "400 docs processed\n",
      "500 docs processed\n",
      "600 docs processed\n",
      "700 docs processed\n",
      "800 docs processed\n",
      "900 docs processed\n",
      "1000 docs processed\n",
      "1100 docs processed\n",
      "1200 docs processed\n",
      "1300 docs processed\n",
      "1400 docs processed\n",
      "1500 docs processed\n",
      "1600 docs processed\n",
      "1700 docs processed\n",
      "1800 docs processed\n",
      "1900 docs processed\n",
      "2000 docs processed\n",
      "2100 docs processed\n",
      "2200 docs processed\n",
      "2300 docs processed\n",
      "2400 docs processed\n",
      "2500 docs processed\n",
      "2600 docs processed\n",
      "2700 docs processed\n",
      "2800 docs processed\n",
      "2900 docs processed\n",
      "3000 docs processed\n",
      "3100 docs processed\n",
      "3200 docs processed\n",
      "3300 docs processed\n",
      "3400 docs processed\n",
      "3500 docs processed\n",
      "3600 docs processed\n",
      "3700 docs processed\n",
      "3800 docs processed\n",
      "3900 docs processed\n",
      "4000 docs processed\n",
      "4100 docs processed\n",
      "4200 docs processed\n",
      "4300 docs processed\n",
      "4400 docs processed\n",
      "4500 docs processed\n",
      "4600 docs processed\n",
      "4700 docs processed\n",
      "4800 docs processed\n",
      "4900 docs processed\n",
      "5000 docs processed\n",
      "5100 docs processed\n",
      "5200 docs processed\n",
      "5300 docs processed\n",
      "5400 docs processed\n",
      "5500 docs processed\n",
      "5600 docs processed\n",
      "5700 docs processed\n"
     ]
    },
    {
     "name": "stderr",
     "output_type": "stream",
     "text": [
      "/home/user/.local/lib/python3.6/site-packages/bs4/__init__.py:336: UserWarning: \"https://vk.com/obovsemhm\" looks like a URL. Beautiful Soup is not an HTTP client. You should probably use an HTTP client like requests to get the document behind the URL, and feed that document to Beautiful Soup.\n",
      "  ' that document to Beautiful Soup.' % decoded_markup\n"
     ]
    },
    {
     "name": "stdout",
     "output_type": "stream",
     "text": [
      "5800 docs processed\n",
      "5900 docs processed\n",
      "6000 docs processed\n",
      "6100 docs processed\n",
      "6200 docs processed\n",
      "6300 docs processed\n",
      "6400 docs processed\n",
      "6500 docs processed\n",
      "6600 docs processed\n",
      "6700 docs processed\n",
      "6800 docs processed\n",
      "6900 docs processed\n",
      "7000 docs processed\n",
      "7100 docs processed\n",
      "7200 docs processed\n",
      "7300 docs processed\n",
      "7400 docs processed\n",
      "7500 docs processed\n",
      "7600 docs processed\n",
      "7700 docs processed\n",
      "7800 docs processed\n",
      "7900 docs processed\n"
     ]
    }
   ],
   "source": [
    "group_clean_doc_dict = {}\n",
    "counter = 0\n",
    "\n",
    "for group_id, doc in group_doc_dict.items():\n",
    "    soup = BeautifulSoup(doc, 'html.parser')\n",
    "    body = ' '.join(\n",
    "        [tag.string.replace('\\\\n', ' ').replace('\\\\r', ' ')\n",
    "         for tag in soup.descendants if tag.string]\n",
    "    )\n",
    "    body = re.sub('\\[.*?\\]','', body)\n",
    "    body = re.sub(pattern,'', body)\n",
    "    if body != '':\n",
    "        body_clean = body.translate(translation_table).lower().strip()\n",
    "        words = word_tokenize(body_clean)\n",
    "        tokens = []\n",
    "        # stemming and text normalization\n",
    "        for word in words:\n",
    "            if re.match('^[a-z0-9-]+$', word) is not None:\n",
    "                tokens.append(PortSt.stem(word))\n",
    "            elif word.count('-') > 1:\n",
    "                tokens.append(word)\n",
    "            else:\n",
    "                normal_forms = morph.normal_forms(word)\n",
    "                tokens.append(normal_forms[0] if normal_forms else word)\n",
    "        # remove stopwords and leave unique words only\n",
    "        tokens = filter(\n",
    "            lambda token: token not in stopw, sorted(set(tokens))\n",
    "        )\n",
    "\n",
    "        # remove all words with more than 3 chars\n",
    "        tokens = filter(lambda token: len(token) > 3, tokens)\n",
    "    else:\n",
    "        tokens = []\n",
    "    counter += 1\n",
    "    if counter % 100 == 0:\n",
    "        print(\"{0} docs processed\".format(counter))\n",
    "    group_clean_doc_dict[group_id] = tokens\n",
    "\n",
    "group_clean_doc_dict = {key: list(val) for key, val in group_clean_doc_dict.items()}"
   ]
  },
  {
   "cell_type": "code",
   "execution_count": 41,
   "metadata": {},
   "outputs": [],
   "source": [
    "# сохранить обработанные данные на диск\n",
    "#save_obj(group_clean_doc_dict, 'group_doc_dict_clean')"
   ]
  },
  {
   "cell_type": "code",
   "execution_count": 24,
   "metadata": {},
   "outputs": [],
   "source": [
    "group_clean_doc_dict= load_obj('group_doc_dict_clean')"
   ]
  },
  {
   "cell_type": "markdown",
   "metadata": {},
   "source": [
    "### Обучение LDA модели"
   ]
  },
  {
   "cell_type": "code",
   "execution_count": 29,
   "metadata": {},
   "outputs": [],
   "source": [
    "from gensim.corpora import TextCorpus\n",
    "from gensim.models.ldamulticore import LdaMulticore\n",
    "from gensim.models.ldamodel import LdaModel\n"
   ]
  },
  {
   "cell_type": "code",
   "execution_count": 30,
   "metadata": {},
   "outputs": [],
   "source": [
    "class ListTextCorpus(TextCorpus):\n",
    "\n",
    "    def get_texts(self):\n",
    "        for doc in self.input:\n",
    "            yield doc\n",
    "                \n",
    "mycorp = ListTextCorpus(input=group_clean_doc_dict.values())\n",
    "justlda = LdaModel(\n",
    "    corpus=mycorp, num_topics=20, passes=12\n",
    ")"
   ]
  },
  {
   "cell_type": "code",
   "execution_count": 9,
   "metadata": {
    "scrolled": true
   },
   "outputs": [
    {
     "name": "stdout",
     "output_type": "stream",
     "text": [
      "LdaModel performance\n",
      "0 фильм жизнь любовь человек драма приключение жить сериал актёр детектив\n",
      "1 цвета стиль красивый стильный скидка платье коллекция заказ модель цвет\n",
      "2 бoльшoгo гoвopть еcть кoтоpый мoжете тыcячий пoзвoлить зaмeнить былo xoчета\n",
      "3 новое последний человек группа выйти история момент друг проект знать\n",
      "4 très cest хупа котора гpyппа спряжение peut votr quel кипур\n",
      "5 трек music пластинка лейбл сингл вокал сольный музыкант ремикс хип-хоп\n",
      "6 комплект цена размер фото чехол сантиметр доставка цвета отличный ручка\n",
      "7 ингредиент масло приготовление рецепт вкусный яйцо соль приготовить овощ вкус\n",
      "8 природа человеческий страх сознание глубокий небо окружающий солнце существовать земля\n",
      "9 спортпить запчасть цевьё интернетмагазин подписота прямоток индексный 1448 шестерня баррель\n",
      "10 реал сборная лига ювентус боруссия тоттенхэма ливерпуль бундеслига матч интер\n",
      "11 love time music night like black good live come world\n",
      "12 сочный вкусно полусредний весовой пивоварня бокал нефильтрованный мейвезер атлетический полутяжёлый\n",
      "13 нарушение установка эксплуатация участок установить установленный применение снижение обеспечение повреждение\n",
      "14 матч лига сборный полузащитник сборная игрок турнир уефа чемпионат кубок\n",
      "15 советский памятник музей война николай военный ссср исторический церковь александр\n",
      "16 гифка cнoвa нaшe cтoлькo любoм эпоксидка дepжито фoтoгpaфия приспособ мaлeнькaть\n",
      "17 группа ноябрь ждать участие друг человек город рубль новое участник\n",
      "18 человек знать жизнь думать друг любить видеть найти рука жить\n",
      "19 мoжнo этoт тoлькo чтoб ecть тaкoть oчeнь бoльшe этoгo этoм\n"
     ]
    }
   ],
   "source": [
    "print('LdaModel performance')\n",
    "for i in range(20):\n",
    "    terms = justlda.get_topic_terms(i)\n",
    "    print(i, ' '.join(map(lambda x: mycorp.dictionary.get(x[0]), terms)))"
   ]
  },
  {
   "cell_type": "code",
   "execution_count": 39,
   "metadata": {},
   "outputs": [
    {
     "name": "stdout",
     "output_type": "stream",
     "text": [
      "Group distribution by the most relevant topic\n"
     ]
    },
    {
     "data": {
      "text/plain": [
       "3     0.23\n",
       "17    0.21\n",
       "18    0.19\n",
       "8     0.07\n",
       "7     0.04\n",
       "0     0.04\n",
       "6     0.03\n",
       "15    0.03\n",
       "19    0.03\n",
       "1     0.03\n",
       "11    0.02\n",
       "16    0.02\n",
       "13    0.01\n",
       "4     0.01\n",
       "10    0.01\n",
       "5     0.01\n",
       "14    0.00\n",
       "2     0.00\n",
       "9     0.00\n",
       "12    0.00\n",
       "dtype: float64"
      ]
     },
     "execution_count": 39,
     "metadata": {},
     "output_type": "execute_result"
    }
   ],
   "source": [
    "dummy_dict = {key: 0 for key in range(20)}\n",
    "\n",
    "group_topics_dict_20 = {\n",
    "    group_id: dict(list(dummy_dict.items()) + justlda.get_document_topics(mycorp.dictionary.doc2bow(text)))\n",
    "    for group_id, text in group_clean_doc_dict.items()\n",
    "}\n",
    "check_pd_20 = pd.DataFrame.from_dict(group_topics_dict_20, orient='index')\n",
    "check_pd_20.head(10)\n",
    "print(\"Group distribution by the most relevant topic\")\n",
    "pd.Series.round(check_pd_20.idxmax(axis=1).value_counts() * 1. / len(check_pd_20), 2)"
   ]
  },
  {
   "cell_type": "code",
   "execution_count": 11,
   "metadata": {},
   "outputs": [],
   "source": [
    "# dump lda model to disk\n",
    "justlda.save('ldamodel_20_topics')"
   ]
  },
  {
   "cell_type": "code",
   "execution_count": 31,
   "metadata": {},
   "outputs": [],
   "source": [
    "from gensim.corpora import TextCorpus\n",
    "from gensim.models.ldamulticore import LdaMulticore\n",
    "from gensim.models.ldamodel import LdaModel\n",
    "from gensim.test.utils import datapath\n",
    "# fname = datapath(\"ldamodel_20_topics\")\n"
   ]
  },
  {
   "cell_type": "code",
   "execution_count": 32,
   "metadata": {},
   "outputs": [],
   "source": [
    "justlda = LdaModel.load(\"ldamodel_20_topics\", mmap='r')"
   ]
  },
  {
   "cell_type": "code",
   "execution_count": 215,
   "metadata": {},
   "outputs": [
    {
     "name": "stdout",
     "output_type": "stream",
     "text": [
      "0 фильм жизнь любовь человек драма приключение жить сериал актёр детектив\n",
      "1 цвета стиль красивый стильный скидка платье коллекция заказ модель цвет\n",
      "2 бoльшoгo гoвopть еcть кoтоpый мoжете тыcячий пoзвoлить зaмeнить былo xoчета\n",
      "3 новое последний человек группа выйти история момент друг проект знать\n",
      "4 très cest хупа котора гpyппа спряжение peut votr quel кипур\n",
      "5 трек music пластинка лейбл сингл вокал сольный музыкант ремикс хип-хоп\n",
      "6 комплект цена размер фото чехол сантиметр доставка цвета отличный ручка\n",
      "7 ингредиент масло приготовление рецепт вкусный яйцо соль приготовить овощ вкус\n",
      "8 природа человеческий страх сознание глубокий небо окружающий солнце существовать земля\n",
      "9 спортпить запчасть цевьё интернетмагазин подписота прямоток индексный 1448 шестерня баррель\n",
      "10 реал сборная лига ювентус боруссия тоттенхэма ливерпуль бундеслига матч интер\n",
      "11 love time music night like black good live come world\n",
      "12 сочный вкусно полусредний весовой пивоварня бокал нефильтрованный мейвезер атлетический полутяжёлый\n",
      "13 нарушение установка эксплуатация участок установить установленный применение снижение обеспечение повреждение\n",
      "14 матч лига сборный полузащитник сборная игрок турнир уефа чемпионат кубок\n",
      "15 советский памятник музей война николай военный ссср исторический церковь александр\n",
      "16 гифка cнoвa нaшe cтoлькo любoм эпоксидка дepжито фoтoгpaфия приспособ мaлeнькaть\n",
      "17 группа ноябрь ждать участие друг человек город рубль новое участник\n",
      "18 человек знать жизнь думать друг любить видеть найти рука жить\n",
      "19 мoжнo этoт тoлькo чтoб ecть тaкoть oчeнь бoльшe этoгo этoм\n"
     ]
    }
   ],
   "source": [
    "# Создадим словари для разных групп и тем для учета участия user'ов\n",
    "term_group_dict = {'uids_only_ntv': {},'uids_only_tvrain': {},'uids_ntv_and_tvrain': {}}\n",
    "\n",
    "for i in range(20):\n",
    "    terms = justlda.get_topic_terms(i)\n",
    "    print(i, ' '.join(map(lambda x: mycorp.dictionary.get(x[0]), terms)))\n",
    "    typical_groups = check_pd_20[i].sort_values(ascending=False).index[:5]\n",
    "    term_group_dict['uids_only_ntv'][i] = {}\n",
    "    for g in typical_groups:\n",
    "        term_group_dict['uids_only_ntv'][i][g] = 0\n",
    "import copy\n",
    "term_group_dict['uids_only_tvrain']=copy.deepcopy(term_group_dict['uids_only_ntv'])        \n",
    "term_group_dict['uids_ntv_and_tvrain']=copy.deepcopy(term_group_dict['uids_only_ntv'])     "
   ]
  },
  {
   "cell_type": "code",
   "execution_count": 194,
   "metadata": {},
   "outputs": [],
   "source": [
    "import numpy as np\n"
   ]
  },
  {
   "cell_type": "code",
   "execution_count": 216,
   "metadata": {},
   "outputs": [],
   "source": [
    "# для групп пользователей для тем посчитаем количество  пользователей учавствующих в группах VK \n",
    "# с учетом весов групп VK в темах и получим некие \"баллы\", которые измеряют количество участия \n",
    "# пользователей в темах по группам VK\n",
    "for i in ['uids_only_ntv', 'uids_only_tvrain', 'uids_ntv_and_tvrain']:\n",
    "    for n in term_group_dict[i]:\n",
    "        cur_keys = term_group_dict[i][n].keys()\n",
    "        for j in final_data1[i]:\n",
    "            for k in j['response']['groups']['items']:\n",
    "                if k in cur_keys:\n",
    "                    term_group_dict[i][n][k] += 1*check_pd_20.loc[k, n]\n",
    "\n",
    "# поситаем суммарное количество \"баллов\" участия пользователей в темах\n",
    "sum_count = {}\n",
    "for i in ['uids_only_ntv', 'uids_only_tvrain', 'uids_ntv_and_tvrain']:\n",
    "    sum_count[i] = []\n",
    "    for n in term_group_dict[i]:\n",
    "        sum_count[i].append(sum(term_group_dict[i][n].values()))\n",
    " "
   ]
  },
  {
   "cell_type": "code",
   "execution_count": 217,
   "metadata": {},
   "outputs": [
    {
     "data": {
      "text/html": [
       "<div>\n",
       "<style scoped>\n",
       "    .dataframe tbody tr th:only-of-type {\n",
       "        vertical-align: middle;\n",
       "    }\n",
       "\n",
       "    .dataframe tbody tr th {\n",
       "        vertical-align: top;\n",
       "    }\n",
       "\n",
       "    .dataframe thead th {\n",
       "        text-align: right;\n",
       "    }\n",
       "</style>\n",
       "<table border=\"1\" class=\"dataframe\">\n",
       "  <thead>\n",
       "    <tr style=\"text-align: right;\">\n",
       "      <th></th>\n",
       "      <th>uids_only_ntv</th>\n",
       "      <th>uids_only_tvrain</th>\n",
       "      <th>uids_ntv_and_tvrain</th>\n",
       "    </tr>\n",
       "  </thead>\n",
       "  <tbody>\n",
       "    <tr>\n",
       "      <th>0</th>\n",
       "      <td>44.836646</td>\n",
       "      <td>35.881382</td>\n",
       "      <td>48.851749</td>\n",
       "    </tr>\n",
       "    <tr>\n",
       "      <th>1</th>\n",
       "      <td>26.779324</td>\n",
       "      <td>16.861154</td>\n",
       "      <td>35.715001</td>\n",
       "    </tr>\n",
       "    <tr>\n",
       "      <th>2</th>\n",
       "      <td>25.171441</td>\n",
       "      <td>32.036360</td>\n",
       "      <td>41.729252</td>\n",
       "    </tr>\n",
       "    <tr>\n",
       "      <th>3</th>\n",
       "      <td>24.971789</td>\n",
       "      <td>28.961129</td>\n",
       "      <td>43.950183</td>\n",
       "    </tr>\n",
       "    <tr>\n",
       "      <th>4</th>\n",
       "      <td>23.395001</td>\n",
       "      <td>30.921738</td>\n",
       "      <td>32.711707</td>\n",
       "    </tr>\n",
       "  </tbody>\n",
       "</table>\n",
       "</div>"
      ],
      "text/plain": [
       "   uids_only_ntv  uids_only_tvrain  uids_ntv_and_tvrain\n",
       "0      44.836646         35.881382            48.851749\n",
       "1      26.779324         16.861154            35.715001\n",
       "2      25.171441         32.036360            41.729252\n",
       "3      24.971789         28.961129            43.950183\n",
       "4      23.395001         30.921738            32.711707"
      ]
     },
     "execution_count": 217,
     "metadata": {},
     "output_type": "execute_result"
    }
   ],
   "source": [
    "data_sum_count =  pd.DataFrame.from_dict(sum_count, orient='columns')\n",
    "data_sum_count.head()"
   ]
  },
  {
   "cell_type": "code",
   "execution_count": 218,
   "metadata": {},
   "outputs": [
    {
     "data": {
      "text/plain": [
       "<matplotlib.axes._subplots.AxesSubplot at 0x7f58448c0908>"
      ]
     },
     "execution_count": 218,
     "metadata": {},
     "output_type": "execute_result"
    },
    {
     "data": {
      "image/png": "[encoded data removed]",
      "text/plain": [
       "<Figure size 432x288 with 1 Axes>"
      ]
     },
     "metadata": {},
     "output_type": "display_data"
    }
   ],
   "source": [
    "# используем первые 5 самых релевантных групп VK \n",
    "\n",
    "# посчитаем разницу между участием пользователей из разных групп\n",
    "# и построим график участия в темах этих групп (НТВ и TVRAIN)\n",
    "data_sum_count['delta'] = data_sum_count['uids_only_ntv'] - data_sum_count['uids_only_tvrain']\n",
    "data_sum_count.sort_values(by='delta')[['uids_only_ntv','uids_only_tvrain']].plot.bar()"
   ]
  },
  {
   "cell_type": "code",
   "execution_count": 219,
   "metadata": {},
   "outputs": [
    {
     "data": {
      "text/plain": [
       "<matplotlib.axes._subplots.AxesSubplot at 0x7f58455b05f8>"
      ]
     },
     "execution_count": 219,
     "metadata": {},
     "output_type": "execute_result"
    },
    {
     "data": {
      "image/png": "[encoded data removed]",
      "text/plain": [
       "<Figure size 432x288 with 1 Axes>"
      ]
     },
     "metadata": {},
     "output_type": "display_data"
    }
   ],
   "source": [
    "# построим график участия в темах этих групп (НТВ, TVRAIN и пользователей из обейх групп)\n",
    "data_sum_count.sort_values(by='delta')[['uids_only_ntv','uids_only_tvrain','uids_ntv_and_tvrain']].plot.bar()"
   ]
  },
  {
   "cell_type": "code",
   "execution_count": 220,
   "metadata": {},
   "outputs": [],
   "source": [
    "# получим индексы отсортированные по разнице участия пользователей разных групп\n",
    "index_ntv_vs_tvrain = data_sum_count.sort_values(by='delta')[['uids_only_ntv','uids_only_tvrain']].index"
   ]
  },
  {
   "cell_type": "code",
   "execution_count": 221,
   "metadata": {},
   "outputs": [
    {
     "name": "stdout",
     "output_type": "stream",
     "text": [
      "The most typical groups for every topic\n",
      "6 комплект цена размер фото чехол сантиметр доставка цвета отличный ручка\n",
      "Стилист AliExpress http://vk.com/club116849953\n",
      "Детский Алиэкспресс http://vk.com/club121010318\n",
      "Покраска авто/ Кузовной ремонт| Балашиха http://vk.com/club162323190\n",
      "От мамы к маме в Тосно http://vk.com/club103852839\n",
      "Лучшие автомобили http://vk.com/club35807044\n",
      "Проставки Starleks Колесный крепеж С-Пб http://vk.com/club78784215\n",
      "Алихакерша http://vk.com/club130271299\n",
      "Куплю - Продам  / Всеволожск / http://vk.com/club32485174\n",
      "Пошлые GIF | Гифки 18+ http://vk.com/club148010585\n",
      "Своими руками (Творчество, Шитье, Выкройки) http://vk.com/club38966129\n",
      "\n",
      "14 матч лига сборный полузащитник сборная игрок турнир уефа чемпионат кубок\n",
      "Макияж http://vk.com/club57797738\n",
      "АРТ искусство http://vk.com/club25813425\n",
      "Договорные матчи |  ISKRA_BET http://vk.com/club64632388\n",
      "Милости Пряности http://vk.com/club21196992\n",
      "Aesthetic  Fitness http://vk.com/club49824939\n",
      "9GAG http://vk.com/club32041317\n",
      "Прогнозы от Best Capper in Live http://vk.com/club49884862\n",
      "Лучшие гифки | GIF Бот http://vk.com/club39703413\n",
      "EMPIRE | История Человечества http://vk.com/club61134563\n",
      "Наука и Факты http://vk.com/club34118551\n",
      "\n",
      "17 группа ноябрь ждать участие друг человек город рубль новое участник\n",
      "QuestGuRu |СПб| Живые квесты Санкт-Петербург http://vk.com/club90571513\n",
      "ИнфоБлок Университета имени О.Е. Кутафина (МГЮА) http://vk.com/club158899\n",
      "TRIP4YOU Дешевые путешествия, туры, авиабилеты http://vk.com/club136893577\n",
      "Семейный Доктор Кудрово Столичная 4 к.3 http://vk.com/club170649800\n",
      "SFAP  |  Спортивные девушки http://vk.com/club33390409\n",
      "АРЕНДА АПАРТАМЕНТОВ В ИСПАНИИ. КОСТА БРАВА. http://vk.com/club36125590\n",
      "Цифровые геотехнологии http://vk.com/club171230588\n",
      "Детский клуб \"Игротека\" http://vk.com/club152182636\n",
      "Идеи дизайна интерьера http://vk.com/club36184135\n",
      "Olimpis.ru http://vk.com/club77194271\n",
      "\n",
      "4 très cest хупа котора гpyппа спряжение peut votr quel кипур\n",
      "Красивые Азиатки http://vk.com/club93974927\n",
      "Путешествия http://vk.com/club106750613\n",
      "мемная папка http://vk.com/club112510790\n",
      "Мужские мысли http://vk.com/club25397178\n",
      "Милые иллюстрации http://vk.com/club51880996\n",
      "эй свинтура http://vk.com/club94441079\n",
      "Royal Comics™  18+ http://vk.com/club157021059\n",
      "Ёрш - юмор, приколы http://vk.com/club20865272\n",
      "Дореволюціонный Совѣтчикъ http://vk.com/club29604206\n",
      "Imperial Geek Style! http://vk.com/club63072437\n",
      "\n",
      "10 реал сборная лига ювентус боруссия тоттенхэма ливерпуль бундеслига матч интер\n",
      "МУРКИ | эротика, НЮ.арт http://vk.com/club79238546\n",
      "Ева | эротика, НЮ.арт http://vk.com/club79641737\n",
      "Ябвдул 18+ http://vk.com/club50630084\n",
      "A I R P H O T O http://vk.com/club134501407\n",
      "Travelling | Путешествия http://vk.com/club56978134\n",
      "TIGER - Мужской журнал http://vk.com/club39144813\n",
      "Футбол в стиле Ретро (16+) http://vk.com/club44473776\n",
      "Ищу модель Москва http://vk.com/club148245515\n",
      "Интересные штуки http://vk.com/club45613675\n",
      "Ищу модель Москва http://vk.com/club154182749\n",
      "\n",
      "8 природа человеческий страх сознание глубокий небо окружающий солнце существовать земля\n",
      "Тёмный Уголок http://vk.com/club45091870\n",
      "Мевляна Джалаладдин Руми http://vk.com/club32737353\n",
      "Шри Шри Анандамурти http://vk.com/club30860251\n",
      "Грустные песни и цитаты советских психологов http://vk.com/club171683615\n",
      "Преподобный Паисий Святогорец http://vk.com/club26457853\n",
      "Православный христианин http://vk.com/club171595240\n",
      "Мудрость Любви ♥ http://vk.com/club34314108\n",
      "Протоиерей АРТЕМИЙ ВЛАДИМИРОВ(сообщество друзей) http://vk.com/club38489461\n",
      "Шри Нисаргадатта Махарадж. Ответы и наставления http://vk.com/club131593346\n",
      "Живая Этика о Тонком Мире и Дальних Мирах http://vk.com/club121849669\n",
      "\n",
      "2 бoльшoгo гoвopть еcть кoтоpый мoжете тыcячий пoзвoлить зaмeнить былo xoчета\n",
      "Wonders of the World | Путешествия http://vk.com/club23964485\n",
      "Design &amp; Decor http://vk.com/club33143967\n",
      "Бумажный кораблик http://vk.com/club127661835\n",
      "Мантра http://vk.com/club272049\n",
      "iFeed http://vk.com/club26858816\n",
      "ПОТРАЧЕНО http://vk.com/club40492794\n",
      "Мужской журнал | Эротика http://vk.com/club15738223\n",
      "Тысяча чертей, какая татуировка! http://vk.com/club26776509\n",
      "Видео ВатсАпп | Тик Ток | Tik Tok 16+ http://vk.com/club39957438\n",
      "Музыка в машину http://vk.com/club23983339\n",
      "\n",
      "11 love time music night like black good live come world\n",
      "LikeWhat? http://vk.com/club68407107\n",
      "Reddit http://vk.com/club56590488\n",
      "Video English (www.EngVid.com) http://vk.com/club37291040\n",
      "9gag http://vk.com/club35579519\n",
      "Best of Tumblr http://vk.com/club24284258\n",
      "ВУЛКАН http://vk.com/club141931663\n",
      "/r/Pics http://vk.com/club35559455\n",
      "Book of the Week | Drama | BBC Radio 4 http://vk.com/club84750475\n",
      "Sickipedia http://vk.com/club55955185\n",
      "Best audiobooks in English http://vk.com/club69777695\n",
      "\n",
      "3 новое последний человек группа выйти история момент друг проект знать\n",
      "LIVE http://vk.com/club2158488\n",
      "«Гуру» автоворонок http://vk.com/club169601778\n",
      "Карты Visa Virtual (VisaVirtual.ru) http://vk.com/club36179901\n",
      "Блог современного инвестора. Федор Сидоров http://vk.com/club147042034\n",
      "Лидогенерация для инфобизнеса под ключ http://vk.com/club155234339\n",
      "Sport Invest | Инвестиции в спорт http://vk.com/club120998350\n",
      "ZMSEO - плагин для WordPress http://vk.com/club169316719\n",
      "Таргет без купюр - агентство интернет-рекламы http://vk.com/club112634825\n",
      "You 2D http://vk.com/club173871233\n",
      "Клуб развития трейдеров, инвесторов XELIUS GROUP http://vk.com/club29413868\n",
      "\n",
      "13 нарушение установка эксплуатация участок установить установленный применение снижение обеспечение повреждение\n",
      "Lady's Beauty | Макияж, Маникюр, Прически http://vk.com/club49063005\n",
      "Новости кардиологии | ATP Cardiology news http://vk.com/club101728114\n",
      "СТРОИТЕЛЬСТВО http://vk.com/club30713157\n",
      "Стоматология❜ http://vk.com/club159719\n",
      "Ремонт, строительство|Построй уДАЧУ, дом http://vk.com/club90351338\n",
      "Охрана труда http://vk.com/club26751260\n",
      "Проектирование  |Обследование зданий |Геотехника http://vk.com/club152526876\n",
      "Деревянные дома | Идеи строительство ремонт http://vk.com/club88067174\n",
      "Удачная дача http://vk.com/club143897262\n",
      "MedBooks|Медкниги http://vk.com/club66567433\n",
      "\n",
      "7 ингредиент масло приготовление рецепт вкусный яйцо соль приготовить овощ вкус\n",
      "Рецепты http://vk.com/club30187757\n",
      "Рецепты. Кулинария. Только между нами. http://vk.com/club86029012\n",
      "Вкусные Шедевры http://vk.com/club59764257\n",
      "Искусство кулинарии http://vk.com/club44525374\n",
      "✿ Рататуй | Лучшие рецепты | Кулинария http://vk.com/club68249569\n",
      "Готовим дома: Десерты. Торты. Выпечка. http://vk.com/club97696957\n",
      "Мишка Пышка http://vk.com/club120853971\n",
      "Кулинарные мелочи http://vk.com/club52026163\n",
      "Рецепты для мультиварки http://vk.com/club43706510\n",
      "Бюджетные рецепты🍴 http://vk.com/club150015423\n",
      "\n",
      "19 мoжнo этoт тoлькo чтoб ecть тaкoть oчeнь бoльшe этoгo этoм\n",
      "Знакомства TOPFACE http://vk.com/club25678227\n",
      "Art for adults http://vk.com/club36202321\n",
      "Creative dimension. http://vk.com/club60370579\n",
      "F • Y • A http://vk.com/club47926958\n",
      "Гений креатива http://vk.com/club45770903\n",
      "ARTONCE http://vk.com/club71600914\n",
      "Jam's Stuff http://vk.com/club52045040\n",
      "ВЯЗАНИЕ http://vk.com/club114422908\n",
      "Мой ребенок ♥ http://vk.com/club49100345\n",
      "Your Live Art http://vk.com/club101088482\n",
      "\n",
      "15 советский памятник музей война николай военный ссср исторический церковь александр\n",
      "Нарисованный Петербург http://vk.com/club27675466\n",
      "Парадные Петербурга http://vk.com/club135148251\n",
      "Сайт ristikivi.spb.ru http://vk.com/club57174712\n",
      "Петербург | Было • Стало http://vk.com/club139623703\n",
      "А ты знал? http://vk.com/club145187576\n",
      "Санкт-Петербург | История Питера http://vk.com/club122155308\n",
      "Моя Армения http://vk.com/club61216880\n",
      "Мугинштейн Михаил Львович http://vk.com/club43453070\n",
      "КБ http://vk.com/club67580761\n",
      "Какой сегодня день? http://vk.com/club62356564\n",
      "\n",
      "16 гифка cнoвa нaшe cтoлькo любoм эпоксидка дepжито фoтoгpaфия приспособ мaлeнькaть\n",
      "Капризная Княжна http://vk.com/club79553695\n",
      "New Retro Wave http://vk.com/club53406052\n",
      "Тёплая музыка http://vk.com/club26797336\n",
      "ФРАНКЛИН http://vk.com/club148945085\n",
      "Вопрос времени http://vk.com/club160036323\n",
      "ТНТ http://vk.com/club3166004\n",
      "Беларуская інтэлектуальная гульня http://vk.com/club103035548\n",
      "Прикольные Гифки Gif Гиф http://vk.com/club46257842\n",
      "Мода http://vk.com/club39043096\n",
      "Современное искусство http://vk.com/club35486596\n",
      "\n",
      "9 спортпить запчасть цевьё интернетмагазин подписота прямоток индексный 1448 шестерня баррель\n"
     ]
    },
    {
     "name": "stdout",
     "output_type": "stream",
     "text": [
      "Рыжий Художник http://vk.com/club41535684\n",
      "a. COUNTRY http://vk.com/club126583244\n",
      "Стройка - Строительство и Ремонт http://vk.com/club144392420\n",
      "Психология | Философия | Саморазвитие http://vk.com/club63727982\n",
      "ТАТУИРОВКИ http://vk.com/club151565964\n",
      "Официальная группа компании El Corazon http://vk.com/club107471145\n",
      "Пошлая кокетка http://vk.com/club150829605\n",
      "Соционика ψ Психология http://vk.com/club34665995\n",
      "TECHNOLOGY - познавательный журнал http://vk.com/club41493591\n",
      "Lightroom CC -  пресеты для телефона - iPhone http://vk.com/club170857135\n",
      "\n",
      "18 человек знать жизнь думать друг любить видеть найти рука жить\n",
      "Жизненный Путь http://vk.com/club162621591\n",
      "С нами стыдно, зато весело! http://vk.com/club46466345\n",
      "Живу в Карелии. http://vk.com/club172234087\n",
      "REAL LIFE STORIES http://vk.com/club67937582\n",
      "Весы ( 5 января ) http://vk.com/club34527881\n",
      "Они тупые? http://vk.com/club147710263\n",
      "Survivor http://vk.com/club32906584\n",
      "Эстонская гончая http://vk.com/club38502751\n",
      "Best Video http://vk.com/club63758929\n",
      "Опасная Земля http://vk.com/club150802579\n",
      "\n",
      "5 трек music пластинка лейбл сингл вокал сольный музыкант ремикс хип-хоп\n",
      "Your Look http://vk.com/club129584070\n",
      "Школа рисования http://vk.com/club39498543\n",
      "- ADV CLUB | Авто, Мото, Тюнинг http://vk.com/club9494209\n",
      "МК18+ : Мужской Клуб 18+ http://vk.com/club24532152\n",
      "1000 фактов http://vk.com/club154308202\n",
      "Сайт №1 про ПИВО, ПАБЫ и БАРЫ в Украине http://vk.com/club27853622\n",
      "технологии будущего http://vk.com/club135897440\n",
      "British humor http://vk.com/club88497493\n",
      "Oh - whoops http://vk.com/club112041023\n",
      "Прогнозы на Спорт. Инсайдерская информация. http://vk.com/club51247454\n",
      "\n",
      "12 сочный вкусно полусредний весовой пивоварня бокал нефильтрованный мейвезер атлетический полутяжёлый\n",
      "Exclusive music http://vk.com/club39190134\n",
      "Relax Art ™ http://vk.com/club45777592\n",
      "Пошлые селфи http://vk.com/club50939110\n",
      "Betraveler | Добро пожаловать на Землю http://vk.com/club26127512\n",
      "В РАЙ НА S-CLASS’E http://vk.com/club3967885\n",
      "Орнаменталика http://vk.com/club21596696\n",
      "Энциклопедия хозяйки|Рецепты.Кулинарные хитрости http://vk.com/club60971453\n",
      "Корпорация Юмора ツ http://vk.com/club23537466\n",
      "Берёзка http://vk.com/club38594501\n",
      "mockups http://vk.com/club51494670\n",
      "\n",
      "0 фильм жизнь любовь человек драма приключение жить сериал актёр детектив\n",
      "Сериалы http://vk.com/club24834794\n",
      "НОВИНКИ КИНО 2019 http://vk.com/club90253744\n",
      "HD Кино - Фильмы онлайн 2019 http://vk.com/club123915905\n",
      "Я ❤ КИНО http://vk.com/club113071474\n",
      "Дева http://vk.com/club54365538\n",
      "Русские Музыкальные Новинки 2019 http://vk.com/club31317869\n",
      "Убойные Гифки Gif Гиф http://vk.com/club46714172\n",
      "Just Хуманизация|Арты http://vk.com/club132990808\n",
      "Фильмы HD http://vk.com/club70905722\n",
      "BrainUP | Саморазвитие http://vk.com/club70427221\n",
      "\n",
      "1 цвета стиль красивый стильный скидка платье коллекция заказ модель цвет\n",
      "Мысли делают нас http://vk.com/club39265861\n",
      "Саморазвитие http://vk.com/club38182092\n",
      "Слова Великих людей http://vk.com/club28981879\n",
      "Барышня's Secret http://vk.com/club52913509\n",
      "Магазин женской одежды и пальто GLAM CASUAL  СПб http://vk.com/club173243732\n",
      "STREET STYLE http://vk.com/club34596709\n",
      "Интернет магазин для всей семьи!👗👖👔👨‍👩‍👧‍👧 http://vk.com/club118426631\n",
      "FASHION  мода http://vk.com/club33404310\n",
      "Oversee 🔞 http://vk.com/club58020252\n",
      "МАЙКИ ! http://vk.com/club26340610\n",
      "\n"
     ]
    }
   ],
   "source": [
    "# распечатаем темы и первые 10 групп самые релевантные темам \n",
    "# в соответствии с полученой последовательностью тем\n",
    "print(\"The most typical groups for every topic\")\n",
    "for i in index_ntv_vs_tvrain:\n",
    "    terms = justlda.get_topic_terms(i)\n",
    "    print(i, ' '.join(map(lambda x: mycorp.dictionary.get(x[0]), terms)))\n",
    "    typical_groups = check_pd_20[i].sort_values(ascending=False).index[:10]\n",
    "    for g in typical_groups:\n",
    "        group_info = vk_get_response(\n",
    "            'groups.getById', 'group_ids={0}&v=4.9&lang=ru'.format(g), access_token\n",
    "        )\n",
    "        print(group_info['response'][0]['name'] + ' ' + 'http://vk.com/club' + str(g))\n",
    "        time.sleep(0.3)\n",
    "    print()"
   ]
  },
  {
   "cell_type": "code",
   "execution_count": 211,
   "metadata": {},
   "outputs": [
    {
     "data": {
      "text/plain": [
       "<matplotlib.axes._subplots.AxesSubplot at 0x7f58455b0240>"
      ]
     },
     "execution_count": 211,
     "metadata": {},
     "output_type": "execute_result"
    },
    {
     "data": {
      "image/png": "[encoded data removed]",
      "text/plain": [
       "<Figure size 432x288 with 1 Axes>"
      ]
     },
     "metadata": {},
     "output_type": "display_data"
    }
   ],
   "source": [
    "# используем первые 10 самых релевантных групп VK \n",
    "\n",
    "# посчитаем разницу между участием пользователей из разных групп\n",
    "# и построим график участия в темах этих групп (НТВ и TVRAIN)\n",
    "data_sum_count['delta'] = data_sum_count['uids_only_ntv'] - data_sum_count['uids_only_tvrain']\n",
    "data_sum_count.sort_values(by='delta')[['uids_only_ntv','uids_only_tvrain']].plot.bar()"
   ]
  },
  {
   "cell_type": "code",
   "execution_count": 212,
   "metadata": {},
   "outputs": [
    {
     "data": {
      "text/plain": [
       "<matplotlib.axes._subplots.AxesSubplot at 0x7f583a8c81d0>"
      ]
     },
     "execution_count": 212,
     "metadata": {},
     "output_type": "execute_result"
    },
    {
     "data": {
      "image/png": "[encoded data removed]",
      "text/plain": [
       "<Figure size 432x288 with 1 Axes>"
      ]
     },
     "metadata": {},
     "output_type": "display_data"
    }
   ],
   "source": [
    "# построим график участия в темах этих групп (НТВ, TVRAIN и пользователей из обейх групп)\n",
    "data_sum_count.sort_values(by='delta')[['uids_only_ntv','uids_only_tvrain','uids_ntv_and_tvrain']].plot.bar()"
   ]
  },
  {
   "cell_type": "code",
   "execution_count": 213,
   "metadata": {},
   "outputs": [],
   "source": [
    "# получим индексы отсортированные по разнице участия пользователей разных групп\n",
    "index_ntv_vs_tvrain = data_sum_count.sort_values(by='delta')[['uids_only_ntv','uids_only_tvrain']].index"
   ]
  },
  {
   "cell_type": "code",
   "execution_count": 214,
   "metadata": {},
   "outputs": [
    {
     "name": "stdout",
     "output_type": "stream",
     "text": [
      "The most typical groups for every topic\n",
      "17 группа ноябрь ждать участие друг человек город рубль новое участник\n",
      "QuestGuRu |СПб| Живые квесты Санкт-Петербург http://vk.com/club90571513\n",
      "ИнфоБлок Университета имени О.Е. Кутафина (МГЮА) http://vk.com/club158899\n",
      "TRIP4YOU Дешевые путешествия, туры, авиабилеты http://vk.com/club136893577\n",
      "Семейный Доктор Кудрово Столичная 4 к.3 http://vk.com/club170649800\n",
      "SFAP  |  Спортивные девушки http://vk.com/club33390409\n",
      "АРЕНДА АПАРТАМЕНТОВ В ИСПАНИИ. КОСТА БРАВА. http://vk.com/club36125590\n",
      "Цифровые геотехнологии http://vk.com/club171230588\n",
      "Детский клуб \"Игротека\" http://vk.com/club152182636\n",
      "Идеи дизайна интерьера http://vk.com/club36184135\n",
      "Olimpis.ru http://vk.com/club77194271\n",
      "\n",
      "6 комплект цена размер фото чехол сантиметр доставка цвета отличный ручка\n",
      "Стилист AliExpress http://vk.com/club116849953\n",
      "Детский Алиэкспресс http://vk.com/club121010318\n",
      "Покраска авто/ Кузовной ремонт| Балашиха http://vk.com/club162323190\n",
      "От мамы к маме в Тосно http://vk.com/club103852839\n",
      "Лучшие автомобили http://vk.com/club35807044\n",
      "Проставки Starleks Колесный крепеж С-Пб http://vk.com/club78784215\n",
      "Алихакерша http://vk.com/club130271299\n",
      "Куплю - Продам  / Всеволожск / http://vk.com/club32485174\n",
      "Пошлые GIF | Гифки 18+ http://vk.com/club148010585\n",
      "Своими руками (Творчество, Шитье, Выкройки) http://vk.com/club38966129\n",
      "\n",
      "10 реал сборная лига ювентус боруссия тоттенхэма ливерпуль бундеслига матч интер\n",
      "МУРКИ | эротика, НЮ.арт http://vk.com/club79238546\n",
      "Ева | эротика, НЮ.арт http://vk.com/club79641737\n",
      "Ябвдул 18+ http://vk.com/club50630084\n",
      "A I R P H O T O http://vk.com/club134501407\n",
      "Travelling | Путешествия http://vk.com/club56978134\n",
      "TIGER - Мужской журнал http://vk.com/club39144813\n",
      "Футбол в стиле Ретро (16+) http://vk.com/club44473776\n",
      "Ищу модель Москва http://vk.com/club148245515\n",
      "Интересные штуки http://vk.com/club45613675\n",
      "Ищу модель Москва http://vk.com/club154182749\n",
      "\n",
      "4 très cest хупа котора гpyппа спряжение peut votr quel кипур\n",
      "Красивые Азиатки http://vk.com/club93974927\n",
      "Путешествия http://vk.com/club106750613\n",
      "мемная папка http://vk.com/club112510790\n",
      "Мужские мысли http://vk.com/club25397178\n",
      "Милые иллюстрации http://vk.com/club51880996\n",
      "эй свинтура http://vk.com/club94441079\n",
      "Royal Comics™  18+ http://vk.com/club157021059\n",
      "Ёрш - юмор, приколы http://vk.com/club20865272\n",
      "Дореволюціонный Совѣтчикъ http://vk.com/club29604206\n",
      "Imperial Geek Style! http://vk.com/club63072437\n",
      "\n",
      "2 бoльшoгo гoвopть еcть кoтоpый мoжете тыcячий пoзвoлить зaмeнить былo xoчета\n",
      "Wonders of the World | Путешествия http://vk.com/club23964485\n",
      "Design &amp; Decor http://vk.com/club33143967\n",
      "Бумажный кораблик http://vk.com/club127661835\n",
      "Мантра http://vk.com/club272049\n",
      "iFeed http://vk.com/club26858816\n",
      "ПОТРАЧЕНО http://vk.com/club40492794\n",
      "Мужской журнал | Эротика http://vk.com/club15738223\n",
      "Тысяча чертей, какая татуировка! http://vk.com/club26776509\n",
      "Видео ВатсАпп | Тик Ток | Tik Tok 16+ http://vk.com/club39957438\n",
      "Музыка в машину http://vk.com/club23983339\n",
      "\n",
      "19 мoжнo этoт тoлькo чтoб ecть тaкoть oчeнь бoльшe этoгo этoм\n",
      "Знакомства TOPFACE http://vk.com/club25678227\n",
      "Art for adults http://vk.com/club36202321\n",
      "Creative dimension. http://vk.com/club60370579\n",
      "F • Y • A http://vk.com/club47926958\n",
      "Гений креатива http://vk.com/club45770903\n",
      "ARTONCE http://vk.com/club71600914\n",
      "Jam's Stuff http://vk.com/club52045040\n",
      "ВЯЗАНИЕ http://vk.com/club114422908\n",
      "Мой ребенок ♥ http://vk.com/club49100345\n",
      "Your Live Art http://vk.com/club101088482\n",
      "\n",
      "8 природа человеческий страх сознание глубокий небо окружающий солнце существовать земля\n",
      "Тёмный Уголок http://vk.com/club45091870\n",
      "Мевляна Джалаладдин Руми http://vk.com/club32737353\n",
      "Шри Шри Анандамурти http://vk.com/club30860251\n",
      "Грустные песни и цитаты советских психологов http://vk.com/club171683615\n",
      "Преподобный Паисий Святогорец http://vk.com/club26457853\n",
      "Православный христианин http://vk.com/club171595240\n",
      "Мудрость Любви ♥ http://vk.com/club34314108\n",
      "Протоиерей АРТЕМИЙ ВЛАДИМИРОВ(сообщество друзей) http://vk.com/club38489461\n",
      "Шри Нисаргадатта Махарадж. Ответы и наставления http://vk.com/club131593346\n",
      "Живая Этика о Тонком Мире и Дальних Мирах http://vk.com/club121849669\n",
      "\n",
      "14 матч лига сборный полузащитник сборная игрок турнир уефа чемпионат кубок\n",
      "Макияж http://vk.com/club57797738\n",
      "АРТ искусство http://vk.com/club25813425\n",
      "Договорные матчи |  ISKRA_BET http://vk.com/club64632388\n",
      "Милости Пряности http://vk.com/club21196992\n",
      "Aesthetic  Fitness http://vk.com/club49824939\n",
      "9GAG http://vk.com/club32041317\n",
      "Прогнозы от Best Capper in Live http://vk.com/club49884862\n",
      "Лучшие гифки | GIF Бот http://vk.com/club39703413\n",
      "EMPIRE | История Человечества http://vk.com/club61134563\n",
      "Наука и Факты http://vk.com/club34118551\n",
      "\n",
      "3 новое последний человек группа выйти история момент друг проект знать\n",
      "LIVE http://vk.com/club2158488\n",
      "«Гуру» автоворонок http://vk.com/club169601778\n",
      "Карты Visa Virtual (VisaVirtual.ru) http://vk.com/club36179901\n",
      "Блог современного инвестора. Федор Сидоров http://vk.com/club147042034\n",
      "Лидогенерация для инфобизнеса под ключ http://vk.com/club155234339\n",
      "Sport Invest | Инвестиции в спорт http://vk.com/club120998350\n",
      "ZMSEO - плагин для WordPress http://vk.com/club169316719\n",
      "Таргет без купюр - агентство интернет-рекламы http://vk.com/club112634825\n",
      "You 2D http://vk.com/club173871233\n",
      "Клуб развития трейдеров, инвесторов XELIUS GROUP http://vk.com/club29413868\n",
      "\n",
      "1 цвета стиль красивый стильный скидка платье коллекция заказ модель цвет\n",
      "Мысли делают нас http://vk.com/club39265861\n",
      "Саморазвитие http://vk.com/club38182092\n",
      "Слова Великих людей http://vk.com/club28981879\n",
      "Барышня's Secret http://vk.com/club52913509\n",
      "Магазин женской одежды и пальто GLAM CASUAL  СПб http://vk.com/club173243732\n",
      "STREET STYLE http://vk.com/club34596709\n",
      "Интернет магазин для всей семьи!👗👖👔👨‍👩‍👧‍👧 http://vk.com/club118426631\n",
      "FASHION  мода http://vk.com/club33404310\n",
      "Oversee 🔞 http://vk.com/club58020252\n",
      "МАЙКИ ! http://vk.com/club26340610\n",
      "\n",
      "13 нарушение установка эксплуатация участок установить установленный применение снижение обеспечение повреждение\n",
      "Lady's Beauty | Макияж, Маникюр, Прически http://vk.com/club49063005\n",
      "Новости кардиологии | ATP Cardiology news http://vk.com/club101728114\n",
      "СТРОИТЕЛЬСТВО http://vk.com/club30713157\n",
      "Стоматология❜ http://vk.com/club159719\n",
      "Ремонт, строительство|Построй уДАЧУ, дом http://vk.com/club90351338\n",
      "Охрана труда http://vk.com/club26751260\n",
      "Проектирование  |Обследование зданий |Геотехника http://vk.com/club152526876\n",
      "Деревянные дома | Идеи строительство ремонт http://vk.com/club88067174\n",
      "Удачная дача http://vk.com/club143897262\n",
      "MedBooks|Медкниги http://vk.com/club66567433\n",
      "\n",
      "16 гифка cнoвa нaшe cтoлькo любoм эпоксидка дepжито фoтoгpaфия приспособ мaлeнькaть\n",
      "Капризная Княжна http://vk.com/club79553695\n",
      "New Retro Wave http://vk.com/club53406052\n",
      "Тёплая музыка http://vk.com/club26797336\n",
      "ФРАНКЛИН http://vk.com/club148945085\n",
      "Вопрос времени http://vk.com/club160036323\n",
      "ТНТ http://vk.com/club3166004\n",
      "Беларуская інтэлектуальная гульня http://vk.com/club103035548\n",
      "Прикольные Гифки Gif Гиф http://vk.com/club46257842\n",
      "Мода http://vk.com/club39043096\n",
      "Современное искусство http://vk.com/club35486596\n",
      "\n",
      "15 советский памятник музей война николай военный ссср исторический церковь александр\n",
      "Нарисованный Петербург http://vk.com/club27675466\n",
      "Парадные Петербурга http://vk.com/club135148251\n",
      "Сайт ristikivi.spb.ru http://vk.com/club57174712\n",
      "Петербург | Было • Стало http://vk.com/club139623703\n",
      "А ты знал? http://vk.com/club145187576\n",
      "Санкт-Петербург | История Питера http://vk.com/club122155308\n",
      "Моя Армения http://vk.com/club61216880\n",
      "Мугинштейн Михаил Львович http://vk.com/club43453070\n",
      "КБ http://vk.com/club67580761\n",
      "Какой сегодня день? http://vk.com/club62356564\n",
      "\n",
      "7 ингредиент масло приготовление рецепт вкусный яйцо соль приготовить овощ вкус\n",
      "Рецепты http://vk.com/club30187757\n",
      "Рецепты. Кулинария. Только между нами. http://vk.com/club86029012\n",
      "Вкусные Шедевры http://vk.com/club59764257\n",
      "Искусство кулинарии http://vk.com/club44525374\n",
      "✿ Рататуй | Лучшие рецепты | Кулинария http://vk.com/club68249569\n",
      "Готовим дома: Десерты. Торты. Выпечка. http://vk.com/club97696957\n",
      "Мишка Пышка http://vk.com/club120853971\n",
      "Кулинарные мелочи http://vk.com/club52026163\n",
      "Рецепты для мультиварки http://vk.com/club43706510\n",
      "Бюджетные рецепты🍴 http://vk.com/club150015423\n"
     ]
    },
    {
     "name": "stdout",
     "output_type": "stream",
     "text": [
      "\n",
      "11 love time music night like black good live come world\n",
      "LikeWhat? http://vk.com/club68407107\n",
      "Reddit http://vk.com/club56590488\n",
      "Video English (www.EngVid.com) http://vk.com/club37291040\n",
      "9gag http://vk.com/club35579519\n",
      "Best of Tumblr http://vk.com/club24284258\n",
      "ВУЛКАН http://vk.com/club141931663\n",
      "/r/Pics http://vk.com/club35559455\n",
      "Book of the Week | Drama | BBC Radio 4 http://vk.com/club84750475\n",
      "Sickipedia http://vk.com/club55955185\n",
      "Best audiobooks in English http://vk.com/club69777695\n",
      "\n",
      "9 спортпить запчасть цевьё интернетмагазин подписота прямоток индексный 1448 шестерня баррель\n",
      "Рыжий Художник http://vk.com/club41535684\n",
      "a. COUNTRY http://vk.com/club126583244\n",
      "Стройка - Строительство и Ремонт http://vk.com/club144392420\n",
      "Психология | Философия | Саморазвитие http://vk.com/club63727982\n",
      "ТАТУИРОВКИ http://vk.com/club151565964\n",
      "Официальная группа компании El Corazon http://vk.com/club107471145\n",
      "Пошлая кокетка http://vk.com/club150829605\n",
      "Соционика ψ Психология http://vk.com/club34665995\n",
      "TECHNOLOGY - познавательный журнал http://vk.com/club41493591\n",
      "Lightroom CC -  пресеты для телефона - iPhone http://vk.com/club170857135\n",
      "\n",
      "12 сочный вкусно полусредний весовой пивоварня бокал нефильтрованный мейвезер атлетический полутяжёлый\n",
      "Exclusive music http://vk.com/club39190134\n",
      "Relax Art ™ http://vk.com/club45777592\n",
      "Пошлые селфи http://vk.com/club50939110\n",
      "Betraveler | Добро пожаловать на Землю http://vk.com/club26127512\n",
      "В РАЙ НА S-CLASS’E http://vk.com/club3967885\n",
      "Орнаменталика http://vk.com/club21596696\n",
      "Энциклопедия хозяйки|Рецепты.Кулинарные хитрости http://vk.com/club60971453\n",
      "Корпорация Юмора ツ http://vk.com/club23537466\n",
      "Берёзка http://vk.com/club38594501\n",
      "mockups http://vk.com/club51494670\n",
      "\n",
      "18 человек знать жизнь думать друг любить видеть найти рука жить\n",
      "Жизненный Путь http://vk.com/club162621591\n",
      "С нами стыдно, зато весело! http://vk.com/club46466345\n",
      "Живу в Карелии. http://vk.com/club172234087\n",
      "REAL LIFE STORIES http://vk.com/club67937582\n",
      "Весы ( 5 января ) http://vk.com/club34527881\n",
      "Они тупые? http://vk.com/club147710263\n",
      "Survivor http://vk.com/club32906584\n",
      "Эстонская гончая http://vk.com/club38502751\n",
      "Best Video http://vk.com/club63758929\n",
      "Опасная Земля http://vk.com/club150802579\n",
      "\n",
      "0 фильм жизнь любовь человек драма приключение жить сериал актёр детектив\n",
      "Сериалы http://vk.com/club24834794\n",
      "НОВИНКИ КИНО 2019 http://vk.com/club90253744\n",
      "HD Кино - Фильмы онлайн 2019 http://vk.com/club123915905\n",
      "Я ❤ КИНО http://vk.com/club113071474\n",
      "Дева http://vk.com/club54365538\n",
      "Русские Музыкальные Новинки 2019 http://vk.com/club31317869\n",
      "Убойные Гифки Gif Гиф http://vk.com/club46714172\n",
      "Just Хуманизация|Арты http://vk.com/club132990808\n",
      "Фильмы HD http://vk.com/club70905722\n",
      "BrainUP | Саморазвитие http://vk.com/club70427221\n",
      "\n",
      "5 трек music пластинка лейбл сингл вокал сольный музыкант ремикс хип-хоп\n",
      "Your Look http://vk.com/club129584070\n",
      "Школа рисования http://vk.com/club39498543\n",
      "- ADV CLUB | Авто, Мото, Тюнинг http://vk.com/club9494209\n",
      "МК18+ : Мужской Клуб 18+ http://vk.com/club24532152\n",
      "1000 фактов http://vk.com/club154308202\n",
      "Сайт №1 про ПИВО, ПАБЫ и БАРЫ в Украине http://vk.com/club27853622\n",
      "технологии будущего http://vk.com/club135897440\n",
      "British humor http://vk.com/club88497493\n",
      "Oh - whoops http://vk.com/club112041023\n",
      "Прогнозы на Спорт. Инсайдерская информация. http://vk.com/club51247454\n",
      "\n"
     ]
    }
   ],
   "source": [
    "# распечатаем темы и первые 10 групп самые релевантные темам \n",
    "# в соответствии с полученой последовательностью тем\n",
    "print(\"The most typical groups for every topic\")\n",
    "for i in index_ntv_vs_tvrain:\n",
    "    terms = justlda.get_topic_terms(i)\n",
    "    print(i, ' '.join(map(lambda x: mycorp.dictionary.get(x[0]), terms)))\n",
    "    typical_groups = check_pd_20[i].sort_values(ascending=False).index[:10]\n",
    "    for g in typical_groups:\n",
    "        group_info = vk_get_response(\n",
    "            'groups.getById', 'group_ids={0}&v=4.9&lang=ru'.format(g), access_token\n",
    "        )\n",
    "        print(group_info['response'][0]['name'] + ' ' + 'http://vk.com/club' + str(g))\n",
    "        time.sleep(0.3)\n",
    "    print()"
   ]
  },
  {
   "cell_type": "code",
   "execution_count": 204,
   "metadata": {},
   "outputs": [
    {
     "data": {
      "text/plain": [
       "<matplotlib.axes._subplots.AxesSubplot at 0x7f58455e2828>"
      ]
     },
     "execution_count": 204,
     "metadata": {},
     "output_type": "execute_result"
    },
    {
     "data": {
      "image/png": "[encoded data removed]",
      "text/plain": [
       "<Figure size 432x288 with 1 Axes>"
      ]
     },
     "metadata": {},
     "output_type": "display_data"
    }
   ],
   "source": [
    "# используем первые 100 самых релевантных групп VK \n",
    "\n",
    "# посчитаем разницу между участием пользователей из разных групп\n",
    "# и построим график участия в темах этих групп (НТВ и TVRAIN)\n",
    "data_sum_count['delta'] = data_sum_count['uids_only_ntv'] - data_sum_count['uids_only_tvrain']\n",
    "data_sum_count.sort_values(by='delta')[['uids_only_ntv','uids_only_tvrain']].plot.bar()"
   ]
  },
  {
   "cell_type": "code",
   "execution_count": 205,
   "metadata": {},
   "outputs": [
    {
     "data": {
      "text/plain": [
       "<matplotlib.axes._subplots.AxesSubplot at 0x7f583a8f25f8>"
      ]
     },
     "execution_count": 205,
     "metadata": {},
     "output_type": "execute_result"
    },
    {
     "data": {
      "image/png": "[encoded data removed]",
      "text/plain": [
       "<Figure size 432x288 with 1 Axes>"
      ]
     },
     "metadata": {},
     "output_type": "display_data"
    }
   ],
   "source": [
    "# построим график участия в темах этих групп (НТВ, TVRAIN и пользователей из обейх групп)\n",
    "data_sum_count.sort_values(by='delta')[['uids_only_ntv','uids_only_tvrain','uids_ntv_and_tvrain']].plot.bar()"
   ]
  },
  {
   "cell_type": "code",
   "execution_count": 206,
   "metadata": {},
   "outputs": [],
   "source": [
    "# получим индексы отсортированные по разнице участия пользователей разных групп\n",
    "index_ntv_vs_tvrain = data_sum_count.sort_values(by='delta')[['uids_only_ntv','uids_only_tvrain']].index"
   ]
  },
  {
   "cell_type": "code",
   "execution_count": 207,
   "metadata": {},
   "outputs": [
    {
     "name": "stdout",
     "output_type": "stream",
     "text": [
      "The most typical groups for every topic\n",
      "7 ингредиент масло приготовление рецепт вкусный яйцо соль приготовить овощ вкус\n",
      "Рецепты http://vk.com/club30187757\n",
      "Рецепты. Кулинария. Только между нами. http://vk.com/club86029012\n",
      "Вкусные Шедевры http://vk.com/club59764257\n",
      "Искусство кулинарии http://vk.com/club44525374\n",
      "✿ Рататуй | Лучшие рецепты | Кулинария http://vk.com/club68249569\n",
      "Готовим дома: Десерты. Торты. Выпечка. http://vk.com/club97696957\n",
      "Мишка Пышка http://vk.com/club120853971\n",
      "Кулинарные мелочи http://vk.com/club52026163\n",
      "Рецепты для мультиварки http://vk.com/club43706510\n",
      "Бюджетные рецепты🍴 http://vk.com/club150015423\n",
      "\n",
      "8 природа человеческий страх сознание глубокий небо окружающий солнце существовать земля\n",
      "Тёмный Уголок http://vk.com/club45091870\n",
      "Мевляна Джалаладдин Руми http://vk.com/club32737353\n",
      "Шри Шри Анандамурти http://vk.com/club30860251\n",
      "Грустные песни и цитаты советских психологов http://vk.com/club171683615\n",
      "Преподобный Паисий Святогорец http://vk.com/club26457853\n",
      "Православный христианин http://vk.com/club171595240\n",
      "Мудрость Любви ♥ http://vk.com/club34314108\n",
      "Протоиерей АРТЕМИЙ ВЛАДИМИРОВ(сообщество друзей) http://vk.com/club38489461\n",
      "Шри Нисаргадатта Махарадж. Ответы и наставления http://vk.com/club131593346\n",
      "Живая Этика о Тонком Мире и Дальних Мирах http://vk.com/club121849669\n",
      "\n",
      "1 цвета стиль красивый стильный скидка платье коллекция заказ модель цвет\n",
      "Мысли делают нас http://vk.com/club39265861\n",
      "Саморазвитие http://vk.com/club38182092\n",
      "Слова Великих людей http://vk.com/club28981879\n",
      "Барышня's Secret http://vk.com/club52913509\n",
      "Магазин женской одежды и пальто GLAM CASUAL  СПб http://vk.com/club173243732\n",
      "STREET STYLE http://vk.com/club34596709\n",
      "Интернет магазин для всей семьи!👗👖👔👨‍👩‍👧‍👧 http://vk.com/club118426631\n",
      "FASHION  мода http://vk.com/club33404310\n",
      "Oversee 🔞 http://vk.com/club58020252\n",
      "МАЙКИ ! http://vk.com/club26340610\n",
      "\n",
      "17 группа ноябрь ждать участие друг человек город рубль новое участник\n",
      "QuestGuRu |СПб| Живые квесты Санкт-Петербург http://vk.com/club90571513\n",
      "ИнфоБлок Университета имени О.Е. Кутафина (МГЮА) http://vk.com/club158899\n",
      "TRIP4YOU Дешевые путешествия, туры, авиабилеты http://vk.com/club136893577\n",
      "Семейный Доктор Кудрово Столичная 4 к.3 http://vk.com/club170649800\n",
      "SFAP  |  Спортивные девушки http://vk.com/club33390409\n",
      "АРЕНДА АПАРТАМЕНТОВ В ИСПАНИИ. КОСТА БРАВА. http://vk.com/club36125590\n",
      "Цифровые геотехнологии http://vk.com/club171230588\n",
      "Детский клуб \"Игротека\" http://vk.com/club152182636\n",
      "Идеи дизайна интерьера http://vk.com/club36184135\n",
      "Olimpis.ru http://vk.com/club77194271\n",
      "\n",
      "19 мoжнo этoт тoлькo чтoб ecть тaкoть oчeнь бoльшe этoгo этoм\n",
      "Знакомства TOPFACE http://vk.com/club25678227\n",
      "Art for adults http://vk.com/club36202321\n",
      "Creative dimension. http://vk.com/club60370579\n",
      "F • Y • A http://vk.com/club47926958\n",
      "Гений креатива http://vk.com/club45770903\n",
      "ARTONCE http://vk.com/club71600914\n",
      "Jam's Stuff http://vk.com/club52045040\n",
      "ВЯЗАНИЕ http://vk.com/club114422908\n",
      "Мой ребенок ♥ http://vk.com/club49100345\n",
      "Your Live Art http://vk.com/club101088482\n",
      "\n",
      "0 фильм жизнь любовь человек драма приключение жить сериал актёр детектив\n",
      "Сериалы http://vk.com/club24834794\n",
      "НОВИНКИ КИНО 2019 http://vk.com/club90253744\n",
      "HD Кино - Фильмы онлайн 2019 http://vk.com/club123915905\n",
      "Я ❤ КИНО http://vk.com/club113071474\n",
      "Дева http://vk.com/club54365538\n",
      "Русские Музыкальные Новинки 2019 http://vk.com/club31317869\n",
      "Убойные Гифки Gif Гиф http://vk.com/club46714172\n",
      "Just Хуманизация|Арты http://vk.com/club132990808\n",
      "Фильмы HD http://vk.com/club70905722\n",
      "BrainUP | Саморазвитие http://vk.com/club70427221\n",
      "\n",
      "6 комплект цена размер фото чехол сантиметр доставка цвета отличный ручка\n",
      "Стилист AliExpress http://vk.com/club116849953\n",
      "Детский Алиэкспресс http://vk.com/club121010318\n",
      "Покраска авто/ Кузовной ремонт| Балашиха http://vk.com/club162323190\n",
      "От мамы к маме в Тосно http://vk.com/club103852839\n",
      "Лучшие автомобили http://vk.com/club35807044\n",
      "Проставки Starleks Колесный крепеж С-Пб http://vk.com/club78784215\n",
      "Алихакерша http://vk.com/club130271299\n",
      "Куплю - Продам  / Всеволожск / http://vk.com/club32485174\n",
      "Пошлые GIF | Гифки 18+ http://vk.com/club148010585\n",
      "Своими руками (Творчество, Шитье, Выкройки) http://vk.com/club38966129\n",
      "\n",
      "15 советский памятник музей война николай военный ссср исторический церковь александр\n",
      "Нарисованный Петербург http://vk.com/club27675466\n",
      "Парадные Петербурга http://vk.com/club135148251\n",
      "Сайт ristikivi.spb.ru http://vk.com/club57174712\n",
      "Петербург | Было • Стало http://vk.com/club139623703\n",
      "А ты знал? http://vk.com/club145187576\n",
      "Санкт-Петербург | История Питера http://vk.com/club122155308\n",
      "Моя Армения http://vk.com/club61216880\n",
      "Мугинштейн Михаил Львович http://vk.com/club43453070\n",
      "КБ http://vk.com/club67580761\n",
      "Какой сегодня день? http://vk.com/club62356564\n",
      "\n",
      "16 гифка cнoвa нaшe cтoлькo любoм эпоксидка дepжито фoтoгpaфия приспособ мaлeнькaть\n",
      "Капризная Княжна http://vk.com/club79553695\n",
      "New Retro Wave http://vk.com/club53406052\n",
      "Тёплая музыка http://vk.com/club26797336\n",
      "ФРАНКЛИН http://vk.com/club148945085\n",
      "Вопрос времени http://vk.com/club160036323\n",
      "ТНТ http://vk.com/club3166004\n",
      "Беларуская інтэлектуальная гульня http://vk.com/club103035548\n",
      "Прикольные Гифки Gif Гиф http://vk.com/club46257842\n",
      "Мода http://vk.com/club39043096\n",
      "Современное искусство http://vk.com/club35486596\n",
      "\n",
      "3 новое последний человек группа выйти история момент друг проект знать\n",
      "LIVE http://vk.com/club2158488\n",
      "«Гуру» автоворонок http://vk.com/club169601778\n",
      "Карты Visa Virtual (VisaVirtual.ru) http://vk.com/club36179901\n",
      "Блог современного инвестора. Федор Сидоров http://vk.com/club147042034\n",
      "Лидогенерация для инфобизнеса под ключ http://vk.com/club155234339\n",
      "Sport Invest | Инвестиции в спорт http://vk.com/club120998350\n",
      "ZMSEO - плагин для WordPress http://vk.com/club169316719\n",
      "Таргет без купюр - агентство интернет-рекламы http://vk.com/club112634825\n",
      "You 2D http://vk.com/club173871233\n",
      "Клуб развития трейдеров, инвесторов XELIUS GROUP http://vk.com/club29413868\n",
      "\n",
      "4 très cest хупа котора гpyппа спряжение peut votr quel кипур\n",
      "Красивые Азиатки http://vk.com/club93974927\n",
      "Путешествия http://vk.com/club106750613\n",
      "мемная папка http://vk.com/club112510790\n",
      "Мужские мысли http://vk.com/club25397178\n",
      "Милые иллюстрации http://vk.com/club51880996\n",
      "эй свинтура http://vk.com/club94441079\n",
      "Royal Comics™  18+ http://vk.com/club157021059\n",
      "Ёрш - юмор, приколы http://vk.com/club20865272\n",
      "Дореволюціонный Совѣтчикъ http://vk.com/club29604206\n",
      "Imperial Geek Style! http://vk.com/club63072437\n",
      "\n",
      "10 реал сборная лига ювентус боруссия тоттенхэма ливерпуль бундеслига матч интер\n",
      "МУРКИ | эротика, НЮ.арт http://vk.com/club79238546\n",
      "Ева | эротика, НЮ.арт http://vk.com/club79641737\n",
      "Ябвдул 18+ http://vk.com/club50630084\n",
      "A I R P H O T O http://vk.com/club134501407\n",
      "Travelling | Путешествия http://vk.com/club56978134\n",
      "TIGER - Мужской журнал http://vk.com/club39144813\n",
      "Футбол в стиле Ретро (16+) http://vk.com/club44473776\n",
      "Ищу модель Москва http://vk.com/club148245515\n",
      "Интересные штуки http://vk.com/club45613675\n",
      "Ищу модель Москва http://vk.com/club154182749\n",
      "\n",
      "18 человек знать жизнь думать друг любить видеть найти рука жить\n",
      "Жизненный Путь http://vk.com/club162621591\n",
      "С нами стыдно, зато весело! http://vk.com/club46466345\n",
      "Живу в Карелии. http://vk.com/club172234087\n",
      "REAL LIFE STORIES http://vk.com/club67937582\n",
      "Весы ( 5 января ) http://vk.com/club34527881\n",
      "Они тупые? http://vk.com/club147710263\n",
      "Survivor http://vk.com/club32906584\n",
      "Эстонская гончая http://vk.com/club38502751\n",
      "Best Video http://vk.com/club63758929\n",
      "Опасная Земля http://vk.com/club150802579\n",
      "\n",
      "14 матч лига сборный полузащитник сборная игрок турнир уефа чемпионат кубок\n",
      "Макияж http://vk.com/club57797738\n",
      "АРТ искусство http://vk.com/club25813425\n",
      "Договорные матчи |  ISKRA_BET http://vk.com/club64632388\n",
      "Милости Пряности http://vk.com/club21196992\n",
      "Aesthetic  Fitness http://vk.com/club49824939\n",
      "9GAG http://vk.com/club32041317\n",
      "Прогнозы от Best Capper in Live http://vk.com/club49884862\n",
      "Лучшие гифки | GIF Бот http://vk.com/club39703413\n",
      "EMPIRE | История Человечества http://vk.com/club61134563\n",
      "Наука и Факты http://vk.com/club34118551\n",
      "\n",
      "13 нарушение установка эксплуатация участок установить установленный применение снижение обеспечение повреждение\n",
      "Lady's Beauty | Макияж, Маникюр, Прически http://vk.com/club49063005\n",
      "Новости кардиологии | ATP Cardiology news http://vk.com/club101728114\n"
     ]
    },
    {
     "name": "stdout",
     "output_type": "stream",
     "text": [
      "СТРОИТЕЛЬСТВО http://vk.com/club30713157\n",
      "Стоматология❜ http://vk.com/club159719\n",
      "Ремонт, строительство|Построй уДАЧУ, дом http://vk.com/club90351338\n",
      "Охрана труда http://vk.com/club26751260\n",
      "Проектирование  |Обследование зданий |Геотехника http://vk.com/club152526876\n",
      "Деревянные дома | Идеи строительство ремонт http://vk.com/club88067174\n",
      "Удачная дача http://vk.com/club143897262\n",
      "MedBooks|Медкниги http://vk.com/club66567433\n",
      "\n",
      "12 сочный вкусно полусредний весовой пивоварня бокал нефильтрованный мейвезер атлетический полутяжёлый\n",
      "Exclusive music http://vk.com/club39190134\n",
      "Relax Art ™ http://vk.com/club45777592\n",
      "Пошлые селфи http://vk.com/club50939110\n",
      "Betraveler | Добро пожаловать на Землю http://vk.com/club26127512\n",
      "В РАЙ НА S-CLASS’E http://vk.com/club3967885\n",
      "Орнаменталика http://vk.com/club21596696\n",
      "Энциклопедия хозяйки|Рецепты.Кулинарные хитрости http://vk.com/club60971453\n",
      "Корпорация Юмора ツ http://vk.com/club23537466\n",
      "Берёзка http://vk.com/club38594501\n",
      "mockups http://vk.com/club51494670\n",
      "\n",
      "9 спортпить запчасть цевьё интернетмагазин подписота прямоток индексный 1448 шестерня баррель\n",
      "Рыжий Художник http://vk.com/club41535684\n",
      "a. COUNTRY http://vk.com/club126583244\n",
      "Стройка - Строительство и Ремонт http://vk.com/club144392420\n",
      "Психология | Философия | Саморазвитие http://vk.com/club63727982\n",
      "ТАТУИРОВКИ http://vk.com/club151565964\n",
      "Официальная группа компании El Corazon http://vk.com/club107471145\n",
      "Пошлая кокетка http://vk.com/club150829605\n",
      "Соционика ψ Психология http://vk.com/club34665995\n",
      "TECHNOLOGY - познавательный журнал http://vk.com/club41493591\n",
      "Lightroom CC -  пресеты для телефона - iPhone http://vk.com/club170857135\n",
      "\n",
      "2 бoльшoгo гoвopть еcть кoтоpый мoжете тыcячий пoзвoлить зaмeнить былo xoчета\n",
      "Wonders of the World | Путешествия http://vk.com/club23964485\n",
      "Design &amp; Decor http://vk.com/club33143967\n",
      "Бумажный кораблик http://vk.com/club127661835\n",
      "Мантра http://vk.com/club272049\n",
      "iFeed http://vk.com/club26858816\n",
      "ПОТРАЧЕНО http://vk.com/club40492794\n",
      "Мужской журнал | Эротика http://vk.com/club15738223\n",
      "Тысяча чертей, какая татуировка! http://vk.com/club26776509\n",
      "Видео ВатсАпп | Тик Ток | Tik Tok 16+ http://vk.com/club39957438\n",
      "Музыка в машину http://vk.com/club23983339\n",
      "\n",
      "5 трек music пластинка лейбл сингл вокал сольный музыкант ремикс хип-хоп\n",
      "Your Look http://vk.com/club129584070\n",
      "Школа рисования http://vk.com/club39498543\n",
      "- ADV CLUB | Авто, Мото, Тюнинг http://vk.com/club9494209\n",
      "МК18+ : Мужской Клуб 18+ http://vk.com/club24532152\n",
      "1000 фактов http://vk.com/club154308202\n",
      "Сайт №1 про ПИВО, ПАБЫ и БАРЫ в Украине http://vk.com/club27853622\n",
      "технологии будущего http://vk.com/club135897440\n",
      "British humor http://vk.com/club88497493\n",
      "Oh - whoops http://vk.com/club112041023\n",
      "Прогнозы на Спорт. Инсайдерская информация. http://vk.com/club51247454\n",
      "\n",
      "11 love time music night like black good live come world\n",
      "LikeWhat? http://vk.com/club68407107\n",
      "Reddit http://vk.com/club56590488\n",
      "Video English (www.EngVid.com) http://vk.com/club37291040\n",
      "9gag http://vk.com/club35579519\n",
      "Best of Tumblr http://vk.com/club24284258\n",
      "ВУЛКАН http://vk.com/club141931663\n",
      "/r/Pics http://vk.com/club35559455\n",
      "Book of the Week | Drama | BBC Radio 4 http://vk.com/club84750475\n",
      "Sickipedia http://vk.com/club55955185\n",
      "Best audiobooks in English http://vk.com/club69777695\n",
      "\n"
     ]
    }
   ],
   "source": [
    "# распечатаем темы и первые 10 групп самые релевантные темам \n",
    "# в соответствии с полученой последовательностью тем\n",
    "print(\"The most typical groups for every topic\")\n",
    "for i in index_ntv_vs_tvrain:\n",
    "    terms = justlda.get_topic_terms(i)\n",
    "    print(i, ' '.join(map(lambda x: mycorp.dictionary.get(x[0]), terms)))\n",
    "    typical_groups = check_pd_20[i].sort_values(ascending=False).index[:10]\n",
    "    for g in typical_groups:\n",
    "        group_info = vk_get_response(\n",
    "            'groups.getById', 'group_ids={0}&v=4.9&lang=ru'.format(g), access_token\n",
    "        )\n",
    "        print(group_info['response'][0]['name'] + ' ' + 'http://vk.com/club' + str(g))\n",
    "        time.sleep(0.3)\n",
    "    print()"
   ]
  },
  {
   "cell_type": "code",
   "execution_count": 197,
   "metadata": {},
   "outputs": [
    {
     "data": {
      "text/plain": [
       "<matplotlib.axes._subplots.AxesSubplot at 0x7f583ab886a0>"
      ]
     },
     "execution_count": 197,
     "metadata": {},
     "output_type": "execute_result"
    },
    {
     "data": {
      "image/png": "[encoded data removed]",
      "text/plain": [
       "<Figure size 432x288 with 1 Axes>"
      ]
     },
     "metadata": {},
     "output_type": "display_data"
    }
   ],
   "source": [
    "# используем все группы VK\n",
    "\n",
    "\n",
    "# посчитаем разницу между участием пользователей из разных групп\n",
    "# и построим график участия в темах этих групп (НТВ и TVRAIN)\n",
    "data_sum_count['delta'] = data_sum_count['uids_only_ntv'] - data_sum_count['uids_only_tvrain']\n",
    "data_sum_count.sort_values(by='delta')[['uids_only_ntv','uids_only_tvrain']].plot.bar()"
   ]
  },
  {
   "cell_type": "code",
   "execution_count": 198,
   "metadata": {},
   "outputs": [
    {
     "data": {
      "text/plain": [
       "<matplotlib.axes._subplots.AxesSubplot at 0x7f583a96fa90>"
      ]
     },
     "execution_count": 198,
     "metadata": {},
     "output_type": "execute_result"
    },
    {
     "data": {
      "image/png": "[encoded data removed]",
      "text/plain": [
       "<Figure size 432x288 with 1 Axes>"
      ]
     },
     "metadata": {},
     "output_type": "display_data"
    }
   ],
   "source": [
    "# построим график участия в темах этих групп (НТВ, TVRAIN и пользователей из обейх групп)\n",
    "data_sum_count.sort_values(by='delta')[['uids_only_ntv','uids_only_tvrain','uids_ntv_and_tvrain']].plot.bar()"
   ]
  },
  {
   "cell_type": "code",
   "execution_count": 199,
   "metadata": {},
   "outputs": [],
   "source": [
    "# получим индексы отсортированные по разнице участия пользователей разных групп\n",
    "index_ntv_vs_tvrain = data_sum_count.sort_values(by='delta')[['uids_only_ntv','uids_only_tvrain']].index"
   ]
  },
  {
   "cell_type": "code",
   "execution_count": 200,
   "metadata": {},
   "outputs": [
    {
     "name": "stdout",
     "output_type": "stream",
     "text": [
      "The most typical groups for every topic\n",
      "18 человек знать жизнь думать друг любить видеть найти рука жить\n",
      "Жизненный Путь http://vk.com/club162621591\n",
      "С нами стыдно, зато весело! http://vk.com/club46466345\n",
      "Живу в Карелии. http://vk.com/club172234087\n",
      "REAL LIFE STORIES http://vk.com/club67937582\n",
      "Весы ( 5 января ) http://vk.com/club34527881\n",
      "Они тупые? http://vk.com/club147710263\n",
      "Survivor http://vk.com/club32906584\n",
      "Эстонская гончая http://vk.com/club38502751\n",
      "Best Video http://vk.com/club63758929\n",
      "Опасная Земля http://vk.com/club150802579\n",
      "\n",
      "17 группа ноябрь ждать участие друг человек город рубль новое участник\n",
      "QuestGuRu |СПб| Живые квесты Санкт-Петербург http://vk.com/club90571513\n",
      "ИнфоБлок Университета имени О.Е. Кутафина (МГЮА) http://vk.com/club158899\n",
      "TRIP4YOU Дешевые путешествия, туры, авиабилеты http://vk.com/club136893577\n",
      "Семейный Доктор Кудрово Столичная 4 к.3 http://vk.com/club170649800\n",
      "SFAP  |  Спортивные девушки http://vk.com/club33390409\n",
      "АРЕНДА АПАРТАМЕНТОВ В ИСПАНИИ. КОСТА БРАВА. http://vk.com/club36125590\n",
      "Цифровые геотехнологии http://vk.com/club171230588\n",
      "Детский клуб \"Игротека\" http://vk.com/club152182636\n",
      "Идеи дизайна интерьера http://vk.com/club36184135\n",
      "Olimpis.ru http://vk.com/club77194271\n",
      "\n",
      "3 новое последний человек группа выйти история момент друг проект знать\n",
      "LIVE http://vk.com/club2158488\n",
      "«Гуру» автоворонок http://vk.com/club169601778\n",
      "Карты Visa Virtual (VisaVirtual.ru) http://vk.com/club36179901\n",
      "Блог современного инвестора. Федор Сидоров http://vk.com/club147042034\n",
      "Лидогенерация для инфобизнеса под ключ http://vk.com/club155234339\n",
      "Sport Invest | Инвестиции в спорт http://vk.com/club120998350\n",
      "ZMSEO - плагин для WordPress http://vk.com/club169316719\n",
      "Таргет без купюр - агентство интернет-рекламы http://vk.com/club112634825\n",
      "You 2D http://vk.com/club173871233\n",
      "Клуб развития трейдеров, инвесторов XELIUS GROUP http://vk.com/club29413868\n",
      "\n",
      "8 природа человеческий страх сознание глубокий небо окружающий солнце существовать земля\n",
      "Тёмный Уголок http://vk.com/club45091870\n",
      "Мевляна Джалаладдин Руми http://vk.com/club32737353\n",
      "Шри Шри Анандамурти http://vk.com/club30860251\n",
      "Грустные песни и цитаты советских психологов http://vk.com/club171683615\n",
      "Преподобный Паисий Святогорец http://vk.com/club26457853\n",
      "Православный христианин http://vk.com/club171595240\n",
      "Мудрость Любви ♥ http://vk.com/club34314108\n",
      "Протоиерей АРТЕМИЙ ВЛАДИМИРОВ(сообщество друзей) http://vk.com/club38489461\n",
      "Шри Нисаргадатта Махарадж. Ответы и наставления http://vk.com/club131593346\n",
      "Живая Этика о Тонком Мире и Дальних Мирах http://vk.com/club121849669\n",
      "\n",
      "7 ингредиент масло приготовление рецепт вкусный яйцо соль приготовить овощ вкус\n",
      "Рецепты http://vk.com/club30187757\n",
      "Рецепты. Кулинария. Только между нами. http://vk.com/club86029012\n",
      "Вкусные Шедевры http://vk.com/club59764257\n",
      "Искусство кулинарии http://vk.com/club44525374\n",
      "✿ Рататуй | Лучшие рецепты | Кулинария http://vk.com/club68249569\n",
      "Готовим дома: Десерты. Торты. Выпечка. http://vk.com/club97696957\n",
      "Мишка Пышка http://vk.com/club120853971\n",
      "Кулинарные мелочи http://vk.com/club52026163\n",
      "Рецепты для мультиварки http://vk.com/club43706510\n",
      "Бюджетные рецепты🍴 http://vk.com/club150015423\n",
      "\n",
      "15 советский памятник музей война николай военный ссср исторический церковь александр\n",
      "Нарисованный Петербург http://vk.com/club27675466\n",
      "Парадные Петербурга http://vk.com/club135148251\n",
      "Сайт ristikivi.spb.ru http://vk.com/club57174712\n",
      "Петербург | Было • Стало http://vk.com/club139623703\n",
      "А ты знал? http://vk.com/club145187576\n",
      "Санкт-Петербург | История Питера http://vk.com/club122155308\n",
      "Моя Армения http://vk.com/club61216880\n",
      "Мугинштейн Михаил Львович http://vk.com/club43453070\n",
      "КБ http://vk.com/club67580761\n",
      "Какой сегодня день? http://vk.com/club62356564\n",
      "\n",
      "1 цвета стиль красивый стильный скидка платье коллекция заказ модель цвет\n",
      "Мысли делают нас http://vk.com/club39265861\n",
      "Саморазвитие http://vk.com/club38182092\n",
      "Слова Великих людей http://vk.com/club28981879\n",
      "Барышня's Secret http://vk.com/club52913509\n",
      "Магазин женской одежды и пальто GLAM CASUAL  СПб http://vk.com/club173243732\n",
      "STREET STYLE http://vk.com/club34596709\n",
      "Интернет магазин для всей семьи!👗👖👔👨‍👩‍👧‍👧 http://vk.com/club118426631\n",
      "FASHION  мода http://vk.com/club33404310\n",
      "Oversee 🔞 http://vk.com/club58020252\n",
      "МАЙКИ ! http://vk.com/club26340610\n",
      "\n",
      "0 фильм жизнь любовь человек драма приключение жить сериал актёр детектив\n",
      "Сериалы http://vk.com/club24834794\n",
      "НОВИНКИ КИНО 2019 http://vk.com/club90253744\n",
      "HD Кино - Фильмы онлайн 2019 http://vk.com/club123915905\n",
      "Я ❤ КИНО http://vk.com/club113071474\n",
      "Дева http://vk.com/club54365538\n",
      "Русские Музыкальные Новинки 2019 http://vk.com/club31317869\n",
      "Убойные Гифки Gif Гиф http://vk.com/club46714172\n",
      "Just Хуманизация|Арты http://vk.com/club132990808\n",
      "Фильмы HD http://vk.com/club70905722\n",
      "BrainUP | Саморазвитие http://vk.com/club70427221\n",
      "\n",
      "16 гифка cнoвa нaшe cтoлькo любoм эпоксидка дepжито фoтoгpaфия приспособ мaлeнькaть\n",
      "Капризная Княжна http://vk.com/club79553695\n",
      "New Retro Wave http://vk.com/club53406052\n",
      "Тёплая музыка http://vk.com/club26797336\n",
      "ФРАНКЛИН http://vk.com/club148945085\n",
      "Вопрос времени http://vk.com/club160036323\n",
      "ТНТ http://vk.com/club3166004\n",
      "Беларуская інтэлектуальная гульня http://vk.com/club103035548\n",
      "Прикольные Гифки Gif Гиф http://vk.com/club46257842\n",
      "Мода http://vk.com/club39043096\n",
      "Современное искусство http://vk.com/club35486596\n",
      "\n",
      "19 мoжнo этoт тoлькo чтoб ecть тaкoть oчeнь бoльшe этoгo этoм\n",
      "Знакомства TOPFACE http://vk.com/club25678227\n",
      "Art for adults http://vk.com/club36202321\n",
      "Creative dimension. http://vk.com/club60370579\n",
      "F • Y • A http://vk.com/club47926958\n",
      "Гений креатива http://vk.com/club45770903\n",
      "ARTONCE http://vk.com/club71600914\n",
      "Jam's Stuff http://vk.com/club52045040\n",
      "ВЯЗАНИЕ http://vk.com/club114422908\n",
      "Мой ребенок ♥ http://vk.com/club49100345\n",
      "Your Live Art http://vk.com/club101088482\n",
      "\n",
      "6 комплект цена размер фото чехол сантиметр доставка цвета отличный ручка\n",
      "Стилист AliExpress http://vk.com/club116849953\n",
      "Детский Алиэкспресс http://vk.com/club121010318\n",
      "Покраска авто/ Кузовной ремонт| Балашиха http://vk.com/club162323190\n",
      "От мамы к маме в Тосно http://vk.com/club103852839\n",
      "Лучшие автомобили http://vk.com/club35807044\n",
      "Проставки Starleks Колесный крепеж С-Пб http://vk.com/club78784215\n",
      "Алихакерша http://vk.com/club130271299\n",
      "Куплю - Продам  / Всеволожск / http://vk.com/club32485174\n",
      "Пошлые GIF | Гифки 18+ http://vk.com/club148010585\n",
      "Своими руками (Творчество, Шитье, Выкройки) http://vk.com/club38966129\n",
      "\n",
      "4 très cest хупа котора гpyппа спряжение peut votr quel кипур\n",
      "Красивые Азиатки http://vk.com/club93974927\n",
      "Путешествия http://vk.com/club106750613\n",
      "мемная папка http://vk.com/club112510790\n",
      "Мужские мысли http://vk.com/club25397178\n",
      "Милые иллюстрации http://vk.com/club51880996\n",
      "эй свинтура http://vk.com/club94441079\n",
      "Royal Comics™  18+ http://vk.com/club157021059\n",
      "Ёрш - юмор, приколы http://vk.com/club20865272\n",
      "Дореволюціонный Совѣтчикъ http://vk.com/club29604206\n",
      "Imperial Geek Style! http://vk.com/club63072437\n",
      "\n",
      "10 реал сборная лига ювентус боруссия тоттенхэма ливерпуль бундеслига матч интер\n",
      "МУРКИ | эротика, НЮ.арт http://vk.com/club79238546\n",
      "Ева | эротика, НЮ.арт http://vk.com/club79641737\n",
      "Ябвдул 18+ http://vk.com/club50630084\n",
      "A I R P H O T O http://vk.com/club134501407\n",
      "Travelling | Путешествия http://vk.com/club56978134\n",
      "TIGER - Мужской журнал http://vk.com/club39144813\n",
      "Футбол в стиле Ретро (16+) http://vk.com/club44473776\n",
      "Ищу модель Москва http://vk.com/club148245515\n",
      "Интересные штуки http://vk.com/club45613675\n",
      "Ищу модель Москва http://vk.com/club154182749\n",
      "\n",
      "14 матч лига сборный полузащитник сборная игрок турнир уефа чемпионат кубок\n",
      "Макияж http://vk.com/club57797738\n",
      "АРТ искусство http://vk.com/club25813425\n",
      "Договорные матчи |  ISKRA_BET http://vk.com/club64632388\n",
      "Милости Пряности http://vk.com/club21196992\n",
      "Aesthetic  Fitness http://vk.com/club49824939\n",
      "9GAG http://vk.com/club32041317\n",
      "Прогнозы от Best Capper in Live http://vk.com/club49884862\n",
      "Лучшие гифки | GIF Бот http://vk.com/club39703413\n",
      "EMPIRE | История Человечества http://vk.com/club61134563\n",
      "Наука и Факты http://vk.com/club34118551\n",
      "\n",
      "13 нарушение установка эксплуатация участок установить установленный применение снижение обеспечение повреждение\n",
      "Lady's Beauty | Макияж, Маникюр, Прически http://vk.com/club49063005\n",
      "Новости кардиологии | ATP Cardiology news http://vk.com/club101728114\n"
     ]
    },
    {
     "name": "stdout",
     "output_type": "stream",
     "text": [
      "СТРОИТЕЛЬСТВО http://vk.com/club30713157\n",
      "Стоматология❜ http://vk.com/club159719\n",
      "Ремонт, строительство|Построй уДАЧУ, дом http://vk.com/club90351338\n",
      "Охрана труда http://vk.com/club26751260\n",
      "Проектирование  |Обследование зданий |Геотехника http://vk.com/club152526876\n",
      "Деревянные дома | Идеи строительство ремонт http://vk.com/club88067174\n",
      "Удачная дача http://vk.com/club143897262\n",
      "MedBooks|Медкниги http://vk.com/club66567433\n",
      "\n",
      "9 спортпить запчасть цевьё интернетмагазин подписота прямоток индексный 1448 шестерня баррель\n",
      "Рыжий Художник http://vk.com/club41535684\n",
      "a. COUNTRY http://vk.com/club126583244\n",
      "Стройка - Строительство и Ремонт http://vk.com/club144392420\n",
      "Психология | Философия | Саморазвитие http://vk.com/club63727982\n",
      "ТАТУИРОВКИ http://vk.com/club151565964\n",
      "Официальная группа компании El Corazon http://vk.com/club107471145\n",
      "Пошлая кокетка http://vk.com/club150829605\n",
      "Соционика ψ Психология http://vk.com/club34665995\n",
      "TECHNOLOGY - познавательный журнал http://vk.com/club41493591\n",
      "Lightroom CC -  пресеты для телефона - iPhone http://vk.com/club170857135\n",
      "\n",
      "12 сочный вкусно полусредний весовой пивоварня бокал нефильтрованный мейвезер атлетический полутяжёлый\n",
      "Exclusive music http://vk.com/club39190134\n",
      "Relax Art ™ http://vk.com/club45777592\n",
      "Пошлые селфи http://vk.com/club50939110\n",
      "Betraveler | Добро пожаловать на Землю http://vk.com/club26127512\n",
      "В РАЙ НА S-CLASS’E http://vk.com/club3967885\n",
      "Орнаменталика http://vk.com/club21596696\n",
      "Энциклопедия хозяйки|Рецепты.Кулинарные хитрости http://vk.com/club60971453\n",
      "Корпорация Юмора ツ http://vk.com/club23537466\n",
      "Берёзка http://vk.com/club38594501\n",
      "mockups http://vk.com/club51494670\n",
      "\n",
      "2 бoльшoгo гoвopть еcть кoтоpый мoжете тыcячий пoзвoлить зaмeнить былo xoчета\n",
      "Wonders of the World | Путешествия http://vk.com/club23964485\n",
      "Design &amp; Decor http://vk.com/club33143967\n",
      "Бумажный кораблик http://vk.com/club127661835\n",
      "Мантра http://vk.com/club272049\n",
      "iFeed http://vk.com/club26858816\n",
      "ПОТРАЧЕНО http://vk.com/club40492794\n",
      "Мужской журнал | Эротика http://vk.com/club15738223\n",
      "Тысяча чертей, какая татуировка! http://vk.com/club26776509\n",
      "Видео ВатсАпп | Тик Ток | Tik Tok 16+ http://vk.com/club39957438\n",
      "Музыка в машину http://vk.com/club23983339\n",
      "\n",
      "5 трек music пластинка лейбл сингл вокал сольный музыкант ремикс хип-хоп\n",
      "Your Look http://vk.com/club129584070\n",
      "Школа рисования http://vk.com/club39498543\n",
      "- ADV CLUB | Авто, Мото, Тюнинг http://vk.com/club9494209\n",
      "МК18+ : Мужской Клуб 18+ http://vk.com/club24532152\n",
      "1000 фактов http://vk.com/club154308202\n",
      "Сайт №1 про ПИВО, ПАБЫ и БАРЫ в Украине http://vk.com/club27853622\n",
      "технологии будущего http://vk.com/club135897440\n",
      "British humor http://vk.com/club88497493\n",
      "Oh - whoops http://vk.com/club112041023\n",
      "Прогнозы на Спорт. Инсайдерская информация. http://vk.com/club51247454\n",
      "\n",
      "11 love time music night like black good live come world\n",
      "LikeWhat? http://vk.com/club68407107\n",
      "Reddit http://vk.com/club56590488\n",
      "Video English (www.EngVid.com) http://vk.com/club37291040\n",
      "9gag http://vk.com/club35579519\n",
      "Best of Tumblr http://vk.com/club24284258\n",
      "ВУЛКАН http://vk.com/club141931663\n",
      "/r/Pics http://vk.com/club35559455\n",
      "Book of the Week | Drama | BBC Radio 4 http://vk.com/club84750475\n",
      "Sickipedia http://vk.com/club55955185\n",
      "Best audiobooks in English http://vk.com/club69777695\n",
      "\n"
     ]
    }
   ],
   "source": [
    "# распечатаем темы и первые 10 групп самые релевантные темам \n",
    "# в соответствии с полученой последовательностью тем\n",
    "print(\"The most typical groups for every topic\")\n",
    "for i in index_ntv_vs_tvrain:\n",
    "    terms = justlda.get_topic_terms(i)\n",
    "    print(i, ' '.join(map(lambda x: mycorp.dictionary.get(x[0]), terms)))\n",
    "    typical_groups = check_pd_20[i].sort_values(ascending=False).index[:10]\n",
    "    for g in typical_groups:\n",
    "        group_info = vk_get_response(\n",
    "            'groups.getById', 'group_ids={0}&v=4.9&lang=ru'.format(g), access_token\n",
    "        )\n",
    "        print(group_info['response'][0]['name'] + ' ' + 'http://vk.com/club' + str(g))\n",
    "        time.sleep(0.3)\n",
    "    print()"
   ]
  },
  {
   "cell_type": "code",
   "execution_count": null,
   "metadata": {},
   "outputs": [],
   "source": []
  },
  {
   "cell_type": "code",
   "execution_count": null,
   "metadata": {},
   "outputs": [],
   "source": [
    "# Как видно из полученых результатов\n",
    "# При выборке небольшого количества групп разница в группах пользователей НТВ и ТВДождь наличиствует\n",
    "# Чем больше выборка групп, то тем меньше выражена разница между группами НТВ и ТВДождь"
   ]
  },
  {
   "cell_type": "code",
   "execution_count": null,
   "metadata": {},
   "outputs": [],
   "source": []
  },
  {
   "cell_type": "code",
   "execution_count": null,
   "metadata": {},
   "outputs": [],
   "source": []
  },
  {
   "cell_type": "code",
   "execution_count": null,
   "metadata": {},
   "outputs": [],
   "source": []
  },
  {
   "cell_type": "code",
   "execution_count": null,
   "metadata": {},
   "outputs": [],
   "source": []
  },
  {
   "cell_type": "code",
   "execution_count": null,
   "metadata": {},
   "outputs": [],
   "source": []
  },
  {
   "cell_type": "code",
   "execution_count": null,
   "metadata": {},
   "outputs": [],
   "source": []
  },
  {
   "cell_type": "code",
   "execution_count": null,
   "metadata": {},
   "outputs": [],
   "source": [
    "# неиспользуемые функции\n",
    "from operator import add\n",
    "\n",
    "def groups_to_topics_v1(groups_list, n=5):\n",
    "    counter = 1\n",
    "    probs_sum = dummy_dict.values()\n",
    "    for group_id in groups_list:\n",
    "        topics_dict = group_topics_dict_20.get(group_id)\n",
    "        rel_topic_probs = map(\n",
    "            lambda x: x * (min(5, n) - counter + 1),\n",
    "            dummy_dict.values() if not topics_dict else topics_dict.values()\n",
    "        )\n",
    "        probs_sum = map(add, probs_sum, rel_topic_probs)\n",
    "        if counter == 5:\n",
    "            break\n",
    "        counter += 1\n",
    "    return map(lambda x: x / sum([x + 1 for x in range(counter)]), probs_sum)\n",
    "\n",
    "def groups_to_topics_v2(groups_list, n=5):\n",
    "    counter = 1\n",
    "    probs_sum = dummy_dict.values()\n",
    "    for group_id in groups_list:\n",
    "        topics_dict = group_topics_dict_20.get(group_id)\n",
    "        rel_topic_probs = map(\n",
    "            lambda x: x * 1,\n",
    "            dummy_dict.values() if not topics_dict else topics_dict.values()\n",
    "        )\n",
    "        probs_sum = map(add, probs_sum, rel_topic_probs)\n",
    "        if counter == 5:\n",
    "            break\n",
    "        counter += 1\n",
    "    return map(lambda x: x, probs_sum)\n",
    "\n",
    "def get_first_topics(groups_list):\n",
    "    if groups_list != []:\n",
    "        group_id = groups_list[0]\n",
    "        topics_dict = group_topics_dict_20.get(group_id)\n",
    "    else:\n",
    "        topics_dict = dummy_dict\n",
    "    return dummy_dict.values() if not topics_dict else topics_dict.values()\n",
    "\n",
    "def get_main_interest(topic_probs):\n",
    "    return np.argmax(topic_probs)"
   ]
  },
  {
   "cell_type": "code",
   "execution_count": null,
   "metadata": {},
   "outputs": [],
   "source": []
  },
  {
   "cell_type": "code",
   "execution_count": null,
   "metadata": {},
   "outputs": [],
   "source": []
  },
  {
   "cell_type": "code",
   "execution_count": null,
   "metadata": {},
   "outputs": [],
   "source": []
  },
  {
   "cell_type": "code",
   "execution_count": null,
   "metadata": {},
   "outputs": [],
   "source": []
  }
 ],
 "metadata": {
  "kernelspec": {
   "display_name": "Python 3",
   "language": "python",
   "name": "python3"
  },
  "language_info": {
   "codemirror_mode": {
    "name": "ipython",
    "version": 3
   },
   "file_extension": ".py",
   "mimetype": "text/x-python",
   "name": "python",
   "nbconvert_exporter": "python",
   "pygments_lexer": "ipython3",
   "version": "3.6.7"
  }
 },
 "nbformat": 4,
 "nbformat_minor": 2
}
