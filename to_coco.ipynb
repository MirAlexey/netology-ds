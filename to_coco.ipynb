{
 "cells": [
  {
   "cell_type": "code",
   "execution_count": 4,
   "metadata": {},
   "outputs": [],
   "source": [
    "import glob\n",
    "import os"
   ]
  },
  {
   "cell_type": "code",
   "execution_count": 5,
   "metadata": {},
   "outputs": [],
   "source": [
    "class_names = ['person', 'bicycle', 'car', 'motorbike', 'aeroplane', 'bus', 'train', 'truck', 'boat', 'traffic light', 'fire hydrant', 'stop sign', 'parking meter', 'bench', 'bird', 'cat', 'dog', 'horse', 'sheep', 'cow', 'elephant', 'bear', 'zebra', 'giraffe', 'backpack', 'umbrella', 'handbag', 'tie', 'suitcase', 'frisbee', 'skis', 'snowboard', 'sports ball', 'kite', 'baseball bat', 'baseball glove', 'skateboard', 'surfboard', 'tennis racket', 'bottle', 'wine glass', 'cup', 'fork', 'knife', 'spoon', 'bowl', 'banana', 'apple', 'sandwich', 'orange', 'broccoli', 'carrot', 'hot dog', 'pizza', 'donut', 'cake', 'chair', 'sofa', 'pottedplant', 'bed', 'diningtable', 'toilet', 'tvmonitor', 'laptop', 'mouse', 'remote', 'keyboard', 'cell phone', 'microwave', 'oven', 'toaster', 'sink', 'refrigerator', 'book', 'clock', 'vase', 'scissors', 'teddy bear', 'hair drier', 'toothbrush']"
   ]
  },
  {
   "cell_type": "code",
   "execution_count": 5,
   "metadata": {},
   "outputs": [],
   "source": [
    "## для аннотаций  \n",
    "\n",
    "dict_info =  {\"description\": \"ExDark\",\n",
    "              \"url\": \"https://github.com/cs-chan/Exclusively-Dark-Image-Dataset\",\n",
    "        \"version\": \"1.0\",\n",
    "        \"year\": 2015,\n",
    "        \"contributor\": \"ExDark\",\n",
    "        \"date_created\": \"2015/01/01\"\n",
    "      }\n",
    "dict_licenses = [{\"url\": \"https://github.com/cs-chan/Exclusively-Dark-Image-Dataset\",\n",
    "          \"id\": 1,\n",
    "          \"name\": \"BSD-3\"}]\n",
    "img ={  \"license\": 1,\n",
    "            \"file_name\": \"000000397133.jpg\",\n",
    "            \"coco_url\": \"\",\n",
    "            \"height\": 427,\n",
    "            \"width\": 640,\n",
    "            \"date_captured\": \"2015\",\n",
    "            \"flickr_url\": \"\",\n",
    "            \"id\": 397133}\n",
    "annot= {\n",
    "            \"area\": 702.1057499999998,\n",
    "            \"iscrowd\": 0,\n",
    "            \"image_id\": 289343,\n",
    "            \"bbox\": [473.07,395.93,38.65,28.67],\n",
    "            \"category_id\": 18,\n",
    "            \"id\": 1768\n",
    "       }\n",
    "dict_cat = [\n",
    "        {\"id\": 1,\"name\": \"person\"},\n",
    "        {\"id\": 2,\"name\": \"bicycle\"},\n",
    "        {\"id\": 3,\"name\": \"car\"},\n",
    "        {\"id\": 4,\"name\": \"motorbike\"},\n",
    "        {\"id\": 9,\"name\": \"boat\"}, \n",
    "        {\"id\": 16,\"name\": \"cat\"},\n",
    "        {\"id\": 40,\"name\": \"bottle\"},\n",
    "        {\"id\": 42,\"name\": \"cup\"},\n",
    "        {\"id\": 53,\"name\": \"dog\"},\n",
    "        {\"id\": 57,\"name\": \"chair\"},\n",
    "        {\"id\": 61,\"name\": \"diningtable\"}]\n",
    "\n",
    "name_key ={'Bicycle': 2,\n",
    "   'Boat': 9,\n",
    "   'Bottle': 40,\n",
    "   'Bus': 6,\n",
    "   'Car': 3,\n",
    "   'Cat': 16,\n",
    "   'Chair': 57,\n",
    "   'Cup': 42,\n",
    "   'Dog': 53,\n",
    "   'Motorbike': 4,\n",
    "   'People': 1,\n",
    "   'Diningtable': 61}"
   ]
  },
  {
   "cell_type": "code",
   "execution_count": 6,
   "metadata": {},
   "outputs": [
    {
     "data": {
      "text/plain": [
       "dict_keys(['Bicycle', 'Boat', 'Bottle', 'Bus', 'Car', 'Cat', 'Chair', 'Cup', 'Dog', 'Motorbike', 'People', 'Diningtable'])"
      ]
     },
     "execution_count": 6,
     "metadata": {},
     "output_type": "execute_result"
    }
   ],
   "source": [
    "name_key.keys()"
   ]
  },
  {
   "cell_type": "code",
   "execution_count": 7,
   "metadata": {},
   "outputs": [],
   "source": [
    "from PIL import Image \n",
    "import os\n",
    "import re\n",
    "import json\n",
    "from shutil import copyfile\n",
    "\n",
    "#copyfile(src, dst)"
   ]
  },
  {
   "cell_type": "markdown",
   "metadata": {},
   "source": [
    "## Кодировать в анотацию сосо\n",
    "\n",
    "#### СМ.  http://cocodataset.org/#format-data"
   ]
  },
  {
   "cell_type": "code",
   "execution_count": 10,
   "metadata": {
    "scrolled": true
   },
   "outputs": [
    {
     "name": "stdout",
     "output_type": "stream",
     "text": [
      "ошибка на файле ./ExDark/Bus/2015_02330.jpg\n",
      "ошибка на файле ./ExDark/Chair/2015_04274.jpg\n",
      "ошибка на файле ./ExDark/Dog/2015_05189.jpg\n",
      "7360 22215\n"
     ]
    }
   ],
   "source": [
    "\n",
    "count_img = 0\n",
    "count_annot_all = 0\n",
    "result = []\n",
    "\n",
    "imgs = []\n",
    "val_imgs = []\n",
    "annots = []\n",
    "val_annots = []\n",
    "for top, dirs, files in os.walk('./ExDark'):\n",
    "    #print(top, dirs, files)\n",
    "    #print(top)\n",
    "    valid_count = 0\n",
    "    for nm in files:     \n",
    "        if nm.endswith(\".txt\"):\n",
    "            with open(top+'/'+nm) as f:\n",
    "                fn = re.findall('(.+)\\.txt', top+'/'+nm)[0]\n",
    "                new_name = re.sub('\\.(jpg|png|JPEG|JPG|jpeg)','',nm)\n",
    "                #copyfile(src, dst)\n",
    "                img_id_arr = re.findall('\\d{4}_(\\d{5})\\.(?:jpg|png|JPEG|JPG|jpeg)\\.txt',nm)\n",
    "                try:\n",
    "                    img_id=int(img_id_arr[0])\n",
    "                    img = Image.open(fn)\n",
    "                    width,height = img.size\n",
    "                except Exception:\n",
    "                    print('ошибка на файле', fn)\n",
    "                    continue  \n",
    "                #print('/home/user/netology/netology_git/yolov3_pytorch/notebooks'+fn[1:])    \n",
    "                new_img ={  \"license\": 1,\"file_name\": '/home/user/netology/netology_git/yolov3_pytorch/notebooks'+fn[1:],\"coco_url\": \"\",\n",
    "                    \"height\": height,\"width\": width,\"date_captured\": \"2015\",\"flickr_url\": \"\",\"id\": img_id} \n",
    "                if valid_count < 75:\n",
    "                    val_imgs.append(new_img)\n",
    "                else:    \n",
    "                    imgs.append(new_img)\n",
    "                count_img +=1    \n",
    "                str_ann = f.readline()\n",
    "                count_annot = 0\n",
    "                for i in f:\n",
    "                    res = re.findall('(\\w+) (\\d+) (\\d+) (\\d+) (\\d+) .*', i)\n",
    "                    \n",
    "                    if len(res)<1:\n",
    "                        print('ошибка в аннотации:', i, ' в файле:', fn )\n",
    "                        continue\n",
    "                    type_obj, x, y, w, h = res[0]\n",
    "                    #print(img_id, type(int(img_id)))\n",
    "                    if type_obj in name_key.keys():\n",
    "                        new_annot ={ \"area\": int(w) * int(h),\n",
    "                                    \"iscrowd\": 0,\n",
    "                                    \"image_id\": int(img_id)*100,\n",
    "                                    \"bbox\": [int(x), int(y), int(w), int(h)],\n",
    "                                    \"category_id\": name_key[type_obj],\n",
    "                                    \"id\": img_id*100+count_annot\n",
    "                                   }\n",
    "                        if valid_count < 75:\n",
    "                            val_annots.append(new_annot)\n",
    "                        else:\n",
    "                            annots.append(new_annot)\n",
    "                        count_annot+=1\n",
    "                valid_count += 1        \n",
    "                count_annot_all = count_annot_all + count_annot       \n",
    "                        \n",
    "                        \n",
    "print(count_img,count_annot_all)                    \n",
    "\n",
    "result =  {\n",
    "    \"info\" : dict_info, \n",
    "    \"images\" : imgs, \n",
    "    \"annotations\" : annots, \n",
    "    \"licenses\" : dict_licenses,\n",
    "}  \n",
    "val_result =  {\n",
    "    \"info\" : dict_info, \n",
    "    \"images\" : val_imgs, \n",
    "    \"annotations\" : val_annots, \n",
    "    \"licenses\" : dict_licenses,\n",
    "}  \n",
    "\n",
    "with open('ExDarc_annot.json', 'w') as f:\n",
    "    f.write(json.dumps(result))\n",
    "with open('ExDarc_annot_val.json', 'w') as f:\n",
    "    f.write(json.dumps(val_result))                    "
   ]
  },
  {
   "cell_type": "code",
   "execution_count": null,
   "metadata": {},
   "outputs": [],
   "source": [
    "\n",
    "   # bicycle - bicycle - 2\n",
    "   # boat - boat - 9\n",
    "   # bottle - bottle - 40\n",
    "  #  bus - bus - 6\n",
    "  #  car - car - 3\n",
    "  #  cat - cat - 16\n",
    "  #  chair - chair - 57\n",
    " #   cup - cup - 42\n",
    "  #  dog - dog - 53\n",
    " #   motorbike - motorbike 4\n",
    " #   people - person - 1\n",
    " #   table - diningtable - 61\n"
   ]
  },
  {
   "cell_type": "code",
   "execution_count": null,
   "metadata": {},
   "outputs": [],
   "source": [
    "from PIL import Image \n",
    "import os\n",
    "import re\n",
    "import json\n",
    "from shutil import copyfile"
   ]
  },
  {
   "cell_type": "markdown",
   "metadata": {},
   "source": [
    "## Кодировать в анотоцию VOC\n",
    "####  каждый файл с картинокой имеет описание    {{filename}}.jpg -> {{filename}}.txt\n",
    "  \n",
    "####  со строками: тип_объекта x y width hieght\n",
    "      \n",
    "#### например: 1 150 100 100"
   ]
  },
  {
   "cell_type": "code",
   "execution_count": 12,
   "metadata": {},
   "outputs": [],
   "source": [
    "count_img = 0\n",
    "count_annot_all = 0\n",
    "result = []\n",
    "\n",
    "imgs = []\n",
    "val_imgs = []\n",
    "annots = []\n",
    "val_annots = []\n",
    "for top, dirs, files in os.walk('.'):\n",
    "    #print(top, dirs, files)\n",
    "    #print(top)\n",
    "    valid_count = 0\n",
    "    for nm in files:     \n",
    "        if nm.endswith(\".txt\"):\n",
    "            fn = re.findall('(.+)\\.txt', nm)[0]\n",
    "            \n",
    "            #print(fn,len(re.findall(r'\\.(jpg|png|JPEG|JPG|jpeg)',fn)))\n",
    "            if len(re.findall(r'\\.(jpg|png|JPEG|JPG|jpeg)',fn)) < 1:\n",
    "                continue\n",
    "            try:\n",
    "                \n",
    "                img = Image.open(top+'/'+fn)\n",
    "                width,height = img.size\n",
    "            except Exception:\n",
    "                print('ошибка на файле', top+'/'+fn)\n",
    "                continue     \n",
    "                \n",
    "            new_name = re.sub('\\.(jpg|png|JPEG|JPG|jpeg)','',nm)\n",
    "            dest_p = './train_img/' if valid_count > 50 else './val_img/'\n",
    "            #print(fn,new_name,dest_p)\n",
    "            with open(top+'/'+nm) as f:\n",
    "                arr = f.readlines()\n",
    "                del arr[0]\n",
    "                for i in range(len(arr)):\n",
    "                    arr[i] = arr[i].lower()\n",
    "                    arr[i] = arr[i].replace('people','person')  \n",
    "                    #arr[i] = arr[i].replace('diningtable','table')\n",
    "                    arr[i] = arr[i].replace('person','1')\n",
    "                    arr[i] = arr[i].replace('bicycle','2')\n",
    "                    arr[i] = arr[i].replace('car','3')\n",
    "                    arr[i] = arr[i].replace('motorbike','4')\n",
    "                    arr[i] = arr[i].replace('bus','6')\n",
    "                    arr[i] = arr[i].replace('boat','9') \n",
    "                    arr[i] = arr[i].replace('cat','16')\n",
    "                    arr[i] = arr[i].replace('dog','17')\n",
    "                    arr[i] = arr[i].replace('bottle','40')\n",
    "                    arr[i] = arr[i].replace('cup','42')\n",
    "                    arr[i] = arr[i].replace('chair','57')\n",
    "                    arr[i] = arr[i].replace('table','61')\n",
    "                    m_arr = arr[i].split(' ')[:5]\n",
    "                    m_arr[1] = str(int(m_arr[1])/width)\n",
    "                    m_arr[2] = str(int(m_arr[2])/height)\n",
    "                    m_arr[3] = str(int(m_arr[3])/width)\n",
    "                    m_arr[4] = str(int(m_arr[4])/height)\n",
    "                    #print(m_arr)\n",
    "                    arr[i] = ' '.join(m_arr)\n",
    "                    \n",
    "                     \n",
    "                #print(dest_p+new_name, \"\\n\".join(arr))\n",
    "                with open(dest_p+new_name, 'w') as f:\n",
    "                    f.write(\"\\n\".join(arr))\n",
    "            #copyfile(top+'/'+nm, dest_p+new_name)\n",
    "            \n",
    "            copyfile(top+'/'+fn, dest_p+fn)\n",
    "            valid_count += 1 \n",
    "            if top != \"./ExDark/People\" and valid_count > 200:\n",
    "                break\n",
    "                \n",
    "                \n",
    "                        \n",
    "\n",
    "\n"
   ]
  },
  {
   "cell_type": "code",
   "execution_count": 49,
   "metadata": {},
   "outputs": [
    {
     "data": {
      "text/plain": [
       "array([  2., 111., 174., 317., 499.,   0.,   0.,   0.,   0.,   0.,   0.,\n",
       "         0.])"
      ]
     },
     "execution_count": 49,
     "metadata": {},
     "output_type": "execute_result"
    }
   ],
   "source": [
    "import numpy as np\n",
    "\n",
    "np.loadtxt('./train_img/2015_00254.txt')"
   ]
  },
  {
   "cell_type": "code",
   "execution_count": null,
   "metadata": {},
   "outputs": [],
   "source": []
  }
 ],
 "metadata": {
  "kernelspec": {
   "display_name": "Python 3",
   "language": "python",
   "name": "python3"
  },
  "language_info": {
   "codemirror_mode": {
    "name": "ipython",
    "version": 3
   },
   "file_extension": ".py",
   "mimetype": "text/x-python",
   "name": "python",
   "nbconvert_exporter": "python",
   "pygments_lexer": "ipython3",
   "version": "3.6.8"
  }
 },
 "nbformat": 4,
 "nbformat_minor": 2
}
