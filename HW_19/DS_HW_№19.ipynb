{
 "cells": [
  {
   "cell_type": "code",
   "execution_count": null,
   "metadata": {},
   "outputs": [],
   "source": [
    "# ML-1 Гибридные рекомендательные системы\n",
    "# Преподаватель: Александр Кондрашкин\n",
    "#\n",
    "#    Датасет ml-latest\n",
    "#    Вспомнить подходы, которые мы разбирали\n",
    "#    Выбрать понравившийся подход к гибридным\n",
    "#    системам\n",
    "#    Написать свою\n",
    "\n",
    "# Решением будет ссылка на гитхаб с готовым ноутбуком\n"
   ]
  },
  {
   "cell_type": "code",
   "execution_count": 1,
   "metadata": {},
   "outputs": [],
   "source": [
    "# \n",
    "\n",
    "# 1. если юзер не в базе, то рекомендуем самые популярные фильмы\n",
    "\n",
    "#\n",
    "# 2. если юзер в базе\n",
    "#  2.1. У юзера мало просмотренных фильмов и отзывов. \n",
    "#        берем набор фильмов по тегам и подмешиваем самые популярные фильмы \n",
    "#  2.2 достаточно фильмов мало отзывов  \n",
    "#      берем фильмы для близких пользователей по просмотрам и подмешиваем близкие фильмы по тегам\n",
    "#  2.3 достаточно фильмов достаточно отзывов\n",
    "#      берем фильмы с прогнозтруемой высокой оценкой\n",
    "#  Пункт 2.3. продолжает отбор после 2.2. как гибридная система\n",
    "#\n",
    "#  п.1 отбор по рейтингу первые 100 фильмов и выборка 20 для первоначальной  рекомендации \n",
    "#  п.2.1. TFIDF на тегах (0ю4) смешиваем с TFIDF на жанрах (0.4), плюс часть самых популярных (0.2) \n",
    "#         фильмов - просмотренные фильмы   \n",
    "#  п.2.2. берем близких  \n",
    "#\n",
    "#\n",
    "#\n",
    "#\n",
    "\n",
    "\n",
    "\n"
   ]
  },
  {
   "cell_type": "code",
   "execution_count": null,
   "metadata": {},
   "outputs": [],
   "source": []
  },
  {
   "cell_type": "code",
   "execution_count": 2,
   "metadata": {},
   "outputs": [],
   "source": [
    "from surprise import SVD, SVDpp\n",
    "from surprise import Dataset\n",
    "from surprise import accuracy\n",
    "from surprise import Reader\n",
    "from surprise.model_selection import train_test_split\n",
    "\n",
    "import matplotlib.pyplot as plt\n",
    "\n",
    "from tqdm import tqdm_notebook\n",
    "\n",
    "from sklearn.feature_extraction.text import TfidfTransformer, CountVectorizer\n",
    "from sklearn.neighbors import NearestNeighbors\n",
    "\n",
    "import pandas as pd\n",
    "import numpy as np"
   ]
  },
  {
   "cell_type": "code",
   "execution_count": 14,
   "metadata": {},
   "outputs": [],
   "source": [
    "links = pd.read_csv('ml-latest/links.csv')\n",
    "movies = pd.read_csv('ml-latest/movies.csv')\n",
    "ratings = pd.read_csv('ml-latest/ratings.csv')\n",
    "tags = pd.read_csv('ml-latest/tags.csv')"
   ]
  },
  {
   "cell_type": "code",
   "execution_count": 4,
   "metadata": {},
   "outputs": [
    {
     "name": "stdout",
     "output_type": "stream",
     "text": [
      "Количество фильмов всего: 58098\n"
     ]
    },
    {
     "data": {
      "text/html": [
       "<div>\n",
       "<style scoped>\n",
       "    .dataframe tbody tr th:only-of-type {\n",
       "        vertical-align: middle;\n",
       "    }\n",
       "\n",
       "    .dataframe tbody tr th {\n",
       "        vertical-align: top;\n",
       "    }\n",
       "\n",
       "    .dataframe thead th {\n",
       "        text-align: right;\n",
       "    }\n",
       "</style>\n",
       "<table border=\"1\" class=\"dataframe\">\n",
       "  <thead>\n",
       "    <tr style=\"text-align: right;\">\n",
       "      <th></th>\n",
       "      <th>movieId</th>\n",
       "      <th>title</th>\n",
       "      <th>genres</th>\n",
       "    </tr>\n",
       "  </thead>\n",
       "  <tbody>\n",
       "    <tr>\n",
       "      <th>0</th>\n",
       "      <td>1</td>\n",
       "      <td>Toy Story (1995)</td>\n",
       "      <td>Adventure|Animation|Children|Comedy|Fantasy</td>\n",
       "    </tr>\n",
       "    <tr>\n",
       "      <th>1</th>\n",
       "      <td>2</td>\n",
       "      <td>Jumanji (1995)</td>\n",
       "      <td>Adventure|Children|Fantasy</td>\n",
       "    </tr>\n",
       "    <tr>\n",
       "      <th>2</th>\n",
       "      <td>3</td>\n",
       "      <td>Grumpier Old Men (1995)</td>\n",
       "      <td>Comedy|Romance</td>\n",
       "    </tr>\n",
       "    <tr>\n",
       "      <th>3</th>\n",
       "      <td>4</td>\n",
       "      <td>Waiting to Exhale (1995)</td>\n",
       "      <td>Comedy|Drama|Romance</td>\n",
       "    </tr>\n",
       "    <tr>\n",
       "      <th>4</th>\n",
       "      <td>5</td>\n",
       "      <td>Father of the Bride Part II (1995)</td>\n",
       "      <td>Comedy</td>\n",
       "    </tr>\n",
       "  </tbody>\n",
       "</table>\n",
       "</div>"
      ],
      "text/plain": [
       "   movieId                               title  \\\n",
       "0        1                    Toy Story (1995)   \n",
       "1        2                      Jumanji (1995)   \n",
       "2        3             Grumpier Old Men (1995)   \n",
       "3        4            Waiting to Exhale (1995)   \n",
       "4        5  Father of the Bride Part II (1995)   \n",
       "\n",
       "                                        genres  \n",
       "0  Adventure|Animation|Children|Comedy|Fantasy  \n",
       "1                   Adventure|Children|Fantasy  \n",
       "2                               Comedy|Romance  \n",
       "3                         Comedy|Drama|Romance  \n",
       "4                                       Comedy  "
      ]
     },
     "execution_count": 4,
     "metadata": {},
     "output_type": "execute_result"
    }
   ],
   "source": [
    "print('Количество фильмов всего:',len(movies['movieId'].unique()))\n",
    "movies.head()"
   ]
  },
  {
   "cell_type": "code",
   "execution_count": 5,
   "metadata": {},
   "outputs": [
    {
     "name": "stdout",
     "output_type": "stream",
     "text": [
      "Количество фильмов c рейтингом: 53889\n"
     ]
    },
    {
     "data": {
      "text/html": [
       "<div>\n",
       "<style scoped>\n",
       "    .dataframe tbody tr th:only-of-type {\n",
       "        vertical-align: middle;\n",
       "    }\n",
       "\n",
       "    .dataframe tbody tr th {\n",
       "        vertical-align: top;\n",
       "    }\n",
       "\n",
       "    .dataframe thead th {\n",
       "        text-align: right;\n",
       "    }\n",
       "</style>\n",
       "<table border=\"1\" class=\"dataframe\">\n",
       "  <thead>\n",
       "    <tr style=\"text-align: right;\">\n",
       "      <th></th>\n",
       "      <th>userId</th>\n",
       "      <th>movieId</th>\n",
       "      <th>rating</th>\n",
       "      <th>timestamp</th>\n",
       "    </tr>\n",
       "  </thead>\n",
       "  <tbody>\n",
       "    <tr>\n",
       "      <th>0</th>\n",
       "      <td>1</td>\n",
       "      <td>307</td>\n",
       "      <td>3.5</td>\n",
       "      <td>1256677221</td>\n",
       "    </tr>\n",
       "    <tr>\n",
       "      <th>1</th>\n",
       "      <td>1</td>\n",
       "      <td>481</td>\n",
       "      <td>3.5</td>\n",
       "      <td>1256677456</td>\n",
       "    </tr>\n",
       "    <tr>\n",
       "      <th>2</th>\n",
       "      <td>1</td>\n",
       "      <td>1091</td>\n",
       "      <td>1.5</td>\n",
       "      <td>1256677471</td>\n",
       "    </tr>\n",
       "    <tr>\n",
       "      <th>3</th>\n",
       "      <td>1</td>\n",
       "      <td>1257</td>\n",
       "      <td>4.5</td>\n",
       "      <td>1256677460</td>\n",
       "    </tr>\n",
       "    <tr>\n",
       "      <th>4</th>\n",
       "      <td>1</td>\n",
       "      <td>1449</td>\n",
       "      <td>4.5</td>\n",
       "      <td>1256677264</td>\n",
       "    </tr>\n",
       "  </tbody>\n",
       "</table>\n",
       "</div>"
      ],
      "text/plain": [
       "   userId  movieId  rating   timestamp\n",
       "0       1      307     3.5  1256677221\n",
       "1       1      481     3.5  1256677456\n",
       "2       1     1091     1.5  1256677471\n",
       "3       1     1257     4.5  1256677460\n",
       "4       1     1449     4.5  1256677264"
      ]
     },
     "execution_count": 5,
     "metadata": {},
     "output_type": "execute_result"
    }
   ],
   "source": [
    "print('Количество фильмов c рейтингом:',len(ratings['movieId'].unique()))\n",
    "ratings.head()"
   ]
  },
  {
   "cell_type": "code",
   "execution_count": 6,
   "metadata": {},
   "outputs": [
    {
     "name": "stdout",
     "output_type": "stream",
     "text": [
      "Количество фильмов с тегами: 45981\n"
     ]
    },
    {
     "data": {
      "text/html": [
       "<div>\n",
       "<style scoped>\n",
       "    .dataframe tbody tr th:only-of-type {\n",
       "        vertical-align: middle;\n",
       "    }\n",
       "\n",
       "    .dataframe tbody tr th {\n",
       "        vertical-align: top;\n",
       "    }\n",
       "\n",
       "    .dataframe thead th {\n",
       "        text-align: right;\n",
       "    }\n",
       "</style>\n",
       "<table border=\"1\" class=\"dataframe\">\n",
       "  <thead>\n",
       "    <tr style=\"text-align: right;\">\n",
       "      <th></th>\n",
       "      <th>userId</th>\n",
       "      <th>movieId</th>\n",
       "      <th>tag</th>\n",
       "      <th>timestamp</th>\n",
       "    </tr>\n",
       "  </thead>\n",
       "  <tbody>\n",
       "    <tr>\n",
       "      <th>0</th>\n",
       "      <td>14</td>\n",
       "      <td>110</td>\n",
       "      <td>epic</td>\n",
       "      <td>1443148538</td>\n",
       "    </tr>\n",
       "    <tr>\n",
       "      <th>1</th>\n",
       "      <td>14</td>\n",
       "      <td>110</td>\n",
       "      <td>Medieval</td>\n",
       "      <td>1443148532</td>\n",
       "    </tr>\n",
       "    <tr>\n",
       "      <th>2</th>\n",
       "      <td>14</td>\n",
       "      <td>260</td>\n",
       "      <td>sci-fi</td>\n",
       "      <td>1442169410</td>\n",
       "    </tr>\n",
       "    <tr>\n",
       "      <th>3</th>\n",
       "      <td>14</td>\n",
       "      <td>260</td>\n",
       "      <td>space action</td>\n",
       "      <td>1442169421</td>\n",
       "    </tr>\n",
       "    <tr>\n",
       "      <th>4</th>\n",
       "      <td>14</td>\n",
       "      <td>318</td>\n",
       "      <td>imdb top 250</td>\n",
       "      <td>1442615195</td>\n",
       "    </tr>\n",
       "  </tbody>\n",
       "</table>\n",
       "</div>"
      ],
      "text/plain": [
       "   userId  movieId           tag   timestamp\n",
       "0      14      110          epic  1443148538\n",
       "1      14      110      Medieval  1443148532\n",
       "2      14      260        sci-fi  1442169410\n",
       "3      14      260  space action  1442169421\n",
       "4      14      318  imdb top 250  1442615195"
      ]
     },
     "execution_count": 6,
     "metadata": {},
     "output_type": "execute_result"
    }
   ],
   "source": [
    "print('Количество фильмов с тегами:',len(tags['movieId'].unique()))\n",
    "tags.head()"
   ]
  },
  {
   "cell_type": "code",
   "execution_count": 7,
   "metadata": {},
   "outputs": [
    {
     "name": "stdout",
     "output_type": "stream",
     "text": [
      "Количество фильмов всего: 12117\n",
      "Количество фильмов всего: 4209\n"
     ]
    }
   ],
   "source": [
    "print('Количество фильмов всего:',len(set(ratings['movieId'].unique()) - set(tags['movieId'].unique())))\n",
    "print('Количество фильмов всего:',len(set(tags['movieId'].unique()) - set(ratings['movieId'].unique())))"
   ]
  },
  {
   "cell_type": "code",
   "execution_count": 8,
   "metadata": {
    "scrolled": true
   },
   "outputs": [
    {
     "data": {
      "text/html": [
       "<div>\n",
       "<style scoped>\n",
       "    .dataframe tbody tr th:only-of-type {\n",
       "        vertical-align: middle;\n",
       "    }\n",
       "\n",
       "    .dataframe tbody tr th {\n",
       "        vertical-align: top;\n",
       "    }\n",
       "\n",
       "    .dataframe thead th {\n",
       "        text-align: right;\n",
       "    }\n",
       "</style>\n",
       "<table border=\"1\" class=\"dataframe\">\n",
       "  <thead>\n",
       "    <tr style=\"text-align: right;\">\n",
       "      <th></th>\n",
       "      <th>userId</th>\n",
       "      <th>movieId</th>\n",
       "    </tr>\n",
       "  </thead>\n",
       "  <tbody>\n",
       "    <tr>\n",
       "      <th>10</th>\n",
       "      <td>158002</td>\n",
       "      <td>5701</td>\n",
       "    </tr>\n",
       "    <tr>\n",
       "      <th>11</th>\n",
       "      <td>253511</td>\n",
       "      <td>5356</td>\n",
       "    </tr>\n",
       "    <tr>\n",
       "      <th>12</th>\n",
       "      <td>48470</td>\n",
       "      <td>5257</td>\n",
       "    </tr>\n",
       "    <tr>\n",
       "      <th>13</th>\n",
       "      <td>183233</td>\n",
       "      <td>5169</td>\n",
       "    </tr>\n",
       "    <tr>\n",
       "      <th>14</th>\n",
       "      <td>94843</td>\n",
       "      <td>5130</td>\n",
       "    </tr>\n",
       "    <tr>\n",
       "      <th>15</th>\n",
       "      <td>73145</td>\n",
       "      <td>5042</td>\n",
       "    </tr>\n",
       "    <tr>\n",
       "      <th>16</th>\n",
       "      <td>37046</td>\n",
       "      <td>5041</td>\n",
       "    </tr>\n",
       "    <tr>\n",
       "      <th>17</th>\n",
       "      <td>187986</td>\n",
       "      <td>4951</td>\n",
       "    </tr>\n",
       "    <tr>\n",
       "      <th>18</th>\n",
       "      <td>4796</td>\n",
       "      <td>4874</td>\n",
       "    </tr>\n",
       "    <tr>\n",
       "      <th>19</th>\n",
       "      <td>236981</td>\n",
       "      <td>4854</td>\n",
       "    </tr>\n",
       "  </tbody>\n",
       "</table>\n",
       "</div>"
      ],
      "text/plain": [
       "    userId  movieId\n",
       "10  158002     5701\n",
       "11  253511     5356\n",
       "12   48470     5257\n",
       "13  183233     5169\n",
       "14   94843     5130\n",
       "15   73145     5042\n",
       "16   37046     5041\n",
       "17  187986     4951\n",
       "18    4796     4874\n",
       "19  236981     4854"
      ]
     },
     "execution_count": 8,
     "metadata": {},
     "output_type": "execute_result"
    }
   ],
   "source": [
    "# Для того что бы проверить как работает наша рекомендательная система\n",
    "# выберем несколько пользователей и уберем для каждого последний фильм из просмотренных и \n",
    "# фильм с самым высоким рейтингом (ghb hfdtycndtr htqnbyujd ds,bhftv gjcktlybq gj dhtvtyb)\n",
    "# для которого поставлен рейтинг (уберем тег если он был поставлен)\n",
    "\n",
    "# Для эксперимента выберем пользователей с достаточно большим количеством фильмов\n",
    "\n",
    "test_users = ratings[['userId','movieId']].groupby('userId').count().sort_values('movieId',ascending=False).reset_index().iloc[10:20]\n",
    "test_users"
   ]
  },
  {
   "cell_type": "code",
   "execution_count": 9,
   "metadata": {},
   "outputs": [],
   "source": [
    "# для каждого тестового юзера уберем из таблици с рейтингом последний фильм\n",
    "last_movie_for_test_user = ratings[ratings['userId'].isin(test_users['userId'])].groupby('userId').apply(lambda x: x[['movieId','timestamp']].sort_values('timestamp',ascending=False)['movieId'].iloc[0])\n",
    "# для каждого тестового юзера уберем из таблици с рейтингом самый высокорейтинговый фильм \n",
    "last_movie_whit_best_ratings_for_test_user = ratings[ratings['userId'].isin(test_users['userId'])].groupby('userId').apply(lambda x: x[['movieId','rating','timestamp']].sort_values(['rating','timestamp'],ascending=False)['movieId'].iloc[0])"
   ]
  },
  {
   "cell_type": "code",
   "execution_count": 20,
   "metadata": {},
   "outputs": [
    {
     "data": {
      "text/plain": [
       "userId\n",
       "4796      120625\n",
       "37046     184997\n",
       "48470     152173\n",
       "73145     159817\n",
       "94843     179119\n",
       "158002    112552\n",
       "183233      5617\n",
       "187986        32\n",
       "236981    189911\n",
       "253511      8950\n",
       "dtype: int64"
      ]
     },
     "execution_count": 20,
     "metadata": {},
     "output_type": "execute_result"
    }
   ],
   "source": [
    "last_movie_whit_best_ratings_for_test_user"
   ]
  },
  {
   "cell_type": "code",
   "execution_count": 78,
   "metadata": {},
   "outputs": [],
   "source": [
    "list_user_movies = []\n",
    "for i in last_movie_for_test_user.index:   \n",
    "    list_user_movies.append([i,last_movie_for_test_user[i]])\n",
    "for i in last_movie_whit_best_ratings_for_test_user.index:   \n",
    "    list_user_movies.append([i,last_movie_whit_best_ratings_for_test_user[i]])\n",
    "\n",
    "ratings_train = ratings.copy()     \n",
    "ratings_train = ratings.copy() \n",
    "ratings_train[(ratings_train['userId'] == set(np.array(list_user_movies)[:,0]))]\n",
    "\n",
    "tags_train = tags.copy()\n",
    "drop_index = []\n",
    "for i,m in list_user_movies:\n",
    "    drop_index += list(ratings_train[((ratings_train['userId'] == i) & (ratings_train['movieId'] == m))].index)\n",
    "    drop_index+= list(tags_train[(tags_train['userId'] == i) & (tags_train['movieId'] == m)].index)\n"
   ]
  },
  {
   "cell_type": "code",
   "execution_count": 81,
   "metadata": {},
   "outputs": [
    {
     "data": {
      "text/html": [
       "<div>\n",
       "<style scoped>\n",
       "    .dataframe tbody tr th:only-of-type {\n",
       "        vertical-align: middle;\n",
       "    }\n",
       "\n",
       "    .dataframe tbody tr th {\n",
       "        vertical-align: top;\n",
       "    }\n",
       "\n",
       "    .dataframe thead th {\n",
       "        text-align: right;\n",
       "    }\n",
       "</style>\n",
       "<table border=\"1\" class=\"dataframe\">\n",
       "  <thead>\n",
       "    <tr style=\"text-align: right;\">\n",
       "      <th></th>\n",
       "      <th>userId</th>\n",
       "      <th>movieId</th>\n",
       "      <th>rating</th>\n",
       "      <th>timestamp</th>\n",
       "    </tr>\n",
       "  </thead>\n",
       "  <tbody>\n",
       "    <tr>\n",
       "      <th>470098</th>\n",
       "      <td>4796</td>\n",
       "      <td>174859</td>\n",
       "      <td>3.5</td>\n",
       "      <td>1510429596</td>\n",
       "    </tr>\n",
       "    <tr>\n",
       "      <th>3608268</th>\n",
       "      <td>37046</td>\n",
       "      <td>169784</td>\n",
       "      <td>3.5</td>\n",
       "      <td>1525058396</td>\n",
       "    </tr>\n",
       "    <tr>\n",
       "      <th>4726676</th>\n",
       "      <td>48470</td>\n",
       "      <td>193323</td>\n",
       "      <td>1.5</td>\n",
       "      <td>1536599183</td>\n",
       "    </tr>\n",
       "    <tr>\n",
       "      <th>7128948</th>\n",
       "      <td>73145</td>\n",
       "      <td>193825</td>\n",
       "      <td>1.0</td>\n",
       "      <td>1537734992</td>\n",
       "    </tr>\n",
       "    <tr>\n",
       "      <th>9196588</th>\n",
       "      <td>94843</td>\n",
       "      <td>174819</td>\n",
       "      <td>0.5</td>\n",
       "      <td>1533449915</td>\n",
       "    </tr>\n",
       "    <tr>\n",
       "      <th>15472019</th>\n",
       "      <td>158002</td>\n",
       "      <td>144982</td>\n",
       "      <td>3.0</td>\n",
       "      <td>1481609038</td>\n",
       "    </tr>\n",
       "    <tr>\n",
       "      <th>17929149</th>\n",
       "      <td>183233</td>\n",
       "      <td>5932</td>\n",
       "      <td>4.0</td>\n",
       "      <td>1038246615</td>\n",
       "    </tr>\n",
       "    <tr>\n",
       "      <th>18425639</th>\n",
       "      <td>187986</td>\n",
       "      <td>166635</td>\n",
       "      <td>3.5</td>\n",
       "      <td>1523402033</td>\n",
       "    </tr>\n",
       "    <tr>\n",
       "      <th>23180999</th>\n",
       "      <td>236981</td>\n",
       "      <td>193615</td>\n",
       "      <td>3.0</td>\n",
       "      <td>1537290490</td>\n",
       "    </tr>\n",
       "    <tr>\n",
       "      <th>24807561</th>\n",
       "      <td>253511</td>\n",
       "      <td>85327</td>\n",
       "      <td>2.0</td>\n",
       "      <td>1317692819</td>\n",
       "    </tr>\n",
       "    <tr>\n",
       "      <th>469788</th>\n",
       "      <td>4796</td>\n",
       "      <td>120625</td>\n",
       "      <td>5.0</td>\n",
       "      <td>1494292077</td>\n",
       "    </tr>\n",
       "    <tr>\n",
       "      <th>3608430</th>\n",
       "      <td>37046</td>\n",
       "      <td>184997</td>\n",
       "      <td>5.0</td>\n",
       "      <td>1525053245</td>\n",
       "    </tr>\n",
       "    <tr>\n",
       "      <th>4726587</th>\n",
       "      <td>48470</td>\n",
       "      <td>152173</td>\n",
       "      <td>5.0</td>\n",
       "      <td>1498523296</td>\n",
       "    </tr>\n",
       "    <tr>\n",
       "      <th>7128890</th>\n",
       "      <td>73145</td>\n",
       "      <td>159817</td>\n",
       "      <td>5.0</td>\n",
       "      <td>1512180028</td>\n",
       "    </tr>\n",
       "    <tr>\n",
       "      <th>9196619</th>\n",
       "      <td>94843</td>\n",
       "      <td>179119</td>\n",
       "      <td>5.0</td>\n",
       "      <td>1529807129</td>\n",
       "    </tr>\n",
       "    <tr>\n",
       "      <th>15471882</th>\n",
       "      <td>158002</td>\n",
       "      <td>112552</td>\n",
       "      <td>5.0</td>\n",
       "      <td>1429172921</td>\n",
       "    </tr>\n",
       "    <tr>\n",
       "      <th>17929052</th>\n",
       "      <td>183233</td>\n",
       "      <td>5617</td>\n",
       "      <td>5.0</td>\n",
       "      <td>1033482033</td>\n",
       "    </tr>\n",
       "    <tr>\n",
       "      <th>18420706</th>\n",
       "      <td>187986</td>\n",
       "      <td>32</td>\n",
       "      <td>5.0</td>\n",
       "      <td>1459091605</td>\n",
       "    </tr>\n",
       "    <tr>\n",
       "      <th>23180978</th>\n",
       "      <td>236981</td>\n",
       "      <td>189911</td>\n",
       "      <td>4.5</td>\n",
       "      <td>1533503000</td>\n",
       "    </tr>\n",
       "    <tr>\n",
       "      <th>24806007</th>\n",
       "      <td>253511</td>\n",
       "      <td>8950</td>\n",
       "      <td>5.0</td>\n",
       "      <td>1163450713</td>\n",
       "    </tr>\n",
       "  </tbody>\n",
       "</table>\n",
       "</div>"
      ],
      "text/plain": [
       "          userId  movieId  rating   timestamp\n",
       "470098      4796   174859     3.5  1510429596\n",
       "3608268    37046   169784     3.5  1525058396\n",
       "4726676    48470   193323     1.5  1536599183\n",
       "7128948    73145   193825     1.0  1537734992\n",
       "9196588    94843   174819     0.5  1533449915\n",
       "15472019  158002   144982     3.0  1481609038\n",
       "17929149  183233     5932     4.0  1038246615\n",
       "18425639  187986   166635     3.5  1523402033\n",
       "23180999  236981   193615     3.0  1537290490\n",
       "24807561  253511    85327     2.0  1317692819\n",
       "469788      4796   120625     5.0  1494292077\n",
       "3608430    37046   184997     5.0  1525053245\n",
       "4726587    48470   152173     5.0  1498523296\n",
       "7128890    73145   159817     5.0  1512180028\n",
       "9196619    94843   179119     5.0  1529807129\n",
       "15471882  158002   112552     5.0  1429172921\n",
       "17929052  183233     5617     5.0  1033482033\n",
       "18420706  187986       32     5.0  1459091605\n",
       "23180978  236981   189911     4.5  1533503000\n",
       "24806007  253511     8950     5.0  1163450713"
      ]
     },
     "execution_count": 81,
     "metadata": {},
     "output_type": "execute_result"
    }
   ],
   "source": [
    "ratings_train.loc[drop_index]"
   ]
  },
  {
   "cell_type": "code",
   "execution_count": 67,
   "metadata": {},
   "outputs": [
    {
     "name": "stderr",
     "output_type": "stream",
     "text": [
      "/home/user/.local/lib/python3.6/site-packages/ipykernel_launcher.py:1: UserWarning: Boolean Series key will be reindexed to match DataFrame index.\n",
      "  \"\"\"Entry point for launching an IPython kernel.\n"
     ]
    },
    {
     "data": {
      "text/plain": [
       "27748534"
      ]
     },
     "execution_count": 67,
     "metadata": {},
     "output_type": "execute_result"
    }
   ],
   "source": [
    "len(ratings[ratings['userId'] == 4796ratings['movieId'] != 174859])"
   ]
  },
  {
   "cell_type": "code",
   "execution_count": 57,
   "metadata": {},
   "outputs": [
    {
     "data": {
      "text/plain": [
       "137211"
      ]
     },
     "execution_count": 57,
     "metadata": {},
     "output_type": "execute_result"
    }
   ],
   "source": [
    "len(ratings) - len(ratings_train)"
   ]
  },
  {
   "cell_type": "code",
   "execution_count": null,
   "metadata": {},
   "outputs": [],
   "source": []
  },
  {
   "cell_type": "code",
   "execution_count": 46,
   "metadata": {},
   "outputs": [
    {
     "data": {
      "text/plain": [
       "{4796, 37046, 48470, 73145, 94843, 158002, 183233, 187986, 236981, 253511}"
      ]
     },
     "execution_count": 46,
     "metadata": {},
     "output_type": "execute_result"
    }
   ],
   "source": [
    "set(np.array(list_user_movies)[:,0])"
   ]
  },
  {
   "cell_type": "code",
   "execution_count": 24,
   "metadata": {},
   "outputs": [
    {
     "data": {
      "text/plain": [
       "0"
      ]
     },
     "execution_count": 24,
     "metadata": {},
     "output_type": "execute_result"
    }
   ],
   "source": [
    "len(ratings_train)"
   ]
  },
  {
   "cell_type": "code",
   "execution_count": 22,
   "metadata": {},
   "outputs": [
    {
     "data": {
      "text/html": [
       "<div>\n",
       "<style scoped>\n",
       "    .dataframe tbody tr th:only-of-type {\n",
       "        vertical-align: middle;\n",
       "    }\n",
       "\n",
       "    .dataframe tbody tr th {\n",
       "        vertical-align: top;\n",
       "    }\n",
       "\n",
       "    .dataframe thead th {\n",
       "        text-align: right;\n",
       "    }\n",
       "</style>\n",
       "<table border=\"1\" class=\"dataframe\">\n",
       "  <thead>\n",
       "    <tr style=\"text-align: right;\">\n",
       "      <th></th>\n",
       "      <th>userId</th>\n",
       "      <th>movieId</th>\n",
       "      <th>rating</th>\n",
       "      <th>timestamp</th>\n",
       "    </tr>\n",
       "  </thead>\n",
       "  <tbody>\n",
       "  </tbody>\n",
       "</table>\n",
       "</div>"
      ],
      "text/plain": [
       "Empty DataFrame\n",
       "Columns: [userId, movieId, rating, timestamp]\n",
       "Index: []"
      ]
     },
     "execution_count": 22,
     "metadata": {},
     "output_type": "execute_result"
    }
   ],
   "source": [
    "ratings_train"
   ]
  },
  {
   "cell_type": "code",
   "execution_count": 30,
   "metadata": {},
   "outputs": [],
   "source": [
    "def change_string(l):\n",
    "    return '|'.join(str(x) for x in l).replace(' ', '').replace('-', '')"
   ]
  },
  {
   "cell_type": "code",
   "execution_count": 32,
   "metadata": {},
   "outputs": [
    {
     "data": {
      "text/html": [
       "<div>\n",
       "<style scoped>\n",
       "    .dataframe tbody tr th:only-of-type {\n",
       "        vertical-align: middle;\n",
       "    }\n",
       "\n",
       "    .dataframe tbody tr th {\n",
       "        vertical-align: top;\n",
       "    }\n",
       "\n",
       "    .dataframe thead th {\n",
       "        text-align: right;\n",
       "    }\n",
       "</style>\n",
       "<table border=\"1\" class=\"dataframe\">\n",
       "  <thead>\n",
       "    <tr style=\"text-align: right;\">\n",
       "      <th></th>\n",
       "      <th>movieId</th>\n",
       "      <th>tags</th>\n",
       "    </tr>\n",
       "  </thead>\n",
       "  <tbody>\n",
       "    <tr>\n",
       "      <th>0</th>\n",
       "      <td>1</td>\n",
       "      <td>animated|buddymovie|Cartoon|cgi|comedy|compute...</td>\n",
       "    </tr>\n",
       "    <tr>\n",
       "      <th>1</th>\n",
       "      <td>2</td>\n",
       "      <td>fantasy|adaptedfrom:book|animals|badcgi|basedo...</td>\n",
       "    </tr>\n",
       "    <tr>\n",
       "      <th>2</th>\n",
       "      <td>3</td>\n",
       "      <td>moldy|old|AnnMargaret|BurgessMeredith|DarylHan...</td>\n",
       "    </tr>\n",
       "    <tr>\n",
       "      <th>3</th>\n",
       "      <td>4</td>\n",
       "      <td>characters|girlmovie|characters|chickflick|bas...</td>\n",
       "    </tr>\n",
       "    <tr>\n",
       "      <th>4</th>\n",
       "      <td>5</td>\n",
       "      <td>stevemartin|stevemartin|pregnancy|remake|aging...</td>\n",
       "    </tr>\n",
       "  </tbody>\n",
       "</table>\n",
       "</div>"
      ],
      "text/plain": [
       "   movieId                                               tags\n",
       "0        1  animated|buddymovie|Cartoon|cgi|comedy|compute...\n",
       "1        2  fantasy|adaptedfrom:book|animals|badcgi|basedo...\n",
       "2        3  moldy|old|AnnMargaret|BurgessMeredith|DarylHan...\n",
       "3        4  characters|girlmovie|characters|chickflick|bas...\n",
       "4        5  stevemartin|stevemartin|pregnancy|remake|aging..."
      ]
     },
     "execution_count": 32,
     "metadata": {},
     "output_type": "execute_result"
    }
   ],
   "source": [
    "tags_gr = pd.DataFrame(tags.groupby('movieId').apply(lambda x: change_string(list(x['tag']))), columns=['tags']).reset_index()\n",
    "tags_gr.head()"
   ]
  },
  {
   "cell_type": "code",
   "execution_count": 33,
   "metadata": {},
   "outputs": [
    {
     "data": {
      "text/html": [
       "<div>\n",
       "<style scoped>\n",
       "    .dataframe tbody tr th:only-of-type {\n",
       "        vertical-align: middle;\n",
       "    }\n",
       "\n",
       "    .dataframe tbody tr th {\n",
       "        vertical-align: top;\n",
       "    }\n",
       "\n",
       "    .dataframe thead th {\n",
       "        text-align: right;\n",
       "    }\n",
       "</style>\n",
       "<table border=\"1\" class=\"dataframe\">\n",
       "  <thead>\n",
       "    <tr style=\"text-align: right;\">\n",
       "      <th></th>\n",
       "      <th>movieId</th>\n",
       "      <th>title</th>\n",
       "      <th>genres</th>\n",
       "      <th>tags</th>\n",
       "    </tr>\n",
       "  </thead>\n",
       "  <tbody>\n",
       "    <tr>\n",
       "      <th>0</th>\n",
       "      <td>1</td>\n",
       "      <td>Toy Story (1995)</td>\n",
       "      <td>Adventure|Animation|Children|Comedy|Fantasy</td>\n",
       "      <td>animated|buddymovie|Cartoon|cgi|comedy|compute...</td>\n",
       "    </tr>\n",
       "    <tr>\n",
       "      <th>1</th>\n",
       "      <td>2</td>\n",
       "      <td>Jumanji (1995)</td>\n",
       "      <td>Adventure|Children|Fantasy</td>\n",
       "      <td>fantasy|adaptedfrom:book|animals|badcgi|basedo...</td>\n",
       "    </tr>\n",
       "    <tr>\n",
       "      <th>2</th>\n",
       "      <td>3</td>\n",
       "      <td>Grumpier Old Men (1995)</td>\n",
       "      <td>Comedy|Romance</td>\n",
       "      <td>moldy|old|AnnMargaret|BurgessMeredith|DarylHan...</td>\n",
       "    </tr>\n",
       "    <tr>\n",
       "      <th>3</th>\n",
       "      <td>4</td>\n",
       "      <td>Waiting to Exhale (1995)</td>\n",
       "      <td>Comedy|Drama|Romance</td>\n",
       "      <td>characters|girlmovie|characters|chickflick|bas...</td>\n",
       "    </tr>\n",
       "    <tr>\n",
       "      <th>4</th>\n",
       "      <td>5</td>\n",
       "      <td>Father of the Bride Part II (1995)</td>\n",
       "      <td>Comedy</td>\n",
       "      <td>stevemartin|stevemartin|pregnancy|remake|aging...</td>\n",
       "    </tr>\n",
       "  </tbody>\n",
       "</table>\n",
       "</div>"
      ],
      "text/plain": [
       "   movieId                               title  \\\n",
       "0        1                    Toy Story (1995)   \n",
       "1        2                      Jumanji (1995)   \n",
       "2        3             Grumpier Old Men (1995)   \n",
       "3        4            Waiting to Exhale (1995)   \n",
       "4        5  Father of the Bride Part II (1995)   \n",
       "\n",
       "                                        genres  \\\n",
       "0  Adventure|Animation|Children|Comedy|Fantasy   \n",
       "1                   Adventure|Children|Fantasy   \n",
       "2                               Comedy|Romance   \n",
       "3                         Comedy|Drama|Romance   \n",
       "4                                       Comedy   \n",
       "\n",
       "                                                tags  \n",
       "0  animated|buddymovie|Cartoon|cgi|comedy|compute...  \n",
       "1  fantasy|adaptedfrom:book|animals|badcgi|basedo...  \n",
       "2  moldy|old|AnnMargaret|BurgessMeredith|DarylHan...  \n",
       "3  characters|girlmovie|characters|chickflick|bas...  \n",
       "4  stevemartin|stevemartin|pregnancy|remake|aging...  "
      ]
     },
     "execution_count": 33,
     "metadata": {},
     "output_type": "execute_result"
    }
   ],
   "source": [
    "movie_tag = pd.merge(movies, tags_gr, on='movieId', how='left').fillna('')\n",
    "movie_tag.head()"
   ]
  },
  {
   "cell_type": "code",
   "execution_count": null,
   "metadata": {},
   "outputs": [],
   "source": []
  },
  {
   "cell_type": "code",
   "execution_count": null,
   "metadata": {},
   "outputs": [],
   "source": [
    "movies_with_ratings = movies.join(ratings.set_index('movieId'), on='movieId').reset_index(drop=True)\n",
    "movies_with_ratings.dropna(inplace=True)"
   ]
  },
  {
   "cell_type": "code",
   "execution_count": 4,
   "metadata": {},
   "outputs": [],
   "source": [
    "# Функция получения фильмов\n",
    "# Параметры функции\n",
    "#  user_id\n",
    "#  tags_query   \n",
    "#  genres_query\n",
    "#  movie_id_query\n",
    "#\n",
    "# Результат работы функции  \n",
    "#\n",
    "#  При запросе в зависимости от параметров получаем список релевантных фильмов\n",
    "#  \n",
    "#  порядок поиска фильмов следующий\n",
    "#  1. получаем список фильмов               \n",
    "#  \n",
    "#  \n",
    "#  \n",
    "#  \n"
   ]
  },
  {
   "cell_type": "code",
   "execution_count": 40,
   "metadata": {},
   "outputs": [
    {
     "data": {
      "text/plain": [
       "[1186,\n",
       " 2243,\n",
       " 2915,\n",
       " 3363,\n",
       " 170,\n",
       " 1962,\n",
       " 2108,\n",
       " 1296,\n",
       " 849,\n",
       " 2352,\n",
       " 1235,\n",
       " 2707,\n",
       " 2746,\n",
       " 1244,\n",
       " 1663]"
      ]
     },
     "execution_count": 40,
     "metadata": {},
     "output_type": "execute_result"
    }
   ],
   "source": [
    "get_movieId_of_user_id(2)"
   ]
  },
  {
   "cell_type": "code",
   "execution_count": null,
   "metadata": {},
   "outputs": [],
   "source": [
    "tfidf_transformer = TfidfVectorizer(ngram_range=(1,3))\n",
    "X_train_tfidf = tfidf_transformer.fit_transform(X_train['tags_gnr'])\n",
    "\n",
    "# получим tf_idf для тестовой выборки\n",
    "X_test_tfidf = tfidf_transformer.transform(X_test['tags_gnr'])\n"
   ]
  },
  {
   "cell_type": "code",
   "execution_count": null,
   "metadata": {},
   "outputs": [],
   "source": [
    "movies_with_ratings = movies.join(ratings.set_index('movieId'), on='movieId').reset_index(drop=True)\n",
    "movies_with_ratings.dropna(inplace=True)\n",
    "\n",
    "dataset = pd.DataFrame({\n",
    "    'uid': movies_with_ratings.userId,\n",
    "    'iid': movies_with_ratings.title,\n",
    "    'rating': movies_with_ratings.rating\n",
    "})\n",
    "reader = Reader(rating_scale=(0.5, 5.0))\n",
    "data = Dataset.load_from_df(dataset, reader)"
   ]
  },
  {
   "cell_type": "code",
   "execution_count": 38,
   "metadata": {},
   "outputs": [],
   "source": [
    "def get_movieId_of_user_id(user_id):\n",
    "    on_tags = set(tags[tags['userId'] == user_id]['movieId'])\n",
    "    on_ratings = set(ratings[ratings['userId'] == user_id]['movieId'])\n",
    "    return list(on_tags | on_ratings)\n",
    "\n",
    "\n",
    "\n",
    "def get_movies(user_id=None, tags_query=None, genres_query=None, movie_id_query=None):\n",
    "    pass\n",
    "    #if user_id is None:\n",
    "    #user_movies = movies_with_ratings[movies_with_ratings.userId == current_user_id].title.unique()\n",
    "    "
   ]
  },
  {
   "cell_type": "code",
   "execution_count": 6,
   "metadata": {},
   "outputs": [
    {
     "name": "stdout",
     "output_type": "stream",
     "text": [
      "None\n"
     ]
    }
   ],
   "source": [
    "x = None\n",
    "if x is None:\n",
    "    print(x)"
   ]
  },
  {
   "cell_type": "code",
   "execution_count": null,
   "metadata": {},
   "outputs": [],
   "source": []
  }
 ],
 "metadata": {
  "kernelspec": {
   "display_name": "Python 3",
   "language": "python",
   "name": "python3"
  },
  "language_info": {
   "codemirror_mode": {
    "name": "ipython",
    "version": 3
   },
   "file_extension": ".py",
   "mimetype": "text/x-python",
   "name": "python",
   "nbconvert_exporter": "python",
   "pygments_lexer": "ipython3",
   "version": "3.6.7"
  }
 },
 "nbformat": 4,
 "nbformat_minor": 2
}
