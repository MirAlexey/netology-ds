{
 "cells": [
  {
   "cell_type": "code",
   "execution_count": null,
   "metadata": {},
   "outputs": [],
   "source": [
    "# Прошу прощения, пока все еще не сделано. Прошу еще раз отправить на доработку. "
   ]
  },
  {
   "cell_type": "code",
   "execution_count": null,
   "metadata": {},
   "outputs": [],
   "source": [
    "Модели ARIMA и GARCH, прогнозирование значений на их основе\n",
    "Преподаватель: Алексей Кузьмин\n",
    "\n",
    "Выберите ряд из первого задания и постройте его модель ARIMA/GARCH. Отчет нужно будет оформить в jupyter-ноутбук.\n",
    "Дополнительное задание: попробуйте спрогнозировать график классическим ML.\n"
   ]
  },
  {
   "cell_type": "code",
   "execution_count": null,
   "metadata": {},
   "outputs": [],
   "source": [
    "import pandas as pd\n",
    "import numpy as np\n",
    "import tqdm\n",
    "from sklearn.metrics import mean_squared_error\n",
    "from statsmodels.tsa.stattools import adfuller\n",
    "import statsmodels.api as sm\n",
    "import statsmodels.tsa.api as smt\n",
    "from statsmodels.tsa.stattools import adfuller\n",
    "import matplotlib.pyplot as plt\n",
    "from scipy.stats import boxcox\n",
    "from math import sqrt"
   ]
  },
  {
   "cell_type": "code",
   "execution_count": null,
   "metadata": {},
   "outputs": [],
   "source": [
    "import matplotlib.pyplot as plt\n",
    "%matplotlib inline"
   ]
  },
  {
   "cell_type": "code",
   "execution_count": null,
   "metadata": {},
   "outputs": [],
   "source": [
    "def test_stationarity(timeseries):\n",
    "    print('Results of Dickey-Fuller Test:')\n",
    "    dftest = adfuller(timeseries, autolag='AIC')\n",
    "    dfoutput = pd.Series(dftest[0:4], index=['Test Statistic', 'p-value', '#Lags Used', 'Number of Observations Used'])\n",
    "    for [key, value] in dftest[4].items():\n",
    "        dfoutput['Critical Value (%s)' % key] = value\n",
    "    print(dfoutput)"
   ]
  },
  {
   "cell_type": "code",
   "execution_count": null,
   "metadata": {},
   "outputs": [],
   "source": [
    "def tsplot(y, lags=None, figsize=(14, 8), style='bmh'):\n",
    "    test_stationarity(y)\n",
    "    if not isinstance(y, pd.Series):\n",
    "        y = pd.Series(y)\n",
    "    with plt.style.context(style):\n",
    "        plt.figure(figsize=figsize)\n",
    "        layout = (5, 1)\n",
    "        ts_ax = plt.subplot2grid(layout, (0, 0), rowspan=2)\n",
    "        acf_ax = plt.subplot2grid(layout, (2, 0))\n",
    "        pacf_ax = plt.subplot2grid(layout, (3, 0))\n",
    "        qq_ax = plt.subplot2grid(layout, (4, 0))\n",
    "\n",
    "        y.plot(ax=ts_ax, color='blue', label='Or')\n",
    "        ts_ax.set_title('Original')\n",
    "\n",
    "        smt.graphics.plot_acf(y, lags=lags, ax=acf_ax, alpha=0.05)\n",
    "        smt.graphics.plot_pacf(y, lags=lags, ax=pacf_ax, alpha=0.05)\n",
    "        sm.qqplot(y, line='s', ax=qq_ax)\n",
    "        \n",
    "        plt.tight_layout()\n",
    "    return"
   ]
  },
  {
   "cell_type": "code",
   "execution_count": null,
   "metadata": {},
   "outputs": [],
   "source": [
    "np.random.seed(1)\n",
    "n_samples = int(1000)\n",
    "a = 0.5\n",
    "x = w = np.random.normal(size=n_samples)\n",
    "\n",
    "for t in range(n_samples):\n",
    "    x[t] = a*x[t-1] + w[t]\n",
    "    \n",
    "tsplot(x, lags=30)"
   ]
  },
  {
   "cell_type": "code",
   "execution_count": null,
   "metadata": {},
   "outputs": [],
   "source": [
    "np.random.seed(1)\n",
    "n_samples = int(1000)\n",
    "a1 = 0.6\n",
    "a2 = 0.3\n",
    "\n",
    "x = w = np.random.normal(size=n_samples)\n",
    "\n",
    "for t in range(n_samples):\n",
    "    x[t] = a1*x[t-1]+ a2*x[t-2]  + w[t]\n",
    "    \n",
    "tsplot(x, lags=30)"
   ]
  },
  {
   "cell_type": "code",
   "execution_count": null,
   "metadata": {},
   "outputs": [],
   "source": [
    "mdl = smt.AR(np.array(series)).fit(maxlag=30, ic='aic', trend='nc')\n",
    "print(mdl.params)\n",
    "\n",
    "series_diff = np.diff(series)\n",
    "series_diff1 = series_diff[:-12] - series_diff[12:] \n",
    "tsplot(series_diff1)\n",
    "\n",
    "mdl = smt.AR(series_diff1).fit(maxlag=30, ic='aic', trend='nc')\n",
    "print(mdl.params)"
   ]
  },
  {
   "cell_type": "code",
   "execution_count": null,
   "metadata": {},
   "outputs": [],
   "source": [
    "# Simulate an ARMA(2, 2) model with alphas=[0.5,-0.25] and betas=[0.5,-0.3]\n",
    "max_lag = 30\n",
    "\n",
    "n = int(5000) # lots of samples to help estimates\n",
    "burn = int(n/10) # number of samples to discard before fit\n",
    "\n",
    "alphas = np.array([0.5, -0.25])\n",
    "betas = np.array([0.5, -0.3])\n",
    "ar = np.r_[1, -alphas]\n",
    "ma = np.r_[1, betas]\n",
    "\n",
    "arma22 = smt.arma_generate_sample(ar=ar, ma=ma, nsample=n, burnin=burn)\n",
    "tsplot(arma22, lags=max_lag)\n",
    "\n",
    "mdl = smt.ARMA(arma22, order=(2, 2)).fit(maxlag=max_lag, method='mle', trend='nc', burnin=burn)\n",
    "print(mdl.summary())"
   ]
  },
  {
   "cell_type": "code",
   "execution_count": null,
   "metadata": {},
   "outputs": [],
   "source": [
    "for p in range(1,5):\n",
    "    for q in range(1,p+1): \n",
    "        mdl = smt.ARMA(arma22, order=(p,q)).fit(maxlag=max_lag, method='mle', trend='nc', burnin=burn)\n",
    "        print('aic{} p:{} q:{}'.format(mdl.aic, p , q))"
   ]
  },
  {
   "cell_type": "code",
   "execution_count": null,
   "metadata": {},
   "outputs": [],
   "source": [
    "series = pd.read_csv(\"international-airline-passengers.csv\")['count'].dropna()\n",
    "series = boxcox(series, 0)\n",
    "series = series[12:] - series[:-12]\n",
    "series = series[1:] - series[:-1]\n",
    "tsplot(series)"
   ]
  },
  {
   "cell_type": "code",
   "execution_count": null,
   "metadata": {},
   "outputs": [],
   "source": [
    "best_aic = np.inf \n",
    "best_order = None\n",
    "best_mdl = None\n",
    "\n",
    "for i in range(5):\n",
    "    for j in range(5):\n",
    "        try:\n",
    "            tmp_mdl = smt.ARMA(series, order=(i, j)).fit(\n",
    "                method='mle', trend='nc'\n",
    "            )\n",
    "            tmp_aic = tmp_mdl.aic\n",
    "            if tmp_aic < best_aic:\n",
    "                best_aic = tmp_aic\n",
    "                best_order = (i, j)\n",
    "                best_mdl = tmp_mdl\n",
    "        except: continue\n",
    "\n",
    "\n",
    "print('aic: {:6.5f} | order: {}'.format(best_aic, best_order))"
   ]
  },
  {
   "cell_type": "code",
   "execution_count": null,
   "metadata": {},
   "outputs": [],
   "source": [
    "mdl = smt.ARMA(series, order=(4, 4)).fit(\n",
    "                method='mle', trend='nc'\n",
    "            )\n",
    "tsplot(mdl.resid)"
   ]
  },
  {
   "cell_type": "code",
   "execution_count": null,
   "metadata": {},
   "outputs": [],
   "source": [
    "with plt.style.context('bmh'):\n",
    "    plt.figure(figsize=(14,8))\n",
    "    ax = plt.axes()\n",
    "    mdl.plot_predict(0, len(series)+20, ax=ax)\n",
    "    plt.plot(series, color='red', label='Series')\n",
    "    plt.legend()\n",
    "    plt.show()"
   ]
  },
  {
   "cell_type": "code",
   "execution_count": null,
   "metadata": {},
   "outputs": [],
   "source": [
    "best_aic = np.inf \n",
    "best_order = None\n",
    "best_mdl = None\n",
    "\n",
    "for i in range(5):\n",
    "    for d in range(5):\n",
    "        for j in range(5):\n",
    "            try:\n",
    "                tmp_mdl = smt.ARIMA(series, order=(i,d,j)).fit(method='mle', trend='nc')\n",
    "                tmp_aic = tmp_mdl.aic\n",
    "                if tmp_aic < best_aic:\n",
    "                    best_aic = tmp_aic\n",
    "                    best_order = (i, d, j)\n",
    "                    best_mdl = tmp_mdl\n",
    "            except: continue\n",
    "\n",
    "\n",
    "print('aic: {:6.5f} | order: {}'.format(best_aic, best_order))\n",
    "\n",
    "\n",
    "tsplot(best_mdl.resid, lags=30)"
   ]
  },
  {
   "cell_type": "code",
   "execution_count": null,
   "metadata": {},
   "outputs": [],
   "source": [
    "with plt.style.context('bmh'):\n",
    "    plt.figure(figsize=(14,8))\n",
    "    ax = plt.axes()\n",
    "    best_mdl.plot_predict(0, len(series)+20, ax=ax)\n",
    "    plt.plot(series, color='red', label='Series')\n",
    "    plt.legend()\n",
    "    plt.show()"
   ]
  },
  {
   "cell_type": "code",
   "execution_count": null,
   "metadata": {},
   "outputs": [],
   "source": [
    "best_aic = np.inf \n",
    "best_order = None\n",
    "best_mdl = None\n",
    "\n",
    "for i in range(5):\n",
    "    for d in range(5):\n",
    "        for j in range(5):\n",
    "            try:\n",
    "                tmp_mdl = smt.ARIMA(new_series, order=(i,d,j)).fit(method='mle', trend='nc')\n",
    "                tmp_aic = tmp_mdl.aic\n",
    "                if tmp_aic < best_aic:\n",
    "                    best_aic = tmp_aic\n",
    "                    best_order = (i, d, j)\n",
    "                    best_mdl = tmp_mdl\n",
    "            except: continue\n",
    "\n",
    "\n",
    "print('aic: {:6.5f} | order: {}'.format(best_aic, best_order))\n",
    "\n",
    "\n",
    "tsplot(best_mdl.resid, lags=30)\n",
    "\n",
    "\n",
    "with plt.style.context('bmh'):\n",
    "    plt.figure(figsize=(14,8))\n",
    "    ax = plt.axes()\n",
    "    best_mdl.plot_predict(2, len(new_series)+20, ax=ax)\n",
    "    plt.plot(new_series, color='red', label='Series')\n",
    "    plt.legend()\n",
    "    plt.show()"
   ]
  },
  {
   "cell_type": "code",
   "execution_count": null,
   "metadata": {},
   "outputs": [],
   "source": [
    "np.random.seed(13)\n",
    "\n",
    "a0 = 2\n",
    "a1 = .5\n",
    "\n",
    "y = w = np.random.normal(size=1000)\n",
    "Y = np.empty_like(y)\n",
    "\n",
    "for t in range(len(y)):\n",
    "    Y[t] = w[t] * np.sqrt((a0 + a1*y[t-1]**2))\n",
    "\n",
    "# simulated ARCH(1) series, looks like white noise\n",
    "tsplot(Y, lags=30)"
   ]
  },
  {
   "cell_type": "code",
   "execution_count": null,
   "metadata": {},
   "outputs": [],
   "source": [
    "from arch import arch_model\n",
    "\n",
    "np.random.seed(13)\n",
    "\n",
    "a0 = 2\n",
    "a1 = 2.5\n",
    "b1 = 1.04\n",
    "var = 0\n",
    "\n",
    "y = w = np.random.normal(size=1000)\n",
    "Y = np.empty_like(y)\n",
    "\n",
    "\n",
    "for t in range(len(y)):\n",
    "    var = np.sqrt(a0 + a1*y[t-1]**2 + b1* var**2)\n",
    "    Y[t] = w[t] * var\n",
    "\n",
    "# simulated ARCH(1) series, looks like white noise\n",
    "tsplot(Y, lags=30)"
   ]
  },
  {
   "cell_type": "code",
   "execution_count": null,
   "metadata": {},
   "outputs": [],
   "source": [
    "best_aic = np.inf \n",
    "best_order = None\n",
    "best_mdl = None\n",
    "\n",
    "for i in range(5):\n",
    "    for d in range(5):\n",
    "        for j in range(5):\n",
    "            try:\n",
    "                tmp_mdl = smt.ARIMA(Y, order=(i,d,j)).fit(method='mle', trend='nc')\n",
    "                tmp_aic = tmp_mdl.aic\n",
    "                if tmp_aic < best_aic:\n",
    "                    best_aic = tmp_aic\n",
    "                    best_order = (i, d, j)\n",
    "                    best_mdl = tmp_mdl\n",
    "            except: continue\n",
    "\n",
    "\n",
    "print('aic: {:6.5f} | order: {}'.format(best_aic, best_order))\n",
    "\n",
    "\n",
    "tsplot(best_mdl.resid, lags=30)"
   ]
  },
  {
   "cell_type": "code",
   "execution_count": null,
   "metadata": {},
   "outputs": [],
   "source": []
  },
  {
   "cell_type": "code",
   "execution_count": null,
   "metadata": {},
   "outputs": [],
   "source": [
    "def _get_best_model(TS):\n",
    "    best_aic = np.inf \n",
    "    best_order = None\n",
    "    best_mdl = None\n",
    "\n",
    "    for i in range(5):\n",
    "        for d in range(5):\n",
    "            for j in range(5):\n",
    "                try:\n",
    "                    tmp_mdl = smt.ARIMA(TS, order=(i,d,j)).fit(\n",
    "                        method='mle', trend='nc'\n",
    "                    )\n",
    "                    tmp_aic = tmp_mdl.aic\n",
    "                    if tmp_aic < best_aic:\n",
    "                        best_aic = tmp_aic\n",
    "                        best_order = (i, d, j)\n",
    "                        best_mdl = tmp_mdl\n",
    "                except: continue\n",
    "    print('aic: {:6.5f} | order: {}'.format(best_aic, best_order))                    \n",
    "    return best_aic, best_order, best_mdl\n",
    "\n",
    "aic, order, mdl = _get_best_model(series)"
   ]
  },
  {
   "cell_type": "code",
   "execution_count": null,
   "metadata": {},
   "outputs": [],
   "source": []
  },
  {
   "cell_type": "code",
   "execution_count": null,
   "metadata": {},
   "outputs": [],
   "source": [
    "# Now we can fit the arch model using the best fit arima model parameters\n",
    "p_ = order[0]\n",
    "o_ = order[1]\n",
    "q_ = order[2]\n",
    "\n",
    "# Using student T distribution usually provides better fit\n",
    "am = arch_model(series, p=p_, o=o_, q=q_, dist='StudentsT')\n",
    "res = am.fit(update_freq=5, disp='off')\n",
    "print(res.summary())"
   ]
  },
  {
   "cell_type": "code",
   "execution_count": null,
   "metadata": {},
   "outputs": [],
   "source": [
    "new_series = pd.read_csv(\"Series/monthly-boston-armed-robberies-j.csv\")[\"Count\"].values.astype('float64')\n",
    "new_series = boxcox(new_series, 0)\n",
    "new_series = new_series[1:] - new_series[:-1]\n",
    "tsplot(new_series)"
   ]
  },
  {
   "cell_type": "code",
   "execution_count": null,
   "metadata": {},
   "outputs": [],
   "source": [
    "aic, order, mdl = _get_best_model(new_series)"
   ]
  },
  {
   "cell_type": "code",
   "execution_count": null,
   "metadata": {},
   "outputs": [],
   "source": []
  },
  {
   "cell_type": "code",
   "execution_count": null,
   "metadata": {},
   "outputs": [],
   "source": [
    "# Now we can fit the arch model using the best fit arima model parameters\n",
    "p_ = order[0]\n",
    "o_ = order[1]\n",
    "q_ = order[2]\n",
    "\n",
    "# Using student T distribution usually provides better fit\n",
    "am = arch_model(new_series, p=p_, o=o_, q=q_, dist='StudentsT')\n",
    "res = am.fit(update_freq=5)\n",
    "print(res.summary())"
   ]
  },
  {
   "cell_type": "code",
   "execution_count": null,
   "metadata": {},
   "outputs": [],
   "source": [
    "def prepareData(data, lag_start=5, lag_end=20, test_size=0.15):\n",
    "    \n",
    "    data = pd.DataFrame(data.copy())\n",
    "    \n",
    "    # считаем индекс в датафрейме, после которого начинается тестовый отрезок\n",
    "    test_index = int(len(data)*(1-test_size))\n",
    "    \n",
    "    # добавляем лаги исходного ряда в качестве признаков\n",
    "    for i in range(lag_start, lag_end):\n",
    "        data[\"lag_{}\".format(i)] = data.Count.shift(i)\n",
    "        \n",
    "    data = data.dropna()\n",
    "    data = data.reset_index(drop=True)\n",
    "    data = data.drop([\"Month\"], axis=1)\n",
    "     \n",
    "    # разбиваем весь датасет на тренировочную и тестовую выборку\n",
    "    X_train = data.loc[:test_index].drop([\"Count\"], axis=1)\n",
    "    y_train = data.loc[:test_index][\"Count\"]\n",
    "    X_test = data.loc[test_index:].drop([\"Count\"], axis=1)\n",
    "    y_test = data.loc[test_index:][\"Count\"]\n",
    "    \n",
    "    return X_train, X_test, y_train, y_test"
   ]
  },
  {
   "cell_type": "code",
   "execution_count": null,
   "metadata": {},
   "outputs": [],
   "source": [
    "from sklearn.linear_model import LinearRegression\n",
    "\n",
    "lr = LinearRegression()\n",
    "lr.fit(X_train, y_train)\n",
    "prediction = lr.predict(X_test)\n",
    "\n",
    "plt.figure(figsize=(14, 8))\n",
    "plt.plot(prediction, \"r\", label=\"prediction\")\n",
    "plt.plot(y_test.values, label=\"actual\")\n",
    "plt.legend(loc=\"best\")\n",
    "plt.title(\"Linear regression\")\n",
    "plt.grid(True);"
   ]
  },
  {
   "cell_type": "code",
   "execution_count": null,
   "metadata": {},
   "outputs": [],
   "source": []
  },
  {
   "cell_type": "code",
   "execution_count": null,
   "metadata": {},
   "outputs": [],
   "source": []
  }
 ],
 "metadata": {
  "kernelspec": {
   "display_name": "Python 3",
   "language": "python",
   "name": "python3"
  },
  "language_info": {
   "codemirror_mode": {
    "name": "ipython",
    "version": 3
   },
   "file_extension": ".py",
   "mimetype": "text/x-python",
   "name": "python",
   "nbconvert_exporter": "python",
   "pygments_lexer": "ipython3",
   "version": "3.6.7"
  }
 },
 "nbformat": 4,
 "nbformat_minor": 2
}
