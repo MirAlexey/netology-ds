{
 "cells": [
  {
   "cell_type": "code",
   "execution_count": 14,
   "metadata": {},
   "outputs": [],
   "source": [
    "# Домашнее задание (Алгоритмы классификации)\n",
    "#Преподаватель: Константин Башевой\n",
    "\n",
    "#Имеются данные adult.csv (см. в материалах к занятию или на гитхабе).\n",
    "#Целевой переменной является уровень дохода income (крайний правый столбец).\n",
    "#Описание признаков можно найти по ссылке http://www.cs.toronto.edu/~delve/data/adult/adultDetail.html\n",
    "\n",
    "# Вам необходимо построить модель логистической регрессии, которая предсказывает уровень дохода человека. \n",
    "# При возможности попробуйте улучшить точность предсказаний (метод score) с помощью перебора признаков.\n",
    "\n",
    "# Готовый ноутбук выложить на гитхаб и прислать ссылку.\n"
   ]
  },
  {
   "cell_type": "code",
   "execution_count": null,
   "metadata": {},
   "outputs": [],
   "source": []
  },
  {
   "cell_type": "code",
   "execution_count": 1,
   "metadata": {},
   "outputs": [],
   "source": [
    "import numpy as np\n",
    "import pandas as pd\n",
    "import seaborn as sns\n",
    "import matplotlib\n",
    "\n",
    "import matplotlib.pyplot as plt\n",
    "%matplotlib inline\n"
   ]
  },
  {
   "cell_type": "code",
   "execution_count": 3,
   "metadata": {},
   "outputs": [],
   "source": [
    "# Загрузим данные\n",
    "data = pd.read_csv('adult.csv')"
   ]
  },
  {
   "cell_type": "code",
   "execution_count": 4,
   "metadata": {},
   "outputs": [
    {
     "data": {
      "text/html": [
       "<div>\n",
       "<style scoped>\n",
       "    .dataframe tbody tr th:only-of-type {\n",
       "        vertical-align: middle;\n",
       "    }\n",
       "\n",
       "    .dataframe tbody tr th {\n",
       "        vertical-align: top;\n",
       "    }\n",
       "\n",
       "    .dataframe thead th {\n",
       "        text-align: right;\n",
       "    }\n",
       "</style>\n",
       "<table border=\"1\" class=\"dataframe\">\n",
       "  <thead>\n",
       "    <tr style=\"text-align: right;\">\n",
       "      <th></th>\n",
       "      <th>age</th>\n",
       "      <th>workclass</th>\n",
       "      <th>fnlwgt</th>\n",
       "      <th>education</th>\n",
       "      <th>educational-num</th>\n",
       "      <th>marital-status</th>\n",
       "      <th>occupation</th>\n",
       "      <th>relationship</th>\n",
       "      <th>race</th>\n",
       "      <th>gender</th>\n",
       "      <th>capital-gain</th>\n",
       "      <th>capital-loss</th>\n",
       "      <th>hours-per-week</th>\n",
       "      <th>native-country</th>\n",
       "      <th>income</th>\n",
       "    </tr>\n",
       "  </thead>\n",
       "  <tbody>\n",
       "    <tr>\n",
       "      <th>0</th>\n",
       "      <td>25</td>\n",
       "      <td>Private</td>\n",
       "      <td>226802</td>\n",
       "      <td>11th</td>\n",
       "      <td>7</td>\n",
       "      <td>Never-married</td>\n",
       "      <td>Machine-op-inspct</td>\n",
       "      <td>Own-child</td>\n",
       "      <td>Black</td>\n",
       "      <td>Male</td>\n",
       "      <td>0</td>\n",
       "      <td>0</td>\n",
       "      <td>40</td>\n",
       "      <td>United-States</td>\n",
       "      <td>&lt;=50K</td>\n",
       "    </tr>\n",
       "    <tr>\n",
       "      <th>1</th>\n",
       "      <td>38</td>\n",
       "      <td>Private</td>\n",
       "      <td>89814</td>\n",
       "      <td>HS-grad</td>\n",
       "      <td>9</td>\n",
       "      <td>Married-civ-spouse</td>\n",
       "      <td>Farming-fishing</td>\n",
       "      <td>Husband</td>\n",
       "      <td>White</td>\n",
       "      <td>Male</td>\n",
       "      <td>0</td>\n",
       "      <td>0</td>\n",
       "      <td>50</td>\n",
       "      <td>United-States</td>\n",
       "      <td>&lt;=50K</td>\n",
       "    </tr>\n",
       "    <tr>\n",
       "      <th>2</th>\n",
       "      <td>28</td>\n",
       "      <td>Local-gov</td>\n",
       "      <td>336951</td>\n",
       "      <td>Assoc-acdm</td>\n",
       "      <td>12</td>\n",
       "      <td>Married-civ-spouse</td>\n",
       "      <td>Protective-serv</td>\n",
       "      <td>Husband</td>\n",
       "      <td>White</td>\n",
       "      <td>Male</td>\n",
       "      <td>0</td>\n",
       "      <td>0</td>\n",
       "      <td>40</td>\n",
       "      <td>United-States</td>\n",
       "      <td>&gt;50K</td>\n",
       "    </tr>\n",
       "    <tr>\n",
       "      <th>3</th>\n",
       "      <td>44</td>\n",
       "      <td>Private</td>\n",
       "      <td>160323</td>\n",
       "      <td>Some-college</td>\n",
       "      <td>10</td>\n",
       "      <td>Married-civ-spouse</td>\n",
       "      <td>Machine-op-inspct</td>\n",
       "      <td>Husband</td>\n",
       "      <td>Black</td>\n",
       "      <td>Male</td>\n",
       "      <td>7688</td>\n",
       "      <td>0</td>\n",
       "      <td>40</td>\n",
       "      <td>United-States</td>\n",
       "      <td>&gt;50K</td>\n",
       "    </tr>\n",
       "    <tr>\n",
       "      <th>4</th>\n",
       "      <td>18</td>\n",
       "      <td>?</td>\n",
       "      <td>103497</td>\n",
       "      <td>Some-college</td>\n",
       "      <td>10</td>\n",
       "      <td>Never-married</td>\n",
       "      <td>?</td>\n",
       "      <td>Own-child</td>\n",
       "      <td>White</td>\n",
       "      <td>Female</td>\n",
       "      <td>0</td>\n",
       "      <td>0</td>\n",
       "      <td>30</td>\n",
       "      <td>United-States</td>\n",
       "      <td>&lt;=50K</td>\n",
       "    </tr>\n",
       "  </tbody>\n",
       "</table>\n",
       "</div>"
      ],
      "text/plain": [
       "   age  workclass  fnlwgt     education  educational-num      marital-status  \\\n",
       "0   25    Private  226802          11th                7       Never-married   \n",
       "1   38    Private   89814       HS-grad                9  Married-civ-spouse   \n",
       "2   28  Local-gov  336951    Assoc-acdm               12  Married-civ-spouse   \n",
       "3   44    Private  160323  Some-college               10  Married-civ-spouse   \n",
       "4   18          ?  103497  Some-college               10       Never-married   \n",
       "\n",
       "          occupation relationship   race  gender  capital-gain  capital-loss  \\\n",
       "0  Machine-op-inspct    Own-child  Black    Male             0             0   \n",
       "1    Farming-fishing      Husband  White    Male             0             0   \n",
       "2    Protective-serv      Husband  White    Male             0             0   \n",
       "3  Machine-op-inspct      Husband  Black    Male          7688             0   \n",
       "4                  ?    Own-child  White  Female             0             0   \n",
       "\n",
       "   hours-per-week native-country income  \n",
       "0              40  United-States  <=50K  \n",
       "1              50  United-States  <=50K  \n",
       "2              40  United-States   >50K  \n",
       "3              40  United-States   >50K  \n",
       "4              30  United-States  <=50K  "
      ]
     },
     "execution_count": 4,
     "metadata": {},
     "output_type": "execute_result"
    }
   ],
   "source": [
    "data.head()"
   ]
  },
  {
   "cell_type": "code",
   "execution_count": 5,
   "metadata": {},
   "outputs": [
    {
     "name": "stdout",
     "output_type": "stream",
     "text": [
      "<class 'pandas.core.frame.DataFrame'>\n",
      "RangeIndex: 48842 entries, 0 to 48841\n",
      "Data columns (total 15 columns):\n",
      "age                48842 non-null int64\n",
      "workclass          48842 non-null object\n",
      "fnlwgt             48842 non-null int64\n",
      "education          48842 non-null object\n",
      "educational-num    48842 non-null int64\n",
      "marital-status     48842 non-null object\n",
      "occupation         48842 non-null object\n",
      "relationship       48842 non-null object\n",
      "race               48842 non-null object\n",
      "gender             48842 non-null object\n",
      "capital-gain       48842 non-null int64\n",
      "capital-loss       48842 non-null int64\n",
      "hours-per-week     48842 non-null int64\n",
      "native-country     48842 non-null object\n",
      "income             48842 non-null object\n",
      "dtypes: int64(6), object(9)\n",
      "memory usage: 3.9+ MB\n"
     ]
    }
   ],
   "source": [
    "data.info()"
   ]
  },
  {
   "cell_type": "code",
   "execution_count": 6,
   "metadata": {},
   "outputs": [],
   "source": [
    "# Посмотрим значения категориальных переменных"
   ]
  },
  {
   "cell_type": "code",
   "execution_count": 7,
   "metadata": {},
   "outputs": [
    {
     "data": {
      "text/plain": [
       "Private             33906\n",
       "Self-emp-not-inc     3862\n",
       "Local-gov            3136\n",
       "?                    2799\n",
       "State-gov            1981\n",
       "Self-emp-inc         1695\n",
       "Federal-gov          1432\n",
       "Without-pay            21\n",
       "Never-worked           10\n",
       "Name: workclass, dtype: int64"
      ]
     },
     "execution_count": 7,
     "metadata": {},
     "output_type": "execute_result"
    }
   ],
   "source": [
    "data.workclass.value_counts()"
   ]
  },
  {
   "cell_type": "code",
   "execution_count": 8,
   "metadata": {},
   "outputs": [
    {
     "data": {
      "text/plain": [
       "HS-grad         15784\n",
       "Some-college    10878\n",
       "Bachelors        8025\n",
       "Masters          2657\n",
       "Assoc-voc        2061\n",
       "11th             1812\n",
       "Assoc-acdm       1601\n",
       "10th             1389\n",
       "7th-8th           955\n",
       "Prof-school       834\n",
       "9th               756\n",
       "12th              657\n",
       "Doctorate         594\n",
       "5th-6th           509\n",
       "1st-4th           247\n",
       "Preschool          83\n",
       "Name: education, dtype: int64"
      ]
     },
     "execution_count": 8,
     "metadata": {},
     "output_type": "execute_result"
    }
   ],
   "source": [
    "data.education.value_counts()"
   ]
  },
  {
   "cell_type": "code",
   "execution_count": 9,
   "metadata": {},
   "outputs": [
    {
     "data": {
      "text/plain": [
       "Married-civ-spouse       22379\n",
       "Never-married            16117\n",
       "Divorced                  6633\n",
       "Separated                 1530\n",
       "Widowed                   1518\n",
       "Married-spouse-absent      628\n",
       "Married-AF-spouse           37\n",
       "Name: marital-status, dtype: int64"
      ]
     },
     "execution_count": 9,
     "metadata": {},
     "output_type": "execute_result"
    }
   ],
   "source": [
    "data['marital-status'].value_counts()"
   ]
  },
  {
   "cell_type": "code",
   "execution_count": 10,
   "metadata": {},
   "outputs": [
    {
     "data": {
      "text/plain": [
       "Prof-specialty       6172\n",
       "Craft-repair         6112\n",
       "Exec-managerial      6086\n",
       "Adm-clerical         5611\n",
       "Sales                5504\n",
       "Other-service        4923\n",
       "Machine-op-inspct    3022\n",
       "?                    2809\n",
       "Transport-moving     2355\n",
       "Handlers-cleaners    2072\n",
       "Farming-fishing      1490\n",
       "Tech-support         1446\n",
       "Protective-serv       983\n",
       "Priv-house-serv       242\n",
       "Armed-Forces           15\n",
       "Name: occupation, dtype: int64"
      ]
     },
     "execution_count": 10,
     "metadata": {},
     "output_type": "execute_result"
    }
   ],
   "source": [
    "data.occupation.value_counts()"
   ]
  },
  {
   "cell_type": "code",
   "execution_count": 11,
   "metadata": {},
   "outputs": [
    {
     "data": {
      "text/plain": [
       "Husband           19716\n",
       "Not-in-family     12583\n",
       "Own-child          7581\n",
       "Unmarried          5125\n",
       "Wife               2331\n",
       "Other-relative     1506\n",
       "Name: relationship, dtype: int64"
      ]
     },
     "execution_count": 11,
     "metadata": {},
     "output_type": "execute_result"
    }
   ],
   "source": [
    "data.relationship.value_counts()"
   ]
  },
  {
   "cell_type": "code",
   "execution_count": 12,
   "metadata": {},
   "outputs": [
    {
     "data": {
      "text/plain": [
       "White                 41762\n",
       "Black                  4685\n",
       "Asian-Pac-Islander     1519\n",
       "Amer-Indian-Eskimo      470\n",
       "Other                   406\n",
       "Name: race, dtype: int64"
      ]
     },
     "execution_count": 12,
     "metadata": {},
     "output_type": "execute_result"
    }
   ],
   "source": [
    "data.race.value_counts()"
   ]
  },
  {
   "cell_type": "code",
   "execution_count": 13,
   "metadata": {},
   "outputs": [
    {
     "data": {
      "text/plain": [
       "Male      32650\n",
       "Female    16192\n",
       "Name: gender, dtype: int64"
      ]
     },
     "execution_count": 13,
     "metadata": {},
     "output_type": "execute_result"
    }
   ],
   "source": [
    "data.gender.value_counts()\n"
   ]
  },
  {
   "cell_type": "code",
   "execution_count": 14,
   "metadata": {},
   "outputs": [
    {
     "data": {
      "text/plain": [
       "United-States                 43832\n",
       "Mexico                          951\n",
       "?                               857\n",
       "Philippines                     295\n",
       "Germany                         206\n",
       "Puerto-Rico                     184\n",
       "Canada                          182\n",
       "El-Salvador                     155\n",
       "India                           151\n",
       "Cuba                            138\n",
       "England                         127\n",
       "China                           122\n",
       "South                           115\n",
       "Jamaica                         106\n",
       "Italy                           105\n",
       "Dominican-Republic              103\n",
       "Japan                            92\n",
       "Guatemala                        88\n",
       "Poland                           87\n",
       "Vietnam                          86\n",
       "Columbia                         85\n",
       "Haiti                            75\n",
       "Portugal                         67\n",
       "Taiwan                           65\n",
       "Iran                             59\n",
       "Greece                           49\n",
       "Nicaragua                        49\n",
       "Peru                             46\n",
       "Ecuador                          45\n",
       "France                           38\n",
       "Ireland                          37\n",
       "Thailand                         30\n",
       "Hong                             30\n",
       "Cambodia                         28\n",
       "Trinadad&Tobago                  27\n",
       "Outlying-US(Guam-USVI-etc)       23\n",
       "Yugoslavia                       23\n",
       "Laos                             23\n",
       "Scotland                         21\n",
       "Honduras                         20\n",
       "Hungary                          19\n",
       "Holand-Netherlands                1\n",
       "Name: native-country, dtype: int64"
      ]
     },
     "execution_count": 14,
     "metadata": {},
     "output_type": "execute_result"
    }
   ],
   "source": [
    "data['native-country'].value_counts()"
   ]
  },
  {
   "cell_type": "code",
   "execution_count": 15,
   "metadata": {},
   "outputs": [
    {
     "data": {
      "text/plain": [
       "<=50K    37155\n",
       ">50K     11687\n",
       "Name: income, dtype: int64"
      ]
     },
     "execution_count": 15,
     "metadata": {},
     "output_type": "execute_result"
    }
   ],
   "source": [
    "data.income.value_counts()"
   ]
  },
  {
   "cell_type": "code",
   "execution_count": null,
   "metadata": {},
   "outputs": [],
   "source": []
  },
  {
   "cell_type": "code",
   "execution_count": 16,
   "metadata": {},
   "outputs": [],
   "source": [
    "# Посторим модели"
   ]
  },
  {
   "cell_type": "code",
   "execution_count": 17,
   "metadata": {},
   "outputs": [],
   "source": [
    "from sklearn.linear_model import LogisticRegression"
   ]
  },
  {
   "cell_type": "code",
   "execution_count": 18,
   "metadata": {},
   "outputs": [
    {
     "data": {
      "text/html": [
       "<div>\n",
       "<style scoped>\n",
       "    .dataframe tbody tr th:only-of-type {\n",
       "        vertical-align: middle;\n",
       "    }\n",
       "\n",
       "    .dataframe tbody tr th {\n",
       "        vertical-align: top;\n",
       "    }\n",
       "\n",
       "    .dataframe thead th {\n",
       "        text-align: right;\n",
       "    }\n",
       "</style>\n",
       "<table border=\"1\" class=\"dataframe\">\n",
       "  <thead>\n",
       "    <tr style=\"text-align: right;\">\n",
       "      <th></th>\n",
       "      <th>age</th>\n",
       "      <th>workclass</th>\n",
       "      <th>fnlwgt</th>\n",
       "      <th>education</th>\n",
       "      <th>educational-num</th>\n",
       "      <th>marital-status</th>\n",
       "      <th>occupation</th>\n",
       "      <th>relationship</th>\n",
       "      <th>race</th>\n",
       "      <th>gender</th>\n",
       "      <th>capital-gain</th>\n",
       "      <th>capital-loss</th>\n",
       "      <th>hours-per-week</th>\n",
       "      <th>native-country</th>\n",
       "    </tr>\n",
       "  </thead>\n",
       "  <tbody>\n",
       "    <tr>\n",
       "      <th>0</th>\n",
       "      <td>25</td>\n",
       "      <td>Private</td>\n",
       "      <td>226802</td>\n",
       "      <td>11th</td>\n",
       "      <td>7</td>\n",
       "      <td>Never-married</td>\n",
       "      <td>Machine-op-inspct</td>\n",
       "      <td>Own-child</td>\n",
       "      <td>Black</td>\n",
       "      <td>1</td>\n",
       "      <td>0</td>\n",
       "      <td>0</td>\n",
       "      <td>40</td>\n",
       "      <td>United-States</td>\n",
       "    </tr>\n",
       "  </tbody>\n",
       "</table>\n",
       "</div>"
      ],
      "text/plain": [
       "   age workclass  fnlwgt education  educational-num marital-status  \\\n",
       "0   25   Private  226802      11th                7  Never-married   \n",
       "\n",
       "          occupation relationship   race  gender  capital-gain  capital-loss  \\\n",
       "0  Machine-op-inspct    Own-child  Black       1             0             0   \n",
       "\n",
       "   hours-per-week native-country  \n",
       "0              40  United-States  "
      ]
     },
     "execution_count": 18,
     "metadata": {},
     "output_type": "execute_result"
    }
   ],
   "source": [
    "# Уберем целевой параметр в отдельную  переменную\n",
    "y = data['income'].apply(lambda x: 0 if x == '<=50K' else 1)\n",
    "data_x = data.drop(columns=['income'])\n",
    "# Перекодируем параметр gender\n",
    "data_x['gender'] = data_x['gender'].map({'Male':1, 'Female':0})\n",
    "data_x.head(1)"
   ]
  },
  {
   "cell_type": "code",
   "execution_count": 19,
   "metadata": {},
   "outputs": [],
   "source": [
    "\n",
    "list_dummies_param =['workclass', 'education', 'marital-status', 'occupation', 'relationship', 'race', 'native-country']\n",
    "# Функция возвращающая результат моделирования при использовании переменных из списка параметров\n",
    "# категориальные переменные перекодируем с помощью 'one hot encoding'\n",
    "def get_score(list_param, data , y, str_name):\n",
    "    model = LogisticRegression()\n",
    "    dummies_param = []\n",
    "    for param in list_param:\n",
    "        if param in list_dummies_param:\n",
    "            dummies_param.append(param)\n",
    "    X = pd.get_dummies(data[list_param], columns = dummies_param ) \n",
    "    #print(X.shape, y.shape)\n",
    "    model.fit(X,y)\n",
    "    predictions = model.predict_proba(X)\n",
    "    score = model.score(X,y)\n",
    "    return {str_name:{'score':score, 'pred':predictions}}\n",
    "    "
   ]
  },
  {
   "cell_type": "code",
   "execution_count": 20,
   "metadata": {},
   "outputs": [],
   "source": [
    "import warnings\n",
    "warnings.filterwarnings('ignore')\n",
    "\n",
    "# Используем что то вроде жадного алгоритма для отбора параметров\n",
    "# на каждой итерации находим параметр дающий наибольший score и добавляем в набор \n",
    "resault=[]\n",
    "keys_all =  list(data_x.keys())\n",
    "keys = keys_all[:]\n",
    "select_params = []\n",
    "str_name = ''\n",
    "while len(keys) > 0:\n",
    "    tmp_max_score, tmp_name_param_max_score, max_res= 0, '', None\n",
    "    for key in keys:\n",
    "        cur_select_params = select_params[:]\n",
    "        cur_select_params.append(key)\n",
    "        res = get_score(cur_select_params, data_x, y, str_name+'.'+str(keys_all.index(key)))\n",
    "        cur_score =  res[str_name+'.'+str(keys_all.index(key))]['score']\n",
    "        #print('Score: {}, Набор параметров:'.format(cur_score), cur_select_params)\n",
    "        if cur_score > tmp_max_score:\n",
    "            tmp_max_score, tmp_name_param_max_score, max_res= cur_score, key, res\n",
    "            \n",
    "    select_params.append(tmp_name_param_max_score)\n",
    "    str_name = str_name + '.'+str(str(keys_all.index(tmp_name_param_max_score)))\n",
    "    keys.remove(tmp_name_param_max_score)\n",
    "    resault.append(max_res)\n",
    "        \n",
    "    \n",
    "    "
   ]
  },
  {
   "cell_type": "code",
   "execution_count": 21,
   "metadata": {},
   "outputs": [
    {
     "data": {
      "image/png": "[encoded data removed]",
      "text/plain": [
       "<Figure size 432x288 with 1 Axes>"
      ]
     },
     "metadata": {},
     "output_type": "display_data"
    },
    {
     "name": "stdout",
     "output_type": "stream",
     "text": [
      "Для 1 \t параметр(a/ов) score : 0.80007 \t(.10)  \n",
      "Для 2 \t параметр(a/ов) score : 0.81323 \t(.10.11)  \n",
      "Для 3 \t параметр(a/ов) score : 0.81278 \t(.10.11.13)  \n",
      "Для 4 \t параметр(a/ов) score : 0.80951 \t(.10.11.13.4)  \n",
      "Для 5 \t параметр(a/ов) score : 0.84096 \t(.10.11.13.4.7)  \n",
      "Для 6 \t параметр(a/ов) score : 0.84874 \t(.10.11.13.4.7.6)  \n",
      "Для 7 \t параметр(a/ов) score : 0.85011 \t(.10.11.13.4.7.6.12)  \n",
      "Для 8 \t параметр(a/ов) score : 0.85046 \t(.10.11.13.4.7.6.12.1)  \n",
      "Для 9 \t параметр(a/ов) score : 0.85216 \t(.10.11.13.4.7.6.12.1.0)  \n",
      "Для 10 \t параметр(a/ов) score : 0.85259 \t(.10.11.13.4.7.6.12.1.0.9)  \n",
      "Для 11 \t параметр(a/ов) score : 0.85203 \t(.10.11.13.4.7.6.12.1.0.9.5)  \n",
      "Для 12 \t параметр(a/ов) score : 0.85171 \t(.10.11.13.4.7.6.12.1.0.9.5.3)  \n",
      "Для 13 \t параметр(a/ов) score : 0.85222 \t(.10.11.13.4.7.6.12.1.0.9.5.3.8)  \n",
      "Для 14 \t параметр(a/ов) score : 0.79749 \t(.10.11.13.4.7.6.12.1.0.9.5.3.8.2)  \n"
     ]
    }
   ],
   "source": [
    "# Выведем как менялся score при увеличении количества учавствующих параметров\n",
    "#  в выоде в скобках через точку показаны номера параметров в списке ключей\n",
    "# начинаем с одного параметра и двигаемся ло всех\n",
    "keys_param = [list(x.keys())[0] for x in resault]\n",
    "count_param = [i for i in range(1, len(keys_param)+1)]\n",
    "keys_param_score = [x[list(x.keys())[0]]['score']for x in resault]\n",
    "plt.plot(count_param, keys_param_score, 'k-')\n",
    "plt.show()\n",
    "for i in range(0, len(keys_param)):\n",
    "    print(f'Для {i+1} \\t параметр(a/ов) score : {keys_param_score[i]:.5f} \\t({keys_param[i]})  ')"
   ]
  },
  {
   "cell_type": "code",
   "execution_count": 22,
   "metadata": {},
   "outputs": [],
   "source": [
    "# \n",
    "# на каждой итерации находим параметр без которого score самый большой и удаляем из набора \n",
    "\n",
    "resault=[]\n",
    "keys_all =  list(data_x.keys())\n",
    "keys = keys_all[:]\n",
    "select_params = []\n",
    "str_name = '.'\n",
    "cur_select_params = keys_all[:]\n",
    "cur_str_name = \"\".join(['.'+str(keys_all.index(k)) for k in cur_select_params])\n",
    "res = get_score(cur_select_params, data_x, y, cur_str_name)\n",
    "resault.append(res)\n",
    "while len(keys) > 1:\n",
    "    tmp_max_score, tmp_name_param_max_score, max_res= 0, '', None\n",
    "    for key in keys:\n",
    "        cur_select_params = keys_all[:]\n",
    "        cur_select_params = list(set(cur_select_params) - (set(select_params).union(set([key,]))))\n",
    "        if len(cur_select_params) < 1:\n",
    "            continue\n",
    "        cur_str_name = \"\".join(['.'+str(keys_all.index(k)) for k in cur_select_params])\n",
    "       \n",
    "        res = get_score(cur_select_params, data_x, y, cur_str_name)\n",
    "        cur_score =  res[cur_str_name]['score']\n",
    "        #print('Score: {}, Набор параметров:'.format(cur_score), cur_select_params)\n",
    "        if cur_score > tmp_max_score:\n",
    "            tmp_max_score, tmp_name_param_max_score, max_res= cur_score, key, res\n",
    "            \n",
    "    select_params.append(tmp_name_param_max_score)\n",
    "    str_name = \"\".join(['.'+str(keys_all.index(k)) for k in select_params])\n",
    "    keys.remove(tmp_name_param_max_score)\n",
    "    resault.append(max_res)"
   ]
  },
  {
   "cell_type": "code",
   "execution_count": 30,
   "metadata": {},
   "outputs": [
    {
     "data": {
      "image/png": "[encoded data removed]",
      "text/plain": [
       "<Figure size 432x288 with 1 Axes>"
      ]
     },
     "metadata": {},
     "output_type": "display_data"
    },
    {
     "name": "stdout",
     "output_type": "stream",
     "text": [
      "Для 14 \t параметр(a/ов) score : 0.79749 \t(.0.1.2.3.4.5.6.7.8.9.10.11.12.13)  \n",
      "Для 13 \t параметр(a/ов) score : 0.85222 \t(.11.4.13.1.8.6.9.0.7.10.5.3.12)  \n",
      "Для 12 \t параметр(a/ов) score : 0.85205 \t(.11.4.13.1.8.6.0.7.10.5.3.12)  \n",
      "Для 11 \t параметр(a/ов) score : 0.85232 \t(.11.4.5.13.1.6.0.7.10.8.12)  \n",
      "Для 10 \t параметр(a/ов) score : 0.85201 \t(.11.4.13.1.6.0.7.10.8.12)  \n",
      "Для 9 \t параметр(a/ов) score : 0.85216 \t(.11.4.13.1.6.0.7.10.12)  \n",
      "Для 8 \t параметр(a/ов) score : 0.85074 \t(.11.4.1.6.0.7.10.12)  \n",
      "Для 7 \t параметр(a/ов) score : 0.85050 \t(.11.4.1.6.7.10.12)  \n",
      "Для 6 \t параметр(a/ов) score : 0.84937 \t(.11.4.6.7.10.12)  \n",
      "Для 5 \t параметр(a/ов) score : 0.84798 \t(.11.4.6.7.10)  \n",
      "Для 4 \t параметр(a/ов) score : 0.84397 \t(.10.7.4.6)  \n",
      "Для 3 \t параметр(a/ов) score : 0.83813 \t(.10.7.4)  \n",
      "Для 2 \t параметр(a/ов) score : 0.82118 \t(.7.4)  \n",
      "Для 1 \t параметр(a/ов) score : 0.77974 \t(.4)  \n"
     ]
    }
   ],
   "source": [
    "# Выведем как менялся score при уменьшении количества учавствующих параметров\n",
    "keys_param = [list(x.keys())[0] for x in resault]\n",
    "count_param = [i for i in range(1, len(keys_param)+1)]\n",
    "keys_param_score = [x[list(x.keys())[0]]['score']for x in resault]\n",
    "plt.plot(count_param, keys_param_score[::-1], 'k-')\n",
    "plt.show()\n",
    "for i in range(0, len(keys_param)):\n",
    "    print(f'Для {len(keys_param)-i} \\t параметр(a/ов) score : {keys_param_score[i]:.5f} \\t({keys_param[i]})  ')"
   ]
  },
  {
   "cell_type": "code",
   "execution_count": null,
   "metadata": {},
   "outputs": [],
   "source": []
  },
  {
   "cell_type": "code",
   "execution_count": null,
   "metadata": {},
   "outputs": [],
   "source": []
  },
  {
   "cell_type": "code",
   "execution_count": null,
   "metadata": {},
   "outputs": [],
   "source": []
  },
  {
   "cell_type": "code",
   "execution_count": null,
   "metadata": {},
   "outputs": [],
   "source": []
  },
  {
   "cell_type": "code",
   "execution_count": null,
   "metadata": {},
   "outputs": [],
   "source": []
  },
  {
   "cell_type": "code",
   "execution_count": null,
   "metadata": {},
   "outputs": [],
   "source": []
  },
  {
   "cell_type": "code",
   "execution_count": null,
   "metadata": {},
   "outputs": [],
   "source": []
  }
 ],
 "metadata": {
  "kernelspec": {
   "display_name": "Python 3",
   "language": "python",
   "name": "python3"
  },
  "language_info": {
   "codemirror_mode": {
    "name": "ipython",
    "version": 3
   },
   "file_extension": ".py",
   "mimetype": "text/x-python",
   "name": "python",
   "nbconvert_exporter": "python",
   "pygments_lexer": "ipython3",
   "version": "3.6.3"
  }
 },
 "nbformat": 4,
 "nbformat_minor": 2
}
