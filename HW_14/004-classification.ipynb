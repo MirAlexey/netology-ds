{
 "cells": [
  {
   "cell_type": "code",
   "execution_count": null,
   "metadata": {},
   "outputs": [],
   "source": [
    "# Пока недоделано. Прошу повременить с проверкой! :)"
   ]
  },
  {
   "cell_type": "markdown",
   "metadata": {},
   "source": [
    "# Реализация логистической регрессии в TensorFlow"
   ]
  },
  {
   "cell_type": "code",
   "execution_count": 3,
   "metadata": {},
   "outputs": [],
   "source": [
    "import numpy as np\n",
    "import tensorflow as tf"
   ]
  },
  {
   "cell_type": "code",
   "execution_count": 4,
   "metadata": {},
   "outputs": [],
   "source": [
    "%matplotlib inline\n",
    "from matplotlib import pyplot as plt"
   ]
  },
  {
   "cell_type": "markdown",
   "metadata": {},
   "source": [
    "## Генерируем данные для задачи регрессии"
   ]
  },
  {
   "cell_type": "code",
   "execution_count": 5,
   "metadata": {},
   "outputs": [],
   "source": [
    "NUM_FEATURES = 2\n",
    "NUM_SAMPLES = 1000"
   ]
  },
  {
   "cell_type": "code",
   "execution_count": 6,
   "metadata": {},
   "outputs": [
    {
     "data": {
      "image/png": "[encoded data removed]",
      "text/plain": [
       "<Figure size 432x288 with 1 Axes>"
      ]
     },
     "metadata": {
      "needs_background": "light"
     },
     "output_type": "display_data"
    }
   ],
   "source": [
    "from sklearn.datasets import make_classification\n",
    "\n",
    "X, y = make_classification(n_samples = NUM_SAMPLES,\n",
    "                           n_features = NUM_FEATURES,\n",
    "                           n_informative = NUM_FEATURES,\n",
    "                           n_redundant = 0,\n",
    "                           n_classes = 2,\n",
    "                           n_clusters_per_class = 1,\n",
    "                           class_sep = 0.75,\n",
    "                           random_state = 54312)\n",
    "\n",
    "y = y.reshape(-1, 1)\n",
    "\n",
    "ones = np.where(y == 1)   # индексы объектов класса '1'\n",
    "zeros = np.where(y == 0)  # индексы объектов класса '0'\n",
    "\n",
    "plt.xlabel('x')\n",
    "plt.ylabel('y')\n",
    "plt.plot(X[ones, 0], X[ones, 1], 'ob',\n",
    "         X[zeros, 0], X[zeros, 1], 'or');"
   ]
  },
  {
   "cell_type": "markdown",
   "metadata": {},
   "source": [
    "## Вспомогательная функция для создания операций"
   ]
  },
  {
   "cell_type": "code",
   "execution_count": 7,
   "metadata": {},
   "outputs": [],
   "source": [
    "import string\n",
    "\n",
    "def py_func_with_grad(func, inp, Tout, grad, name = None, stateful = False, graph = None):\n",
    "    \n",
    "    name_prefix = ''.join(np.random.choice(list(string.ascii_letters), size = 10))\n",
    "    \n",
    "    name = '%s_%s' % (name_prefix, name or '')\n",
    "    grad_func_name = '%s_grad' % name\n",
    "\n",
    "    tf.RegisterGradient(grad_func_name)(grad)\n",
    "\n",
    "    g = graph or tf.get_default_graph()\n",
    "    with g.gradient_override_map({'PyFunc': grad_func_name, \n",
    "                                  'PyFuncStateless': grad_func_name}):\n",
    "        with tf.name_scope(name, 'PyFuncOp', inp):\n",
    "            return tf.py_func(func, inp, Tout, stateful = stateful, name = name)"
   ]
  },
  {
   "cell_type": "markdown",
   "metadata": {},
   "source": [
    "## Реализация линейной опреаций"
   ]
  },
  {
   "cell_type": "code",
   "execution_count": 102,
   "metadata": {},
   "outputs": [],
   "source": [
    "def linear_op_forward(X, W):\n",
    "    ''' Реализация линейной операции '''\n",
    "    return np.dot(X, W.T) # аргументы являются numpy-массивами\n",
    "\n",
    "def linear_op_backward(op, grads):\n",
    "    ''' Реализация вычисления градиента линейной операции '''\n",
    "    X = op.inputs[0]  # тензор входных данных\n",
    "    W = op.inputs[1]  # тензор параметров модели\n",
    "    dX = tf.multiply(grads, W)\n",
    "    dW = tf.reduce_sum(tf.multiply(X, grads),\n",
    "                       axis = 0,\n",
    "                       keep_dims = True)\n",
    "    return dX, dW\n",
    "\n",
    "def sigmoid_op_forward(X):\n",
    "    # TODO: реализовать операцию sigmoid\n",
    "    return 1/(1+np.exp(-X))\n",
    "\n",
    "def sigmoid_op_backward(op, grads):\n",
    "    #print('op', op.inputs[0] , 'grad',grads)\n",
    "    y_pred = op.inputs[0]  # тензор входных данных\n",
    "       \n",
    "    g = tf.multiply(tf.sigmoid(y_pred),tf.subtract(tf.constant(1.0),tf.sigmoid(y_pred)))\n",
    "    \n",
    "    d = tf.multiply(grads, g)\n",
    "    \n",
    "    # TODO: реализовать вычисление градиента для sigmoid\n",
    "    return d"
   ]
  },
  {
   "cell_type": "code",
   "execution_count": 21,
   "metadata": {},
   "outputs": [],
   "source": [
    "def linear_op_forward(X, W, b):\n",
    "    ''' Реализация линейной операции '''\n",
    "    return np.dot(X, W.T) + b  # аргументы являются numpy-массивами\n",
    "\n",
    "def linear_op_backward(op, grads):\n",
    "    ''' Реализация вычисления градиента линейной операции '''\n",
    "    X = op.inputs[0]  # тензор входных данных\n",
    "    W = op.inputs[1]  # тензор параметров модели\n",
    "    dX = tf.multiply(grads, W)\n",
    "    dW = tf.reduce_sum(tf.multiply(X, grads),\n",
    "                       axis = 0,\n",
    "                       keep_dims = True)\n",
    "    db = tf.reduce_sum(grads)\n",
    "    return dX, dW, db\n",
    "\n",
    "def sigmoid_op_forward(X):\n",
    "    # TODO: реализовать операцию sigmoid\n",
    "    return 1/(1+np.exp(-X))\n",
    "\n",
    "def sigmoid_op_backward(op, grads):\n",
    "    #print('op', op.inputs[0] , 'grad',grads)\n",
    "    y_pred = op.inputs[0]  # тензор входных данных\n",
    "       \n",
    "    g = tf.multiply(tf.sigmoid(y_pred),tf.subtract(tf.constant(1.0),tf.sigmoid(y_pred)))\n",
    "    \n",
    "    d = tf.multiply(grads, g)\n",
    "    \n",
    "    # TODO: реализовать вычисление градиента для sigmoid\n",
    "    return d"
   ]
  },
  {
   "cell_type": "markdown",
   "metadata": {},
   "source": [
    "## Создание графа вычислений и обучение модели"
   ]
  },
  {
   "cell_type": "code",
   "execution_count": 31,
   "metadata": {
    "scrolled": false
   },
   "outputs": [
    {
     "name": "stdout",
     "output_type": "stream",
     "text": [
      "[000] loss=0.762 weights=[[0.4146655  0.19714308]] b=0.4780628\n",
      "[1000] loss=0.523 weights=[[ 1.8756492 -7.131853 ]] b=-2.85573\n",
      "[2000] loss=0.530 weights=[[ 2.2474787 -8.772887 ]] b=-3.6234567\n",
      "[3000] loss=0.559 weights=[[ 2.4826667 -9.844832 ]] b=-4.1275644\n",
      "[4000] loss=0.524 weights=[[  2.6588917 -10.663437 ]] b=-4.5092587\n",
      "[5000] loss=0.488 weights=[[  2.8032818 -11.329332 ]] b=-4.8261485\n",
      "[6000] loss=0.511 weights=[[  2.9253085 -11.896463 ]] b=-5.0962152\n",
      "[7000] loss=0.551 weights=[[  3.034538 -12.392276]] b=-5.3316946\n",
      "[8000] loss=0.505 weights=[[  3.127092 -12.836072]] b=-5.5386043\n",
      "[9000] loss=0.509 weights=[[  3.2140388 -13.235332 ]] b=-5.7298837\n",
      "[10000] loss=0.521 weights=[[  3.2952957 -13.599535 ]] b=-5.9065394\n",
      "[11000] loss=0.496 weights=[[  3.3664834 -13.939815 ]] b=-6.0609064\n",
      "[12000] loss=0.498 weights=[[  3.4367797 -14.251584 ]] b=-6.212598\n",
      "[13000] loss=0.553 weights=[[  3.499149 -14.544193]] b=-6.3542194\n",
      "[14000] loss=0.519 weights=[[  3.560032 -14.820356]] b=-6.4830565\n",
      "[15000] loss=0.510 weights=[[  3.6167307 -15.080599 ]] b=-6.606176\n",
      "[16000] loss=0.518 weights=[[  3.670016 -15.326959]] b=-6.7228765\n",
      "[17000] loss=0.517 weights=[[  3.7216165 -15.559944 ]] b=-6.8366046\n",
      "[18000] loss=0.525 weights=[[  3.7700245 -15.783509 ]] b=-6.942437\n",
      "[19000] loss=0.510 weights=[[  3.8155713 -15.996215 ]] b=-7.046033\n",
      "[20000] loss=0.508 weights=[[  3.8591523 -16.202702 ]] b=-7.1395216\n",
      "[21000] loss=0.509 weights=[[  3.9014149 -16.397861 ]] b=-7.2362785\n",
      "[22000] loss=0.535 weights=[[  3.9451342 -16.585562 ]] b=-7.3276577\n",
      "[23000] loss=0.531 weights=[[  3.9851086 -16.767982 ]] b=-7.413166\n",
      "[24000] loss=0.545 weights=[[  4.021807 -16.94335 ]] b=-7.498536\n",
      "[25000] loss=0.568 weights=[[  4.05962  -17.112263]] b=-7.5815516\n",
      "[26000] loss=0.529 weights=[[  4.094029 -17.278902]] b=-7.655124\n",
      "[27000] loss=0.447 weights=[[  4.1268597 -17.43894  ]] b=-7.7312837\n",
      "[28000] loss=0.566 weights=[[  4.1615915 -17.591028 ]] b=-7.8097568\n",
      "[29000] loss=0.520 weights=[[  4.195325 -17.740995]] b=-7.881834\n",
      "[30000] loss=0.496 weights=[[  4.2238173 -17.888968 ]] b=-7.948926\n",
      "[31000] loss=0.548 weights=[[  4.2580323 -18.027973 ]] b=-8.022097\n",
      "[32000] loss=0.545 weights=[[  4.2855597 -18.168196 ]] b=-8.085394\n",
      "[33000] loss=0.525 weights=[[  4.314981 -18.302942]] b=-8.149946\n",
      "[34000] loss=0.511 weights=[[  4.342708 -18.434546]] b=-8.214002\n",
      "[35000] loss=0.504 weights=[[  4.3721447 -18.563023 ]] b=-8.27438\n",
      "[36000] loss=0.533 weights=[[  4.396191 -18.689884]] b=-8.333207\n",
      "[37000] loss=0.539 weights=[[  4.42458  -18.811543]] b=-8.393192\n",
      "[38000] loss=0.533 weights=[[  4.4483747 -18.932325 ]] b=-8.450433\n",
      "[39000] loss=0.517 weights=[[  4.4764457 -19.047226 ]] b=-8.510981\n",
      "[40000] loss=0.549 weights=[[  4.4997005 -19.163528 ]] b=-8.564409\n",
      "[41000] loss=0.558 weights=[[  4.5227656 -19.276785 ]] b=-8.618223\n",
      "[42000] loss=0.548 weights=[[  4.546839 -19.387978]] b=-8.669572\n",
      "[43000] loss=0.526 weights=[[  4.5705314 -19.495562 ]] b=-8.722761\n",
      "[44000] loss=0.544 weights=[[  4.591728 -19.602373]] b=-8.773988\n",
      "[45000] loss=0.513 weights=[[  4.6147456 -19.70589  ]] b=-8.825818\n",
      "[46000] loss=0.495 weights=[[  4.6368546 -19.8081   ]] b=-8.875924\n",
      "[47000] loss=0.485 weights=[[  4.6578536 -19.909409 ]] b=-8.923469\n",
      "[48000] loss=0.530 weights=[[  4.6784782 -20.008768 ]] b=-8.9703245\n",
      "[49000] loss=0.515 weights=[[  4.699749 -20.105612]] b=-9.018323\n"
     ]
    }
   ],
   "source": [
    "BATCH_SIZE = NUM_SAMPLES // 10\n",
    "\n",
    "weights = None  # в этой переменной мы сохраним результат обучения модели\n",
    "b = None\n",
    "learning_curve = []  # значения ошибки на каждой итерации обучения\n",
    "\n",
    "with tf.Session(graph = tf.Graph()) as sess:  # инициализируем сессию вычислений\n",
    "    \n",
    "    # создаем placeholdr'ы, через них мы будем\n",
    "    # передавать внешние данные в граф вычислений\n",
    "    plh_X = tf.placeholder(dtype = tf.float32, shape = [None, NUM_FEATURES])\n",
    "    plh_labels = tf.placeholder(dtype = tf.float32, shape = [None, 1])\n",
    "    \n",
    "    # создаем переменную для хранения весов модели\n",
    "    # эти веса будут изменяться в процессе обучения\n",
    "    var_W = tf.Variable(tf.random_uniform(shape = [1, NUM_FEATURES],\n",
    "                                          dtype = tf.float32,\n",
    "                                          seed = 54321))\n",
    "    var_b = tf.Variable(0.5, name='var_b')\n",
    "    # создаем переменную для результата предсказания модели\n",
    "    var_Pred = py_func_with_grad(linear_op_forward,         # функция предсказания модели \n",
    "                                 [plh_X, var_W, var_b],     # аргументы функции\n",
    "                                 [tf.float32],              # тип выходных значений\n",
    "                                 name = 'linear_op',        # имя операции \n",
    "                                 grad = linear_op_backward, # функция для вычисления градиента\n",
    "                                 graph = sess.graph)        # объект графа вчислений\n",
    "    \n",
    "    # создаем переменную для результата операции sigmoid\n",
    "    var_Sigmoid = py_func_with_grad(sigmoid_op_forward,\n",
    "                                    [var_Pred],\n",
    "                                    [tf.float32],\n",
    "                                    name = 'sigmoid_op',\n",
    "                                    grad = sigmoid_op_backward,\n",
    "                                    graph = sess.graph)\n",
    "    \n",
    "    # кроссэнтропийная функция потерь для бмнарной классификации\n",
    "    cost = tf.losses.sigmoid_cross_entropy(plh_labels, var_Sigmoid)\n",
    "    \n",
    "    # инициализируем оптимизатор и указываем скорость обучения\n",
    "    optimizer = tf.train.GradientDescentOptimizer(learning_rate = 0.9).minimize(cost)\n",
    "\n",
    "    # инициализируем placeholder'ы и переменные\n",
    "    sess.run(tf.global_variables_initializer())\n",
    "    \n",
    "    indices = np.arange(len(X))  # массив индексов объектов\n",
    "    \n",
    "    # выполняем итерации по 10-ти эпохам\n",
    "    for _ in range(500):\n",
    "        for epoch in range(10):\n",
    "        \n",
    "            # вначале каждой эпохи перемешиваем индексы\n",
    "            np.random.shuffle(indices)\n",
    "        \n",
    "            # внутри каждой эпохи данные разбиваются на батчи\n",
    "            for batch in range(len(X) // BATCH_SIZE):\n",
    "            \n",
    "                # выбираем индексы очередного батча\n",
    "                batch_indices = indices[batch * BATCH_SIZE:(batch + 1) * BATCH_SIZE]\n",
    "\n",
    "                # выполняем шаг обучения: вычисляем ошибку и обновляем веса\n",
    "                loss, _ = sess.run([cost, optimizer],  # указываем, какие операции необходимо выполнить\n",
    "                                   feed_dict = {plh_X: X[batch_indices],  # передаем входные данные для вычисления\n",
    "                                                plh_labels: y[batch_indices]})\n",
    "        \n",
    "                # сохраняем занчения ошибки для построения кривой обучения\n",
    "                learning_curve.append(loss)\n",
    "            \n",
    "                # выводим текущее значение ошибки для каждого 10го шага\n",
    "                steps = len(learning_curve) - 1\n",
    "                if steps % 1000 == 0:\n",
    "                    print('[%03d] loss=%.3f weights=%s b=%s' % (steps, loss, var_W.eval(), var_b.eval()))\n",
    "    \n",
    "        # сохраняем обученные веса\n",
    "        weights = var_W.eval()\n",
    "        b = var_b.eval()"
   ]
  },
  {
   "cell_type": "markdown",
   "metadata": {},
   "source": [
    "## Визуализируем кривую обучения"
   ]
  },
  {
   "cell_type": "code",
   "execution_count": 29,
   "metadata": {},
   "outputs": [
    {
     "data": {
      "image/png": "[encoded data removed]",
      "text/plain": [
       "<Figure size 432x288 with 1 Axes>"
      ]
     },
     "metadata": {
      "needs_background": "light"
     },
     "output_type": "display_data"
    }
   ],
   "source": [
    "plt.xlabel('step')\n",
    "plt.ylabel('loss')\n",
    "plt.title('Learning curve')\n",
    "plt.plot(learning_curve);"
   ]
  },
  {
   "cell_type": "markdown",
   "metadata": {},
   "source": [
    "## Визуализируем разделяющую гиперплоскость"
   ]
  },
  {
   "cell_type": "code",
   "execution_count": 32,
   "metadata": {},
   "outputs": [
    {
     "data": {
      "image/png": "[encoded data removed]",
      "text/plain": [
       "<Figure size 432x288 with 1 Axes>"
      ]
     },
     "metadata": {
      "needs_background": "light"
     },
     "output_type": "display_data"
    }
   ],
   "source": [
    "y_pred = - (X[:, 0] * weights[0, 0]+b) / weights[0, 1]\n",
    "\n",
    "order = np.argsort(X[:, 0])\n",
    "\n",
    "plt.xlabel('x')\n",
    "plt.ylabel('y')\n",
    "plt.plot(X[ones, 0], X[ones, 1], 'ob',\n",
    "         X[zeros, 0], X[zeros, 1], 'or',\n",
    "         X[order, 0], y_pred[order], '-g');"
   ]
  },
  {
   "cell_type": "code",
   "execution_count": null,
   "metadata": {},
   "outputs": [],
   "source": []
  }
 ],
 "metadata": {
  "kernelspec": {
   "display_name": "Python 3",
   "language": "python",
   "name": "python3"
  },
  "language_info": {
   "codemirror_mode": {
    "name": "ipython",
    "version": 3
   },
   "file_extension": ".py",
   "mimetype": "text/x-python",
   "name": "python",
   "nbconvert_exporter": "python",
   "pygments_lexer": "ipython3",
   "version": "3.6.7"
  }
 },
 "nbformat": 4,
 "nbformat_minor": 2
}
