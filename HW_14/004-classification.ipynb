{
 "cells": [
  {
   "cell_type": "code",
   "execution_count": null,
   "metadata": {},
   "outputs": [],
   "source": [
    "# Пока недоделано. Прошу повременить с проверкой! :)"
   ]
  },
  {
   "cell_type": "markdown",
   "metadata": {},
   "source": [
    "# Реализация логистической регрессии в TensorFlow"
   ]
  },
  {
   "cell_type": "code",
   "execution_count": 3,
   "metadata": {},
   "outputs": [],
   "source": [
    "import numpy as np\n",
    "import tensorflow as tf"
   ]
  },
  {
   "cell_type": "code",
   "execution_count": 4,
   "metadata": {},
   "outputs": [],
   "source": [
    "%matplotlib inline\n",
    "from matplotlib import pyplot as plt"
   ]
  },
  {
   "cell_type": "markdown",
   "metadata": {},
   "source": [
    "## Генерируем данные для задачи регрессии"
   ]
  },
  {
   "cell_type": "code",
   "execution_count": 42,
   "metadata": {},
   "outputs": [],
   "source": [
    "NUM_FEATURES = 2\n",
    "NUM_SAMPLES = 1000"
   ]
  },
  {
   "cell_type": "code",
   "execution_count": 82,
   "metadata": {},
   "outputs": [
    {
     "data": {
      "image/png": "[encoded data removed]",
      "text/plain": [
       "<Figure size 432x288 with 1 Axes>"
      ]
     },
     "metadata": {
      "needs_background": "light"
     },
     "output_type": "display_data"
    }
   ],
   "source": [
    "from sklearn.datasets import make_classification\n",
    "\n",
    "X, y = make_classification(n_samples = NUM_SAMPLES,\n",
    "                           n_features = NUM_FEATURES,\n",
    "                           n_informative = NUM_FEATURES,\n",
    "                           n_redundant = 0,\n",
    "                           n_classes = 2,\n",
    "                           n_clusters_per_class = 1,\n",
    "                           class_sep = 0.75,\n",
    "                           random_state = 54312)\n",
    "\n",
    "y = y.reshape(-1, 1)\n",
    "\n",
    "ones = np.where(y == 1)   # индексы объектов класса '1'\n",
    "zeros = np.where(y == 0)  # индексы объектов класса '0'\n",
    "\n",
    "plt.xlabel('x')\n",
    "plt.ylabel('y')\n",
    "plt.plot(X[ones, 0], X[ones, 1], 'ob',\n",
    "         X[zeros, 0], X[zeros, 1], 'or');"
   ]
  },
  {
   "cell_type": "markdown",
   "metadata": {},
   "source": [
    "## Вспомогательная функция для создания операций"
   ]
  },
  {
   "cell_type": "code",
   "execution_count": 101,
   "metadata": {},
   "outputs": [],
   "source": [
    "import string\n",
    "\n",
    "def py_func_with_grad(func, inp, Tout, grad, name = None, stateful = False, graph = None):\n",
    "    \n",
    "    name_prefix = ''.join(np.random.choice(list(string.ascii_letters), size = 10))\n",
    "    \n",
    "    name = '%s_%s' % (name_prefix, name or '')\n",
    "    grad_func_name = '%s_grad' % name\n",
    "\n",
    "    tf.RegisterGradient(grad_func_name)(grad)\n",
    "\n",
    "    g = graph or tf.get_default_graph()\n",
    "    with g.gradient_override_map({'PyFunc': grad_func_name, \n",
    "                                  'PyFuncStateless': grad_func_name}):\n",
    "        with tf.name_scope(name, 'PyFuncOp', inp):\n",
    "            return tf.py_func(func, inp, Tout, stateful = stateful, name = name)"
   ]
  },
  {
   "cell_type": "markdown",
   "metadata": {},
   "source": [
    "## Реализация линейной опреаций"
   ]
  },
  {
   "cell_type": "code",
   "execution_count": 102,
   "metadata": {},
   "outputs": [],
   "source": [
    "def linear_op_forward(X, W):\n",
    "    ''' Реализация линейной операции '''\n",
    "    return np.dot(X, W.T) # аргументы являются numpy-массивами\n",
    "\n",
    "def linear_op_backward(op, grads):\n",
    "    ''' Реализация вычисления градиента линейной операции '''\n",
    "    X = op.inputs[0]  # тензор входных данных\n",
    "    W = op.inputs[1]  # тензор параметров модели\n",
    "    dX = tf.multiply(grads, W)\n",
    "    dW = tf.reduce_sum(tf.multiply(X, grads),\n",
    "                       axis = 0,\n",
    "                       keep_dims = True)\n",
    "    return dX, dW\n",
    "\n",
    "def sigmoid_op_forward(X):\n",
    "    # TODO: реализовать операцию sigmoid\n",
    "    return 1/(1+np.exp(-X))\n",
    "\n",
    "def sigmoid_op_backward(op, grads):\n",
    "    #print('op', op.inputs[0] , 'grad',grads)\n",
    "    y_pred = op.inputs[0]  # тензор входных данных\n",
    "       \n",
    "    g = tf.multiply(tf.sigmoid(y_pred),tf.subtract(tf.constant(1.0),tf.sigmoid(y_pred)))\n",
    "    \n",
    "    d = tf.multiply(grads, g)\n",
    "    \n",
    "    # TODO: реализовать вычисление градиента для sigmoid\n",
    "    return d"
   ]
  },
  {
   "cell_type": "code",
   "execution_count": 80,
   "metadata": {},
   "outputs": [],
   "source": [
    "def linear_op_forward(X, W,b):\n",
    "    ''' Реализация линейной операции '''\n",
    "    return np.dot(X, W.T) + b  # аргументы являются numpy-массивами\n",
    "\n",
    "def linear_op_backward(op, grads):\n",
    "    ''' Реализация вычисления градиента линейной операции '''\n",
    "    X = op.inputs[0]  # тензор входных данных\n",
    "    W = op.inputs[1]  # тензор параметров модели\n",
    "    dX = tf.multiply(grads, W)\n",
    "    dW = tf.reduce_sum(tf.multiply(X, grads),\n",
    "                       axis = 0,\n",
    "                       keep_dims = True)\n",
    "    return dX, dW\n",
    "\n",
    "def sigmoid_op_forward(X):\n",
    "    # TODO: реализовать операцию sigmoid\n",
    "    return 1/(1+np.exp(-X))\n",
    "\n",
    "def sigmoid_op_backward(op, grads):\n",
    "    #print('op', op.inputs[0] , 'grad',grads)\n",
    "    y_pred = op.inputs[0]  # тензор входных данных\n",
    "       \n",
    "    g = tf.multiply(tf.sigmoid(y_pred),tf.subtract(tf.constant(1.0),tf.sigmoid(y_pred)))\n",
    "    \n",
    "    d = tf.multiply(grads, g)\n",
    "    \n",
    "    # TODO: реализовать вычисление градиента для sigmoid\n",
    "    return d"
   ]
  },
  {
   "cell_type": "markdown",
   "metadata": {},
   "source": [
    "## Создание графа вычислений и обучение модели"
   ]
  },
  {
   "cell_type": "code",
   "execution_count": 103,
   "metadata": {
    "scrolled": false
   },
   "outputs": [
    {
     "name": "stdout",
     "output_type": "stream",
     "text": [
      "[000] loss=0.769 weights=[[0.40648478 0.1819365 ]]\n",
      "[100] loss=0.584 weights=[[ 0.17730358 -3.104102  ]]\n",
      "[200] loss=0.610 weights=[[ 0.27398312 -4.072821  ]]\n",
      "[300] loss=0.571 weights=[[ 0.31368774 -4.6712055 ]]\n",
      "[400] loss=0.575 weights=[[ 0.3257764 -5.117328 ]]\n",
      "[500] loss=0.541 weights=[[ 0.33075666 -5.4735265 ]]\n",
      "[600] loss=0.547 weights=[[ 0.3364715 -5.772814 ]]\n",
      "[700] loss=0.551 weights=[[ 0.32920277 -6.0346885 ]]\n",
      "[800] loss=0.606 weights=[[ 0.32902738 -6.262007  ]]\n",
      "[900] loss=0.585 weights=[[ 0.32552943 -6.4694195 ]]\n",
      "[1000] loss=0.517 weights=[[ 0.3228002 -6.6591673]]\n",
      "[1100] loss=0.565 weights=[[ 0.31655216 -6.832552  ]]\n",
      "[1200] loss=0.570 weights=[[ 0.3142982 -6.992604 ]]\n",
      "[1300] loss=0.523 weights=[[ 0.3098196 -7.143834 ]]\n",
      "[1400] loss=0.563 weights=[[ 0.30411464 -7.2843623 ]]\n",
      "[1500] loss=0.515 weights=[[ 0.30029383 -7.4180126 ]]\n",
      "[1600] loss=0.591 weights=[[ 0.29783502 -7.5427585 ]]\n",
      "[1700] loss=0.537 weights=[[ 0.2910909 -7.6629634]]\n",
      "[1800] loss=0.596 weights=[[ 0.28746384 -7.7773466 ]]\n",
      "[1900] loss=0.564 weights=[[ 0.28344312 -7.8858037 ]]\n",
      "[2000] loss=0.508 weights=[[ 0.2797056 -7.9897246]]\n",
      "[2100] loss=0.592 weights=[[ 0.27652377 -8.089475  ]]\n",
      "[2200] loss=0.521 weights=[[ 0.27598563 -8.186218  ]]\n",
      "[2300] loss=0.534 weights=[[ 0.2702099 -8.279227 ]]\n",
      "[2400] loss=0.543 weights=[[ 0.2659459 -8.369232 ]]\n",
      "[2500] loss=0.545 weights=[[ 0.26169366 -8.456838  ]]\n",
      "[2600] loss=0.510 weights=[[ 0.26135916 -8.539409  ]]\n",
      "[2700] loss=0.547 weights=[[ 0.25714153 -8.621181  ]]\n",
      "[2800] loss=0.568 weights=[[ 0.25437587 -8.699318  ]]\n",
      "[2900] loss=0.571 weights=[[ 0.25140977 -8.777813  ]]\n",
      "[3000] loss=0.580 weights=[[ 0.24746288 -8.851771  ]]\n",
      "[3100] loss=0.527 weights=[[ 0.24327545 -8.9242525 ]]\n",
      "[3200] loss=0.566 weights=[[ 0.24225226 -8.995156  ]]\n",
      "[3300] loss=0.593 weights=[[ 0.23796773 -9.0638075 ]]\n",
      "[3400] loss=0.559 weights=[[ 0.2364519 -9.131743 ]]\n",
      "[3500] loss=0.560 weights=[[ 0.23431364 -9.19796   ]]\n",
      "[3600] loss=0.568 weights=[[ 0.23117355 -9.262591  ]]\n",
      "[3700] loss=0.521 weights=[[ 0.22978869 -9.324975  ]]\n",
      "[3800] loss=0.550 weights=[[ 0.22697331 -9.386309  ]]\n",
      "[3900] loss=0.540 weights=[[ 0.2256879 -9.447534 ]]\n",
      "[4000] loss=0.520 weights=[[ 0.22227368 -9.506495  ]]\n",
      "[4100] loss=0.614 weights=[[ 0.22053754 -9.56371   ]]\n",
      "[4200] loss=0.539 weights=[[ 0.2178763 -9.620832 ]]\n",
      "[4300] loss=0.609 weights=[[ 0.21419893 -9.67687   ]]\n",
      "[4400] loss=0.516 weights=[[ 0.21321727 -9.732019  ]]\n",
      "[4500] loss=0.550 weights=[[ 0.21094762 -9.785378  ]]\n",
      "[4600] loss=0.638 weights=[[ 0.20771654 -9.837928  ]]\n",
      "[4700] loss=0.533 weights=[[ 0.20559804 -9.890217  ]]\n",
      "[4800] loss=0.527 weights=[[ 0.20413277 -9.941653  ]]\n",
      "[4900] loss=0.529 weights=[[ 0.20233619 -9.991266  ]]\n"
     ]
    }
   ],
   "source": [
    "BATCH_SIZE = NUM_SAMPLES // 10\n",
    "\n",
    "weights = None  # в этой переменной мы сохраним результат обучения модели\n",
    "learning_curve = []  # значения ошибки на каждой итерации обучения\n",
    "\n",
    "with tf.Session(graph = tf.Graph()) as sess:  # инициализируем сессию вычислений\n",
    "    \n",
    "    # создаем placeholdr'ы, через них мы будем\n",
    "    # передавать внешние данные в граф вычислений\n",
    "    plh_X = tf.placeholder(dtype = tf.float32, shape = [None, NUM_FEATURES])\n",
    "    plh_labels = tf.placeholder(dtype = tf.float32, shape = [None, 1])\n",
    "\n",
    "    # создаем переменную для хранения весов модели\n",
    "    # эти веса будут изменяться в процессе обучения\n",
    "    var_W = tf.Variable(tf.random_uniform(shape = [1, NUM_FEATURES],\n",
    "                                          dtype = tf.float32,\n",
    "                                          seed = 54321))\n",
    "    \n",
    "    # создаем переменную для результата предсказания модели\n",
    "    var_Pred = py_func_with_grad(linear_op_forward,         # функция предсказания модели \n",
    "                                 [plh_X, var_W],            # аргументы функции\n",
    "                                 [tf.float32],              # тип выходных значений\n",
    "                                 name = 'linear_op',        # имя операции \n",
    "                                 grad = linear_op_backward, # функция для вычисления градиента\n",
    "                                 graph = sess.graph)        # объект графа вчислений\n",
    "    \n",
    "    # создаем переменную для результата операции sigmoid\n",
    "    var_Sigmoid = py_func_with_grad(sigmoid_op_forward,\n",
    "                                    [var_Pred],\n",
    "                                    [tf.float32],\n",
    "                                    name = 'sigmoid_op',\n",
    "                                    grad = sigmoid_op_backward,\n",
    "                                    graph = sess.graph)\n",
    "    \n",
    "    # кроссэнтропийная функция потерь для бмнарной классификации\n",
    "    cost = tf.losses.sigmoid_cross_entropy(plh_labels, var_Sigmoid)\n",
    "    \n",
    "    # инициализируем оптимизатор и указываем скорость обучения\n",
    "    optimizer = tf.train.GradientDescentOptimizer(learning_rate = 0.9).minimize(cost)\n",
    "\n",
    "    # инициализируем placeholder'ы и переменные\n",
    "    sess.run(tf.global_variables_initializer())\n",
    "    \n",
    "    indices = np.arange(len(X))  # массив индексов объектов\n",
    "    \n",
    "    # выполняем итерации по 10-ти эпохам\n",
    "    for _ in range(50):\n",
    "        for epoch in range(10):\n",
    "        \n",
    "            # вначале каждой эпохи перемешиваем индексы\n",
    "            np.random.shuffle(indices)\n",
    "        \n",
    "            # внутри каждой эпохи данные разбиваются на батчи\n",
    "            for batch in range(len(X) // BATCH_SIZE):\n",
    "            \n",
    "                # выбираем индексы очередного батча\n",
    "                batch_indices = indices[batch * BATCH_SIZE:(batch + 1) * BATCH_SIZE]\n",
    "\n",
    "                # выполняем шаг обучения: вычисляем ошибку и обновляем веса\n",
    "                loss, _ = sess.run([cost, optimizer],  # указываем, какие операции необходимо выполнить\n",
    "                                   feed_dict = {plh_X: X[batch_indices],  # передаем входные данные для вычисления\n",
    "                                                plh_labels: y[batch_indices]})\n",
    "        \n",
    "                # сохраняем занчения ошибки для построения кривой обучения\n",
    "                learning_curve.append(loss)\n",
    "            \n",
    "                # выводим текущее значение ошибки для каждого 10го шага\n",
    "                steps = len(learning_curve) - 1\n",
    "                if steps % 100 == 0:\n",
    "                    print('[%03d] loss=%.3f weights=%s' % (steps, loss, var_W.eval()))\n",
    "    \n",
    "        # сохраняем обученные веса\n",
    "        weights = var_W.eval()"
   ]
  },
  {
   "cell_type": "markdown",
   "metadata": {},
   "source": [
    "## Визуализируем кривую обучения"
   ]
  },
  {
   "cell_type": "code",
   "execution_count": 104,
   "metadata": {},
   "outputs": [
    {
     "data": {
      "image/png": "[encoded data removed]",
      "text/plain": [
       "<Figure size 432x288 with 1 Axes>"
      ]
     },
     "metadata": {
      "needs_background": "light"
     },
     "output_type": "display_data"
    }
   ],
   "source": [
    "plt.xlabel('step')\n",
    "plt.ylabel('loss')\n",
    "plt.title('Learning curve')\n",
    "plt.plot(learning_curve);"
   ]
  },
  {
   "cell_type": "markdown",
   "metadata": {},
   "source": [
    "## Визуализируем разделяющую гиперплоскость"
   ]
  },
  {
   "cell_type": "code",
   "execution_count": 105,
   "metadata": {},
   "outputs": [
    {
     "data": {
      "image/png": "[encoded data removed]",
      "text/plain": [
       "<Figure size 432x288 with 1 Axes>"
      ]
     },
     "metadata": {
      "needs_background": "light"
     },
     "output_type": "display_data"
    }
   ],
   "source": [
    "y_pred = - X[:, 0] * weights[0, 0] / weights[0, 1]\n",
    "\n",
    "order = np.argsort(X[:, 0])\n",
    "\n",
    "plt.xlabel('x')\n",
    "plt.ylabel('y')\n",
    "plt.plot(X[ones, 0], X[ones, 1], 'ob',\n",
    "         X[zeros, 0], X[zeros, 1], 'or',\n",
    "         X[order, 0], y_pred[order], '-g');"
   ]
  },
  {
   "cell_type": "code",
   "execution_count": null,
   "metadata": {},
   "outputs": [],
   "source": []
  }
 ],
 "metadata": {
  "kernelspec": {
   "display_name": "Python 3",
   "language": "python",
   "name": "python3"
  },
  "language_info": {
   "codemirror_mode": {
    "name": "ipython",
    "version": 3
   },
   "file_extension": ".py",
   "mimetype": "text/x-python",
   "name": "python",
   "nbconvert_exporter": "python",
   "pygments_lexer": "ipython3",
   "version": "3.6.7"
  }
 },
 "nbformat": 4,
 "nbformat_minor": 2
}
