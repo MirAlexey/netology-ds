{
 "cells": [
  {
   "cell_type": "code",
   "execution_count": null,
   "metadata": {},
   "outputs": [],
   "source": [
    "# Пока недоделано. Прошу повременить с проверкой! :)"
   ]
  },
  {
   "cell_type": "markdown",
   "metadata": {},
   "source": [
    "# Реализация логистической регрессии в TensorFlow"
   ]
  },
  {
   "cell_type": "code",
   "execution_count": 3,
   "metadata": {},
   "outputs": [],
   "source": [
    "import numpy as np\n",
    "import tensorflow as tf"
   ]
  },
  {
   "cell_type": "code",
   "execution_count": 4,
   "metadata": {},
   "outputs": [],
   "source": [
    "%matplotlib inline\n",
    "from matplotlib import pyplot as plt"
   ]
  },
  {
   "cell_type": "markdown",
   "metadata": {},
   "source": [
    "## Генерируем данные для задачи регрессии"
   ]
  },
  {
   "cell_type": "code",
   "execution_count": 5,
   "metadata": {},
   "outputs": [],
   "source": [
    "NUM_FEATURES = 2\n",
    "NUM_SAMPLES = 1000"
   ]
  },
  {
   "cell_type": "code",
   "execution_count": 6,
   "metadata": {},
   "outputs": [
    {
     "data": {
      "image/png": "[encoded data removed]",
      "text/plain": [
       "<Figure size 432x288 with 1 Axes>"
      ]
     },
     "metadata": {
      "needs_background": "light"
     },
     "output_type": "display_data"
    }
   ],
   "source": [
    "from sklearn.datasets import make_classification\n",
    "\n",
    "X, y = make_classification(n_samples = NUM_SAMPLES,\n",
    "                           n_features = NUM_FEATURES,\n",
    "                           n_informative = NUM_FEATURES,\n",
    "                           n_redundant = 0,\n",
    "                           n_classes = 2,\n",
    "                           n_clusters_per_class = 1,\n",
    "                           class_sep = 0.75,\n",
    "                           random_state = 54312)\n",
    "\n",
    "y = y.reshape(-1, 1)\n",
    "\n",
    "ones = np.where(y == 1)   # индексы объектов класса '1'\n",
    "zeros = np.where(y == 0)  # индексы объектов класса '0'\n",
    "\n",
    "plt.xlabel('x')\n",
    "plt.ylabel('y')\n",
    "plt.plot(X[ones, 0], X[ones, 1], 'ob',\n",
    "         X[zeros, 0], X[zeros, 1], 'or');"
   ]
  },
  {
   "cell_type": "markdown",
   "metadata": {},
   "source": [
    "## Вспомогательная функция для создания операций"
   ]
  },
  {
   "cell_type": "code",
   "execution_count": 7,
   "metadata": {},
   "outputs": [],
   "source": [
    "import string\n",
    "\n",
    "def py_func_with_grad(func, inp, Tout, grad, name = None, stateful = False, graph = None):\n",
    "    \n",
    "    name_prefix = ''.join(np.random.choice(list(string.ascii_letters), size = 10))\n",
    "    \n",
    "    name = '%s_%s' % (name_prefix, name or '')\n",
    "    grad_func_name = '%s_grad' % name\n",
    "\n",
    "    tf.RegisterGradient(grad_func_name)(grad)\n",
    "\n",
    "    g = graph or tf.get_default_graph()\n",
    "    with g.gradient_override_map({'PyFunc': grad_func_name, \n",
    "                                  'PyFuncStateless': grad_func_name}):\n",
    "        with tf.name_scope(name, 'PyFuncOp', inp):\n",
    "            return tf.py_func(func, inp, Tout, stateful = stateful, name = name)"
   ]
  },
  {
   "cell_type": "markdown",
   "metadata": {},
   "source": [
    "## Реализация линейной опреаций"
   ]
  },
  {
   "cell_type": "code",
   "execution_count": 102,
   "metadata": {},
   "outputs": [],
   "source": [
    "def linear_op_forward(X, W):\n",
    "    ''' Реализация линейной операции '''\n",
    "    return np.dot(X, W.T) # аргументы являются numpy-массивами\n",
    "\n",
    "def linear_op_backward(op, grads):\n",
    "    ''' Реализация вычисления градиента линейной операции '''\n",
    "    X = op.inputs[0]  # тензор входных данных\n",
    "    W = op.inputs[1]  # тензор параметров модели\n",
    "    dX = tf.multiply(grads, W)\n",
    "    dW = tf.reduce_sum(tf.multiply(X, grads),\n",
    "                       axis = 0,\n",
    "                       keep_dims = True)\n",
    "    return dX, dW\n",
    "\n",
    "def sigmoid_op_forward(X):\n",
    "    # TODO: реализовать операцию sigmoid\n",
    "    return 1/(1+np.exp(-X))\n",
    "\n",
    "def sigmoid_op_backward(op, grads):\n",
    "    #print('op', op.inputs[0] , 'grad',grads)\n",
    "    y_pred = op.inputs[0]  # тензор входных данных\n",
    "       \n",
    "    g = tf.multiply(tf.sigmoid(y_pred),tf.subtract(tf.constant(1.0),tf.sigmoid(y_pred)))\n",
    "    \n",
    "    d = tf.multiply(grads, g)\n",
    "    \n",
    "    # TODO: реализовать вычисление градиента для sigmoid\n",
    "    return d"
   ]
  },
  {
   "cell_type": "code",
   "execution_count": 21,
   "metadata": {},
   "outputs": [],
   "source": [
    "def linear_op_forward(X, W, b):\n",
    "    ''' Реализация линейной операции '''\n",
    "    return np.dot(X, W.T) + b  # аргументы являются numpy-массивами\n",
    "\n",
    "def linear_op_backward(op, grads):\n",
    "    ''' Реализация вычисления градиента линейной операции '''\n",
    "    X = op.inputs[0]  # тензор входных данных\n",
    "    W = op.inputs[1]  # тензор параметров модели\n",
    "    dX = tf.multiply(grads, W)\n",
    "    dW = tf.reduce_sum(tf.multiply(X, grads),\n",
    "                       axis = 0,\n",
    "                       keep_dims = True)\n",
    "    db = tf.reduce_sum(grads)\n",
    "    return dX, dW, db\n",
    "\n",
    "def sigmoid_op_forward(X):\n",
    "    # TODO: реализовать операцию sigmoid\n",
    "    return 1/(1+np.exp(-X))\n",
    "\n",
    "def sigmoid_op_backward(op, grads):\n",
    "    #print('op', op.inputs[0] , 'grad',grads)\n",
    "    y_pred = op.inputs[0]  # тензор входных данных\n",
    "       \n",
    "    g = tf.multiply(tf.sigmoid(y_pred),tf.subtract(tf.constant(1.0),tf.sigmoid(y_pred)))\n",
    "    \n",
    "    d = tf.multiply(grads, g)\n",
    "    \n",
    "    # TODO: реализовать вычисление градиента для sigmoid\n",
    "    return d"
   ]
  },
  {
   "cell_type": "markdown",
   "metadata": {},
   "source": [
    "## Создание графа вычислений и обучение модели"
   ]
  },
  {
   "cell_type": "code",
   "execution_count": null,
   "metadata": {
    "scrolled": false
   },
   "outputs": [
    {
     "name": "stdout",
     "output_type": "stream",
     "text": [
      "[000] loss=0.736 weights=[[0.420605   0.22537181]] b=0.49129626\n",
      "[010] loss=0.664 weights=[[ 0.2908698  -0.16117379]] b=0.32933635\n",
      "[020] loss=0.678 weights=[[ 0.13166666 -0.5857225 ]] b=0.12124256\n",
      "[030] loss=0.645 weights=[[ 0.04808936 -0.941438  ]] b=-0.03443412\n",
      "[040] loss=0.637 weights=[[ 0.03236563 -1.223261  ]] b=-0.14638124\n",
      "[050] loss=0.606 weights=[[ 0.04680688 -1.4650238 ]] b=-0.22351371\n",
      "[060] loss=0.605 weights=[[ 0.07406751 -1.670356  ]] b=-0.29486763\n",
      "[070] loss=0.630 weights=[[ 0.10950209 -1.8527333 ]] b=-0.35915765\n",
      "[080] loss=0.614 weights=[[ 0.15696865 -2.014777  ]] b=-0.40964442\n",
      "[090] loss=0.620 weights=[[ 0.2007108 -2.1607912]] b=-0.46104088\n",
      "[100] loss=0.578 weights=[[ 0.24566476 -2.2986035 ]] b=-0.50155795\n",
      "[110] loss=0.561 weights=[[ 0.28928939 -2.4215806 ]] b=-0.5512405\n",
      "[120] loss=0.592 weights=[[ 0.32828575 -2.5356712 ]] b=-0.5975298\n",
      "[130] loss=0.581 weights=[[ 0.368481 -2.642705]] b=-0.6434647\n",
      "[140] loss=0.549 weights=[[ 0.40731797 -2.7440827 ]] b=-0.68199974\n",
      "[150] loss=0.618 weights=[[ 0.43990028 -2.8364358 ]] b=-0.73072374\n",
      "[160] loss=0.525 weights=[[ 0.47471085 -2.927805  ]] b=-0.7612926\n",
      "[170] loss=0.558 weights=[[ 0.5071892 -3.0110772]] b=-0.8037771\n",
      "[180] loss=0.573 weights=[[ 0.5411746 -3.0891526]] b=-0.8431853\n",
      "[190] loss=0.532 weights=[[ 0.5742856 -3.1665154]] b=-0.8782811\n",
      "[200] loss=0.563 weights=[[ 0.5990831 -3.2403939]] b=-0.91567874\n",
      "[210] loss=0.543 weights=[[ 0.63073707 -3.3099766 ]] b=-0.9486794\n",
      "[220] loss=0.535 weights=[[ 0.65612036 -3.3781142 ]] b=-0.9812705\n",
      "[230] loss=0.546 weights=[[ 0.6805724 -3.4419684]] b=-1.0157806\n",
      "[240] loss=0.582 weights=[[ 0.7080715 -3.503013 ]] b=-1.0505722\n",
      "[250] loss=0.538 weights=[[ 0.7342937 -3.5641818]] b=-1.0785637\n",
      "[260] loss=0.523 weights=[[ 0.75756097 -3.6220481 ]] b=-1.107351\n",
      "[270] loss=0.544 weights=[[ 0.7783083 -3.678119 ]] b=-1.1386883\n",
      "[280] loss=0.554 weights=[[ 0.7984334 -3.732665 ]] b=-1.1714405\n",
      "[290] loss=0.571 weights=[[ 0.8229686 -3.7835455]] b=-1.2022482\n",
      "[300] loss=0.575 weights=[[ 0.8445703 -3.8359773]] b=-1.2264333\n",
      "[310] loss=0.535 weights=[[ 0.8626812 -3.8881211]] b=-1.2483113\n",
      "[320] loss=0.560 weights=[[ 0.8832982 -3.9347305]] b=-1.2773887\n",
      "[330] loss=0.563 weights=[[ 0.9025686 -3.9823332]] b=-1.3042887\n",
      "[340] loss=0.538 weights=[[ 0.92096055 -4.030291  ]] b=-1.3249859\n",
      "[350] loss=0.571 weights=[[ 0.9372674 -4.0743895]] b=-1.3521705\n",
      "[360] loss=0.552 weights=[[ 0.9548886 -4.118814 ]] b=-1.3751003\n",
      "[370] loss=0.564 weights=[[ 0.97235876 -4.161999  ]] b=-1.3988777\n",
      "[380] loss=0.525 weights=[[ 0.9905969 -4.2057486]] b=-1.4159967\n",
      "[390] loss=0.569 weights=[[ 1.0063545 -4.244535 ]] b=-1.4456222\n",
      "[400] loss=0.577 weights=[[ 1.021399 -4.285938]] b=-1.463475\n",
      "[410] loss=0.574 weights=[[ 1.0358367 -4.3252816]] b=-1.4873364\n",
      "[420] loss=0.518 weights=[[ 1.051045 -4.366392]] b=-1.5023139\n",
      "[430] loss=0.550 weights=[[ 1.0646831 -4.4043818]] b=-1.5227307\n",
      "[440] loss=0.528 weights=[[ 1.0810388 -4.4409966]] b=-1.5434669\n",
      "[450] loss=0.570 weights=[[ 1.0936956 -4.477007 ]] b=-1.5641174\n",
      "[460] loss=0.536 weights=[[ 1.1051694 -4.5147934]] b=-1.5814298\n",
      "[470] loss=0.573 weights=[[ 1.1207044 -4.5483007]] b=-1.6029449\n",
      "[480] loss=0.543 weights=[[ 1.133872 -4.584073]] b=-1.6207157\n",
      "[490] loss=0.559 weights=[[ 1.1462789 -4.618882 ]] b=-1.63822\n",
      "[500] loss=0.566 weights=[[ 1.1579765 -4.6517057]] b=-1.6552097\n",
      "[510] loss=0.531 weights=[[ 1.1723047 -4.6860747]] b=-1.6700367\n",
      "[520] loss=0.536 weights=[[ 1.1850274 -4.718637 ]] b=-1.6878047\n",
      "[530] loss=0.540 weights=[[ 1.1951357 -4.750764 ]] b=-1.706083\n",
      "[540] loss=0.553 weights=[[ 1.2041948 -4.7837334]] b=-1.7212192\n",
      "[550] loss=0.540 weights=[[ 1.2175802 -4.814721 ]] b=-1.737389\n",
      "[560] loss=0.518 weights=[[ 1.2268453 -4.8459363]] b=-1.7527114\n",
      "[570] loss=0.552 weights=[[ 1.2386098 -4.874962 ]] b=-1.7717024\n",
      "[580] loss=0.603 weights=[[ 1.2482328 -4.904361 ]] b=-1.7879164\n",
      "[590] loss=0.512 weights=[[ 1.2566664 -4.936728 ]] b=-1.798261\n",
      "[600] loss=0.541 weights=[[ 1.2681646 -4.965101 ]] b=-1.8150765\n",
      "[610] loss=0.542 weights=[[ 1.2781235 -4.99393  ]] b=-1.8298091\n",
      "[620] loss=0.552 weights=[[ 1.2843045 -5.0234776]] b=-1.8446593\n",
      "[630] loss=0.529 weights=[[ 1.2964026 -5.051093 ]] b=-1.8592601\n",
      "[640] loss=0.557 weights=[[ 1.3070697 -5.077594 ]] b=-1.8740736\n",
      "[650] loss=0.561 weights=[[ 1.3155701 -5.105664 ]] b=-1.8870702\n",
      "[660] loss=0.511 weights=[[ 1.3252898 -5.133297 ]] b=-1.9004321\n",
      "[670] loss=0.511 weights=[[ 1.3335476 -5.161232 ]] b=-1.9103253\n",
      "[680] loss=0.567 weights=[[ 1.34099  -5.186046]] b=-1.9287388\n",
      "[690] loss=0.518 weights=[[ 1.3507799 -5.212918 ]] b=-1.9409634\n",
      "[700] loss=0.559 weights=[[ 1.358586 -5.237307]] b=-1.9580432\n",
      "[710] loss=0.550 weights=[[ 1.3665683 -5.2644644]] b=-1.9662426\n"
     ]
    }
   ],
   "source": [
    "BATCH_SIZE = NUM_SAMPLES // 10\n",
    "\n",
    "weights = None  # в этой переменной мы сохраним результат обучения модели\n",
    "b = None\n",
    "learning_curve = []  # значения ошибки на каждой итерации обучения\n",
    "\n",
    "with tf.Session(graph = tf.Graph()) as sess:  # инициализируем сессию вычислений\n",
    "    \n",
    "    # создаем placeholdr'ы, через них мы будем\n",
    "    # передавать внешние данные в граф вычислений\n",
    "    plh_X = tf.placeholder(dtype = tf.float32, shape = [None, NUM_FEATURES])\n",
    "    plh_labels = tf.placeholder(dtype = tf.float32, shape = [None, 1])\n",
    "    \n",
    "    # создаем переменную для хранения весов модели\n",
    "    # эти веса будут изменяться в процессе обучения\n",
    "    var_W = tf.Variable(tf.random_uniform(shape = [1, NUM_FEATURES],\n",
    "                                          dtype = tf.float32,\n",
    "                                          seed = 54321))\n",
    "    var_b = tf.Variable(0.5, name='var_b')\n",
    "    # создаем переменную для результата предсказания модели\n",
    "    var_Pred = py_func_with_grad(linear_op_forward,         # функция предсказания модели \n",
    "                                 [plh_X, var_W, var_b],     # аргументы функции\n",
    "                                 [tf.float32],              # тип выходных значений\n",
    "                                 name = 'linear_op',        # имя операции \n",
    "                                 grad = linear_op_backward, # функция для вычисления градиента\n",
    "                                 graph = sess.graph)        # объект графа вчислений\n",
    "    \n",
    "    # создаем переменную для результата операции sigmoid\n",
    "    var_Sigmoid = py_func_with_grad(sigmoid_op_forward,\n",
    "                                    [var_Pred],\n",
    "                                    [tf.float32],\n",
    "                                    name = 'sigmoid_op',\n",
    "                                    grad = sigmoid_op_backward,\n",
    "                                    graph = sess.graph)\n",
    "    \n",
    "    # кроссэнтропийная функция потерь для бмнарной классификации\n",
    "    cost = tf.losses.sigmoid_cross_entropy(plh_labels, var_Sigmoid)\n",
    "    \n",
    "    # инициализируем оптимизатор и указываем скорость обучения\n",
    "    optimizer = tf.train.GradientDescentOptimizer(learning_rate = 0.5).minimize(cost)\n",
    "\n",
    "    # инициализируем placeholder'ы и переменные\n",
    "    sess.run(tf.global_variables_initializer())\n",
    "    \n",
    "    indices = np.arange(len(X))  # массив индексов объектов\n",
    "    \n",
    "    # выполняем итерации по 10-ти эпохам\n",
    "    for _ in range(10):\n",
    "        for epoch in range(10):\n",
    "        \n",
    "            # вначале каждой эпохи перемешиваем индексы\n",
    "            np.random.shuffle(indices)\n",
    "        \n",
    "            # внутри каждой эпохи данные разбиваются на батчи\n",
    "            for batch in range(len(X) // BATCH_SIZE):\n",
    "            \n",
    "                # выбираем индексы очередного батча\n",
    "                batch_indices = indices[batch * BATCH_SIZE:(batch + 1) * BATCH_SIZE]\n",
    "\n",
    "                # выполняем шаг обучения: вычисляем ошибку и обновляем веса\n",
    "                loss, _ = sess.run([cost, optimizer],  # указываем, какие операции необходимо выполнить\n",
    "                                   feed_dict = {plh_X: X[batch_indices],  # передаем входные данные для вычисления\n",
    "                                                plh_labels: y[batch_indices]})\n",
    "        \n",
    "                # сохраняем занчения ошибки для построения кривой обучения\n",
    "                learning_curve.append(loss)\n",
    "            \n",
    "                # выводим текущее значение ошибки для каждого 10го шага\n",
    "                steps = len(learning_curve) - 1\n",
    "                if steps % 10 == 0:\n",
    "                    print('[%03d] loss=%.3f weights=%s b=%s' % (steps, loss, var_W.eval(), var_b.eval()))\n",
    "    \n",
    "        # сохраняем обученные веса\n",
    "        weights = var_W.eval()\n",
    "        b = var_b.eval()"
   ]
  },
  {
   "cell_type": "markdown",
   "metadata": {},
   "source": [
    "## Визуализируем кривую обучения"
   ]
  },
  {
   "cell_type": "code",
   "execution_count": 40,
   "metadata": {},
   "outputs": [
    {
     "data": {
      "image/png": "[encoded data removed]",
      "text/plain": [
       "<Figure size 432x288 with 1 Axes>"
      ]
     },
     "metadata": {
      "needs_background": "light"
     },
     "output_type": "display_data"
    }
   ],
   "source": [
    "plt.xlabel('step')\n",
    "plt.ylabel('loss')\n",
    "plt.title('Learning curve')\n",
    "plt.plot(learning_curve);"
   ]
  },
  {
   "cell_type": "markdown",
   "metadata": {},
   "source": [
    "## Визуализируем разделяющую гиперплоскость"
   ]
  },
  {
   "cell_type": "code",
   "execution_count": 41,
   "metadata": {},
   "outputs": [
    {
     "data": {
      "image/png": "[encoded data removed]",
      "text/plain": [
       "<Figure size 432x288 with 1 Axes>"
      ]
     },
     "metadata": {
      "needs_background": "light"
     },
     "output_type": "display_data"
    }
   ],
   "source": [
    "y_pred = - (X[:, 0] * weights[0, 0]+b) / weights[0, 1]\n",
    "\n",
    "order = np.argsort(X[:, 0])\n",
    "\n",
    "plt.xlabel('x')\n",
    "plt.ylabel('y')\n",
    "plt.plot(X[ones, 0], X[ones, 1], 'ob',\n",
    "         X[zeros, 0], X[zeros, 1], 'or',\n",
    "         X[order, 0], y_pred[order], '-g');"
   ]
  },
  {
   "cell_type": "code",
   "execution_count": null,
   "metadata": {},
   "outputs": [],
   "source": []
  }
 ],
 "metadata": {
  "kernelspec": {
   "display_name": "Python 3",
   "language": "python",
   "name": "python3"
  },
  "language_info": {
   "codemirror_mode": {
    "name": "ipython",
    "version": 3
   },
   "file_extension": ".py",
   "mimetype": "text/x-python",
   "name": "python",
   "nbconvert_exporter": "python",
   "pygments_lexer": "ipython3",
   "version": "3.6.7"
  }
 },
 "nbformat": 4,
 "nbformat_minor": 2
}
