{
 "cells": [
  {
   "cell_type": "code",
   "execution_count": null,
   "metadata": {},
   "outputs": [],
   "source": [
    "\n",
    "#    Прочитать про методы оптимизации для нейронных сетей https://habr.com/post/318970/\n",
    "#    Реализовать самостоятельно логистическую регрессию\n",
    "#        Обучить ее методом градиентного спуска\n",
    "#        Методом nesterov momentum\n",
    "#        Методом rmsprop\n",
    "#    В качестве dataset'а взять Iris, оставив 2 класса:\n",
    "#        Iris Versicolor\n",
    "#        Iris Virginica\n",
    "\n"
   ]
  },
  {
   "cell_type": "code",
   "execution_count": 49,
   "metadata": {},
   "outputs": [],
   "source": [
    "import pandas as pd\n",
    "import numpy as np\n",
    "import seaborn as sns"
   ]
  },
  {
   "cell_type": "code",
   "execution_count": 6,
   "metadata": {},
   "outputs": [],
   "source": [
    "from sklearn.datasets import load_iris\n",
    "data_all = load_iris(True)\n",
    "X = data_all[0]\n",
    "y = data_all[1]\n"
   ]
  },
  {
   "cell_type": "code",
   "execution_count": 7,
   "metadata": {},
   "outputs": [
    {
     "data": {
      "text/plain": [
       "array([0, 0, 0, 0, 0, 0, 0, 0, 0, 0, 0, 0, 0, 0, 0, 0, 0, 0, 0, 0, 0, 0,\n",
       "       0, 0, 0, 0, 0, 0, 0, 0, 0, 0, 0, 0, 0, 0, 0, 0, 0, 0, 0, 0, 0, 0,\n",
       "       0, 0, 0, 0, 0, 0, 1, 1, 1, 1, 1, 1, 1, 1, 1, 1, 1, 1, 1, 1, 1, 1,\n",
       "       1, 1, 1, 1, 1, 1, 1, 1, 1, 1, 1, 1, 1, 1, 1, 1, 1, 1, 1, 1, 1, 1,\n",
       "       1, 1, 1, 1, 1, 1, 1, 1, 1, 1, 1, 1, 2, 2, 2, 2, 2, 2, 2, 2, 2, 2,\n",
       "       2, 2, 2, 2, 2, 2, 2, 2, 2, 2, 2, 2, 2, 2, 2, 2, 2, 2, 2, 2, 2, 2,\n",
       "       2, 2, 2, 2, 2, 2, 2, 2, 2, 2, 2, 2, 2, 2, 2, 2, 2, 2])"
      ]
     },
     "execution_count": 7,
     "metadata": {},
     "output_type": "execute_result"
    }
   ],
   "source": [
    "y"
   ]
  },
  {
   "cell_type": "code",
   "execution_count": null,
   "metadata": {},
   "outputs": [],
   "source": [
    "# Обычная линейная регрессия"
   ]
  },
  {
   "cell_type": "code",
   "execution_count": 5,
   "metadata": {},
   "outputs": [],
   "source": [
    "N = 100\n",
    "X = np.random.uniform(low=0, high=100, size=(N,2))\n",
    "Y = 1 + 0.3*X[:,0] + 1.5*X[:,1] +  np.random.normal(scale=5, size=N)"
   ]
  },
  {
   "cell_type": "code",
   "execution_count": 6,
   "metadata": {},
   "outputs": [
    {
     "name": "stdout",
     "output_type": "stream",
     "text": [
      "0 [-1.29764708e-07 -1.26611137e-05 -2.15117504e-06]\n",
      "50000 [-6.03380679e-09 -3.43897495e-06  2.97560111e-06]\n",
      "100000 [ 2.58220112e-11 -2.01227536e-06  2.22987748e-06]\n",
      "150000 [-2.10410245e-10 -1.32548050e-06  1.49996926e-06]\n",
      "200000 [-6.06999895e-10 -8.82522349e-07  1.00047130e-06]\n",
      "250000 [-8.84664009e-10 -5.88127615e-07  6.66838343e-07]\n",
      "300000 [-1.07043352e-09 -3.91966568e-07  4.44438879e-07]\n",
      "350000 [-1.19425048e-09 -2.61232344e-07  2.96212484e-07]\n",
      "400000 [-1.27673794e-09 -1.74101144e-07  1.97422882e-07]\n",
      "450000 [-1.33167810e-09 -1.16030218e-07  1.31581884e-07]\n",
      "500000 [-1.36825840e-09 -7.73272859e-08  8.77003776e-08]\n",
      "550000 [-1.39260237e-09 -5.15326747e-08  5.84543651e-08]\n",
      "600000 [-1.40879097e-09 -3.43411617e-08  3.89625721e-08]\n",
      "650000 [-1.41954437e-09 -2.28834152e-08  2.59717414e-08]\n",
      "700000 [-1.42667522e-09 -1.52470918e-08  1.73136521e-08]\n",
      "750000 [-1.43139178e-09 -1.01576587e-08  1.15432348e-08]\n",
      "Результат: [0.99711566 0.30794517 1.4984227 ]\n"
     ]
    }
   ],
   "source": [
    "i = 0\n",
    "m = 3\n",
    "teta_old = np.zeros(m)\n",
    "teta = np.ones(m)\n",
    "eps = teta*0.00000001\n",
    "alpha = 0.00000001\n",
    "\n",
    "while (np.sum(np.abs(teta-teta_old) > eps)>0):\n",
    "    teta_old = teta.copy()\n",
    "    teta[0] = teta_old[0] - alpha * np.sum(np.dot(teta_old[1:],X.T)+teta_old[0] - Y)/len(Y)\n",
    "    teta[1:] = teta_old[1:] - alpha*np.sum(X.T*(np.dot(teta_old[1:],X.T)+teta_old[0] - Y), axis=1)/len(Y)\n",
    "    if(i%50000 == 0):\n",
    "        print(i, teta-teta_old)\n",
    "    i+=1 \n",
    "\n",
    "print('Результат:', teta)"
   ]
  },
  {
   "cell_type": "code",
   "execution_count": null,
   "metadata": {},
   "outputs": [],
   "source": [
    "#  Логистическая регрессия"
   ]
  },
  {
   "cell_type": "code",
   "execution_count": 8,
   "metadata": {},
   "outputs": [
    {
     "data": {
      "text/plain": [
       "array(['setosa', 'versicolor', 'virginica'], dtype='<U10')"
      ]
     },
     "execution_count": 8,
     "metadata": {},
     "output_type": "execute_result"
    }
   ],
   "source": [
    "from sklearn.datasets import load_iris\n",
    "data_all = load_iris()\n",
    "data_X = data_all['data']\n",
    "data_y = data_all['target']\n",
    "data_all['target_names']"
   ]
  },
  {
   "cell_type": "code",
   "execution_count": 77,
   "metadata": {},
   "outputs": [
    {
     "data": {
      "text/plain": [
       "array([[2.3, 2. ],\n",
       "       [1.9, 2. ],\n",
       "       [2. , 2. ],\n",
       "       [2.3, 2. ],\n",
       "       [1.8, 2. ]])"
      ]
     },
     "execution_count": 77,
     "metadata": {},
     "output_type": "execute_result"
    }
   ],
   "source": [
    "X_all[145:150,3:]"
   ]
  },
  {
   "cell_type": "code",
   "execution_count": 79,
   "metadata": {},
   "outputs": [
    {
     "data": {
      "text/plain": [
       "<seaborn.axisgrid.PairGrid at 0x7f1de36ca0f0>"
      ]
     },
     "execution_count": 79,
     "metadata": {},
     "output_type": "execute_result"
    },
    {
     "data": {
      "image/png": "[encoded data removed]",
      "text/plain": [
       "<Figure size 411.875x360 with 6 Axes>"
      ]
     },
     "metadata": {},
     "output_type": "display_data"
    }
   ],
   "source": [
    "X_all = np.hstack((data_X, data_y.reshape(150,1)))\n",
    "X_all_2 = X_all[:,3:]\n",
    "sns.pairplot(pd.DataFrame(X_all_2), hue=1)"
   ]
  },
  {
   "cell_type": "code",
   "execution_count": 81,
   "metadata": {},
   "outputs": [],
   "source": [
    "# фильтруем класс setosa\n",
    "X_y = X_all[X_all[:,-1] != 0]\n",
    "X_y_2 = X_all_2[X_all_2[:,-1] != 0]"
   ]
  },
  {
   "cell_type": "code",
   "execution_count": 92,
   "metadata": {},
   "outputs": [
    {
     "data": {
      "text/plain": [
       "array([0., 0., 0., 0., 0., 0., 0., 0., 0., 0., 0., 0., 0., 0., 0., 0., 0.,\n",
       "       0., 0., 0., 0., 0., 0., 0., 0., 0., 0., 0., 0., 0., 0., 0., 0., 0.,\n",
       "       0., 0., 0., 0., 0., 0., 0., 0., 0., 0., 0., 0., 0., 0., 0., 0., 1.,\n",
       "       1., 1., 1., 1., 1., 1., 1., 1., 1., 1., 1., 1., 1., 1., 1., 1., 1.,\n",
       "       1., 1., 1., 1., 1., 1., 1., 1., 1., 1., 1., 1., 1., 1., 1., 1., 1.,\n",
       "       1., 1., 1., 1., 1., 1., 1., 1., 1., 1., 1., 1., 1., 1., 1.])"
      ]
     },
     "execution_count": 92,
     "metadata": {},
     "output_type": "execute_result"
    }
   ],
   "source": [
    "X = X_y[:,:-1]\n",
    "y = X_y[:,-1]-1\n",
    "X_2 = X_y_2[:,:-1]\n",
    "y_2 = X_y_2[:,-1]-1\n",
    "y  "
   ]
  },
  {
   "cell_type": "code",
   "execution_count": 83,
   "metadata": {},
   "outputs": [
    {
     "data": {
      "text/plain": [
       "array([0., 0., 0., 0., 0., 0., 0., 0., 0., 0., 0., 0., 0., 0., 0., 0., 0.,\n",
       "       0., 0., 0., 0., 0., 0., 0., 0., 0., 0., 0., 0., 0., 0., 0., 0., 0.,\n",
       "       0., 0., 0., 0., 0., 0., 0., 0., 0., 0., 0., 0., 0., 0., 0., 0., 1.,\n",
       "       1., 1., 1., 1., 1., 1., 1., 1., 1., 1., 1., 1., 1., 1., 1., 1., 1.,\n",
       "       1., 1., 1., 1., 1., 1., 1., 1., 1., 1., 1., 1., 1., 1., 1., 1., 1.,\n",
       "       1., 1., 1., 1., 1., 1., 1., 1., 1., 1., 1., 1., 1., 1., 1.])"
      ]
     },
     "execution_count": 83,
     "metadata": {},
     "output_type": "execute_result"
    }
   ],
   "source": [
    "y_2"
   ]
  },
  {
   "cell_type": "code",
   "execution_count": 84,
   "metadata": {
    "scrolled": true
   },
   "outputs": [
    {
     "data": {
      "text/plain": [
       "array([[0.2],\n",
       "       [0.2],\n",
       "       [0.2],\n",
       "       [0.2],\n",
       "       [0.2],\n",
       "       [0.4],\n",
       "       [0.3],\n",
       "       [0.2],\n",
       "       [0.2],\n",
       "       [0.1],\n",
       "       [0.2],\n",
       "       [0.2],\n",
       "       [0.1],\n",
       "       [0.1],\n",
       "       [0.2],\n",
       "       [0.4],\n",
       "       [0.4],\n",
       "       [0.3],\n",
       "       [0.3],\n",
       "       [0.3],\n",
       "       [0.2],\n",
       "       [0.4],\n",
       "       [0.2],\n",
       "       [0.5],\n",
       "       [0.2],\n",
       "       [0.2],\n",
       "       [0.4],\n",
       "       [0.2],\n",
       "       [0.2],\n",
       "       [0.2],\n",
       "       [0.2],\n",
       "       [0.4],\n",
       "       [0.1],\n",
       "       [0.2],\n",
       "       [0.1],\n",
       "       [0.2],\n",
       "       [0.2],\n",
       "       [0.1],\n",
       "       [0.2],\n",
       "       [0.2],\n",
       "       [0.3],\n",
       "       [0.3],\n",
       "       [0.2],\n",
       "       [0.6],\n",
       "       [0.4],\n",
       "       [0.3],\n",
       "       [0.2],\n",
       "       [0.2],\n",
       "       [0.2],\n",
       "       [0.2],\n",
       "       [2.5],\n",
       "       [1.9],\n",
       "       [2.1],\n",
       "       [1.8],\n",
       "       [2.2],\n",
       "       [2.1],\n",
       "       [1.7],\n",
       "       [1.8],\n",
       "       [1.8],\n",
       "       [2.5],\n",
       "       [2. ],\n",
       "       [1.9],\n",
       "       [2.1],\n",
       "       [2. ],\n",
       "       [2.4],\n",
       "       [2.3],\n",
       "       [1.8],\n",
       "       [2.2],\n",
       "       [2.3],\n",
       "       [1.5],\n",
       "       [2.3],\n",
       "       [2. ],\n",
       "       [2. ],\n",
       "       [1.8],\n",
       "       [2.1],\n",
       "       [1.8],\n",
       "       [1.8],\n",
       "       [1.8],\n",
       "       [2.1],\n",
       "       [1.6],\n",
       "       [1.9],\n",
       "       [2. ],\n",
       "       [2.2],\n",
       "       [1.5],\n",
       "       [1.4],\n",
       "       [2.3],\n",
       "       [2.4],\n",
       "       [1.8],\n",
       "       [1.8],\n",
       "       [2.1],\n",
       "       [2.4],\n",
       "       [2.3],\n",
       "       [1.9],\n",
       "       [2.3],\n",
       "       [2.5],\n",
       "       [2.3],\n",
       "       [1.9],\n",
       "       [2. ],\n",
       "       [2.3],\n",
       "       [1.8]])"
      ]
     },
     "execution_count": 84,
     "metadata": {},
     "output_type": "execute_result"
    }
   ],
   "source": [
    "X_2\n"
   ]
  },
  {
   "cell_type": "code",
   "execution_count": 61,
   "metadata": {},
   "outputs": [
    {
     "name": "stdout",
     "output_type": "stream",
     "text": [
      "0 [0.9999995  0.99999424 0.99999763 0.99999559 0.99999882]\n",
      "50000 [0.97499958 0.71189467 0.88139783 0.7796959  0.94119892]\n",
      "100000 [0.95000098 0.42380255 0.76280143 0.55940155 0.8824007 ]\n",
      "150000 [0.92502824 0.13586092 0.64427379 0.3392177  0.82363777]\n",
      "200000 [ 0.9006063  -0.14875692  0.52725595  0.12153684  0.76568773]\n",
      "250000 [ 0.88368814 -0.38651514  0.43142978 -0.05994292  0.71973838]\n",
      "300000 [ 0.88545492 -0.50606804  0.38934373 -0.14873981  0.70517187]\n",
      "350000 [ 0.89705817 -0.56363088  0.37577524 -0.18863114  0.70749589]\n",
      "400000 [ 0.91230292 -0.59843494  0.37275937 -0.21056638  0.7160757 ]\n",
      "450000 [ 0.92920991 -0.62289891  0.37455173 -0.22435286  0.72749951]\n",
      "Результат: [ 0.94700504 -0.64184912  0.37890977 -0.23379978  0.74043663]\n"
     ]
    }
   ],
   "source": [
    "i = 0\n",
    "\n",
    "m = len(X[0])+1\n",
    "teta_old = np.zeros(m)\n",
    "teta = np.ones(m)\n",
    "eps = teta*0.0000001\n",
    "alpha = 0.000001\n",
    "epoha = 500000\n",
    "\n",
    "while (np.sum(np.abs(teta-teta_old) > eps)>0) and (epoha > i):\n",
    "    teta_old = teta.copy()\n",
    "    teta[0] = teta_old[0] - alpha*np.sum((1/(1+np.exp(-(np.dot(teta_old[1:],X.T)+teta_old[0])))) - y)/len(y)\n",
    "    teta[1:] = teta_old[1:] - alpha*np.sum((X.T*(1/(1+np.exp(-(np.dot(teta_old[1:],X.T)+teta_old[0])))) - y), axis=1)/len(y)\n",
    "    if(i%50000 == 0):\n",
    "        print(i,teta,  )\n",
    "    i+=1 \n",
    "\n",
    "print('Результат:', teta)"
   ]
  },
  {
   "cell_type": "code",
   "execution_count": 109,
   "metadata": {},
   "outputs": [],
   "source": [
    "m = len(X_2[0])+1\n",
    "teta_old_2 = np.zeros(m)\n",
    "teta_2 = np.ones(m)\n",
    "eps = teta_2*0.0000001\n",
    "alpha = 0.001\n",
    "epoha = 500000\n"
   ]
  },
  {
   "cell_type": "code",
   "execution_count": 115,
   "metadata": {},
   "outputs": [
    {
     "data": {
      "text/plain": [
       "array([0., 0., 0., 0., 0., 0., 0., 0., 0., 0., 0., 0., 0., 0., 0., 0., 0.,\n",
       "       0., 0., 0., 0., 0., 0., 0., 0., 0., 0., 0., 0., 0., 0., 0., 0., 0.,\n",
       "       0., 0., 0., 0., 0., 0., 0., 0., 0., 0., 0., 0., 0., 0., 0., 0., 0.,\n",
       "       0., 0., 0., 0., 0., 0., 0., 0., 0., 0., 0., 0., 0., 0., 0., 0., 0.,\n",
       "       0., 0., 0., 0., 0., 0., 0., 0., 0., 0., 0., 0., 0., 0., 0., 0., 0.,\n",
       "       0., 0., 0., 0., 0., 0., 0., 0., 0., 0., 0., 0., 0., 0., 0.])"
      ]
     },
     "execution_count": 115,
     "metadata": {},
     "output_type": "execute_result"
    }
   ],
   "source": [
    "np.dot(teta_old_2[1:],X_2.T)"
   ]
  },
  {
   "cell_type": "code",
   "execution_count": 114,
   "metadata": {},
   "outputs": [
    {
     "data": {
      "text/plain": [
       "array([[-0.1 , -0.1 , -0.1 , -0.1 , -0.1 , -0.2 , -0.15, -0.1 , -0.1 ,\n",
       "        -0.05, -0.1 , -0.1 , -0.05, -0.05, -0.1 , -0.2 , -0.2 , -0.15,\n",
       "        -0.15, -0.15, -0.1 , -0.2 , -0.1 , -0.25, -0.1 , -0.1 , -0.2 ,\n",
       "        -0.1 , -0.1 , -0.1 , -0.1 , -0.2 , -0.05, -0.1 , -0.05, -0.1 ,\n",
       "        -0.1 , -0.05, -0.1 , -0.1 , -0.15, -0.15, -0.1 , -0.3 , -0.2 ,\n",
       "        -0.15, -0.1 , -0.1 , -0.1 , -0.1 ,  1.25,  0.95,  1.05,  0.9 ,\n",
       "         1.1 ,  1.05,  0.85,  0.9 ,  0.9 ,  1.25,  1.  ,  0.95,  1.05,\n",
       "         1.  ,  1.2 ,  1.15,  0.9 ,  1.1 ,  1.15,  0.75,  1.15,  1.  ,\n",
       "         1.  ,  0.9 ,  1.05,  0.9 ,  0.9 ,  0.9 ,  1.05,  0.8 ,  0.95,\n",
       "         1.  ,  1.1 ,  0.75,  0.7 ,  1.15,  1.2 ,  0.9 ,  0.9 ,  1.05,\n",
       "         1.2 ,  1.15,  0.95,  1.15,  1.25,  1.15,  0.95,  1.  ,  1.15,\n",
       "         0.9 ]])"
      ]
     },
     "execution_count": 114,
     "metadata": {},
     "output_type": "execute_result"
    }
   ],
   "source": [
    "X_2.T*(y-1/(1+np.exp((np.dot(teta_old_2[1:],X_2.T)+teta_old_2[0]))))"
   ]
  },
  {
   "cell_type": "code",
   "execution_count": 95,
   "metadata": {},
   "outputs": [
    {
     "name": "stdout",
     "output_type": "stream",
     "text": [
      "0 [0.99913602 0.99893812]\n",
      "50000 [-2.90369855 -1.71994894]\n",
      "100000 [-3.54996147 -1.91228396]\n",
      "150000 [-3.92955747 -2.01856418]\n",
      "200000 [-4.19930233 -2.09175458]\n",
      "250000 [-4.40872524 -2.14743001]\n",
      "300000 [-4.57994965 -2.19228184]\n",
      "350000 [-4.724794 -2.229792]\n",
      "400000 [-4.8503192  -2.26200053]\n",
      "450000 [-4.96108256 -2.29020401]\n",
      "Результат: [-5.0601954  -2.31527664]\n"
     ]
    }
   ],
   "source": [
    "i = 0\n",
    "\n",
    "m = len(X_2[0])+1\n",
    "teta_old_2 = np.zeros(m)\n",
    "teta_2 = np.ones(m)\n",
    "eps = teta_2*0.0000001\n",
    "alpha = 0.001\n",
    "epoha = 500000\n",
    "\n",
    "while (np.sum(np.abs(teta_2-teta_old_2) > eps)>0) and (epoha > i):\n",
    "    teta_old_2 = teta_2.copy()\n",
    "    teta_2[0] = teta_old_2[0] + alpha*np.sum((y_2-1/(1+np.exp(-(np.dot(teta_old_2[1:],X_2.T)+teta_old_2[0])))))/len(y)\n",
    "    teta_2[1:] = teta_old_2[1:] + alpha*np.sum((X_2.T*(y_2-1/(1+np.exp(-(np.dot(teta_old_2[1:],X_2.T)+teta_old_2[0]))))), axis=1)/len(y_2)\n",
    "    if(i%50000 == 0):\n",
    "        print(i,teta_2,  )\n",
    "    i+=1 \n",
    "\n",
    "print('Результат:', teta_2)"
   ]
  },
  {
   "cell_type": "code",
   "execution_count": 96,
   "metadata": {},
   "outputs": [
    {
     "data": {
      "text/plain": [
       "array([3.97696772e-03, 3.97696772e-03, 3.97696772e-03, 3.97696772e-03,\n",
       "       3.97696772e-03, 2.50663055e-03, 3.15760643e-03, 3.97696772e-03,\n",
       "       3.97696772e-03, 5.00787540e-03, 3.97696772e-03, 3.97696772e-03,\n",
       "       5.00787540e-03, 5.00787540e-03, 3.97696772e-03, 2.50663055e-03,\n",
       "       2.50663055e-03, 3.15760643e-03, 3.15760643e-03, 3.15760643e-03,\n",
       "       3.97696772e-03, 2.50663055e-03, 3.97696772e-03, 1.98959277e-03,\n",
       "       3.97696772e-03, 3.97696772e-03, 2.50663055e-03, 3.97696772e-03,\n",
       "       3.97696772e-03, 3.97696772e-03, 3.97696772e-03, 2.50663055e-03,\n",
       "       5.00787540e-03, 3.97696772e-03, 5.00787540e-03, 3.97696772e-03,\n",
       "       3.97696772e-03, 5.00787540e-03, 3.97696772e-03, 3.97696772e-03,\n",
       "       3.15760643e-03, 3.15760643e-03, 3.97696772e-03, 1.57903454e-03,\n",
       "       2.50663055e-03, 3.15760643e-03, 3.97696772e-03, 3.97696772e-03,\n",
       "       3.97696772e-03, 3.97696772e-03, 1.94355551e-05, 7.79612242e-05,\n",
       "       4.90669232e-05, 9.82700136e-05, 3.89262030e-05, 4.90669232e-05,\n",
       "       1.23868559e-04, 9.82700136e-05, 9.82700136e-05, 1.94355551e-05,\n",
       "       6.18492534e-05, 7.79612242e-05, 4.90669232e-05, 6.18492534e-05,\n",
       "       2.44988634e-05, 3.08812130e-05, 9.82700136e-05, 3.89262030e-05,\n",
       "       3.08812130e-05, 1.96803029e-04, 3.08812130e-05, 6.18492534e-05,\n",
       "       6.18492534e-05, 9.82700136e-05, 4.90669232e-05, 9.82700136e-05,\n",
       "       9.82700136e-05, 9.82700136e-05, 4.90669232e-05, 1.56134277e-04,\n",
       "       7.79612242e-05, 6.18492534e-05, 3.89262030e-05, 1.96803029e-04,\n",
       "       2.48062261e-04, 3.08812130e-05, 2.44988634e-05, 9.82700136e-05,\n",
       "       9.82700136e-05, 4.90669232e-05, 2.44988634e-05, 3.08812130e-05,\n",
       "       7.79612242e-05, 3.08812130e-05, 1.94355551e-05, 3.08812130e-05,\n",
       "       7.79612242e-05, 6.18492534e-05, 3.08812130e-05, 9.82700136e-05])"
      ]
     },
     "execution_count": 96,
     "metadata": {},
     "output_type": "execute_result"
    }
   ],
   "source": [
    "y_p_2 = 1/(1+np.exp(-(np.sum(X_2*teta_2[1:],axis=1)+teta_2[0])))\n",
    "y_p_2"
   ]
  },
  {
   "cell_type": "code",
   "execution_count": 62,
   "metadata": {},
   "outputs": [
    {
     "data": {
      "text/plain": [
       "array([0.08350308, 0.13127159, 0.08769595, 0.15652637, 0.10632032,\n",
       "       0.14929782, 0.14673993, 0.21085575, 0.09085232, 0.22395561,\n",
       "       0.17047231, 0.17157873, 0.09404206, 0.12656431, 0.19346927,\n",
       "       0.1023969 , 0.18968399, 0.12230234, 0.10524094, 0.14216609,\n",
       "       0.19515642, 0.13239361, 0.10116615, 0.10739196, 0.1086348 ,\n",
       "       0.10483901, 0.08000719, 0.10650856, 0.14846449, 0.14133667,\n",
       "       0.14833241, 0.14204543, 0.14480287, 0.13139121, 0.2102042 ,\n",
       "       0.18494503, 0.10275626, 0.09184578, 0.18143843, 0.16679389,\n",
       "       0.14954237, 0.13349394, 0.13737927, 0.19437161, 0.16196425,\n",
       "       0.15865887, 0.16354452, 0.12170391, 0.21993073, 0.16156912,\n",
       "       0.19814173, 0.17679523, 0.09129735, 0.12192789, 0.1399912 ,\n",
       "       0.05827827, 0.26035236, 0.05842512, 0.08096089, 0.13177894,\n",
       "       0.15135555, 0.12238006, 0.11796731, 0.1896346 , 0.244142  ,\n",
       "       0.18475581, 0.11492447, 0.07635925, 0.05116001, 0.10632591,\n",
       "       0.13023335, 0.22250142, 0.04653619, 0.13165308, 0.13230577,\n",
       "       0.07365804, 0.1466695 , 0.16187019, 0.13537539, 0.06244909,\n",
       "       0.05946393, 0.0630211 , 0.14427842, 0.10741509, 0.09485234,\n",
       "       0.07032692, 0.20741435, 0.12572237, 0.17410438, 0.11766445,\n",
       "       0.15303475, 0.14227665, 0.17679523, 0.13221987, 0.17015219,\n",
       "       0.15066314, 0.12880802, 0.13905387, 0.21354618, 0.17324976])"
      ]
     },
     "execution_count": 62,
     "metadata": {},
     "output_type": "execute_result"
    }
   ],
   "source": [
    "y_p = 1/(1+np.exp(-(np.sum(X*teta[1:],axis=1)+teta[0])))\n",
    "y_p"
   ]
  },
  {
   "cell_type": "code",
   "execution_count": 67,
   "metadata": {},
   "outputs": [
    {
     "data": {
      "text/plain": [
       "array([-4.49294385,  1.21251126, -1.09885898,  1.03661128])"
      ]
     },
     "execution_count": 67,
     "metadata": {},
     "output_type": "execute_result"
    }
   ],
   "source": [
    "teta[1:]*X[0]"
   ]
  },
  {
   "cell_type": "code",
   "execution_count": 64,
   "metadata": {},
   "outputs": [
    {
     "data": {
      "text/plain": [
       "array([[-2.39567524],\n",
       "       [-1.88976215],\n",
       "       [-2.3420976 ],\n",
       "       [-1.68430417],\n",
       "       [-2.12889095],\n",
       "       [-1.740119  ],\n",
       "       [-1.76040255],\n",
       "       [-1.31977486],\n",
       "       [-2.30327221],\n",
       "       [-1.24276188],\n",
       "       [-1.58228364],\n",
       "       [-1.57447961],\n",
       "       [-2.26525069],\n",
       "       [-1.93168396],\n",
       "       [-1.4276233 ],\n",
       "       [-2.17087155],\n",
       "       [-1.45206481],\n",
       "       [-1.97080596],\n",
       "       [-2.14030209],\n",
       "       [-1.79741447],\n",
       "       [-1.41684653],\n",
       "       [-1.87995876],\n",
       "       [-2.18433399],\n",
       "       [-2.11766227],\n",
       "       [-2.10476245],\n",
       "       [-2.14457761],\n",
       "       [-2.4422493 ],\n",
       "       [-2.1269114 ],\n",
       "       [-1.74669543],\n",
       "       [-1.80423216],\n",
       "       [-1.74774056],\n",
       "       [-1.79840424],\n",
       "       [-1.77595868],\n",
       "       [-1.88871359],\n",
       "       [-1.32369498],\n",
       "       [-1.48319688],\n",
       "       [-2.16696782],\n",
       "       [-2.29130338],\n",
       "       [-1.50663222],\n",
       "       [-1.60852221],\n",
       "       [-1.73819481],\n",
       "       [-1.87041301],\n",
       "       [-1.83722964],\n",
       "       [-1.42185075],\n",
       "       [-1.64368513],\n",
       "       [-1.66824077],\n",
       "       [-1.63208809],\n",
       "       [-1.97639262],\n",
       "       [-1.26607011],\n",
       "       [-1.64659908],\n",
       "       [-1.3979493 ],\n",
       "       [-1.53821278],\n",
       "       [-2.2978962 ],\n",
       "       [-1.97429894],\n",
       "       [-1.81536309],\n",
       "       [-2.78248061],\n",
       "       [-1.04413798],\n",
       "       [-2.77980791],\n",
       "       [-2.42936245],\n",
       "       [-1.88532056],\n",
       "       [-1.72400861],\n",
       "       [-1.97008221],\n",
       "       [-2.01182155],\n",
       "       [-1.45238618],\n",
       "       [-1.13010348],\n",
       "       [-1.48445267],\n",
       "       [-2.04139781],\n",
       "       [-2.49287402],\n",
       "       [-2.92028204],\n",
       "       [-2.12883216],\n",
       "       [-1.89889714],\n",
       "       [-1.25114836],\n",
       "       [-3.01987112],\n",
       "       [-1.88642104],\n",
       "       [-1.88072367],\n",
       "       [-2.53181013],\n",
       "       [-1.76096518],\n",
       "       [-1.64437829],\n",
       "       [-1.85424384],\n",
       "       [-2.70891945],\n",
       "       [-2.76108018],\n",
       "       [-2.69919124],\n",
       "       [-1.78020017],\n",
       "       [-2.11742101],\n",
       "       [-2.2557767 ],\n",
       "       [-2.58167831],\n",
       "       [-1.34058207],\n",
       "       [-1.93932192],\n",
       "       [-1.5568134 ],\n",
       "       [-2.01473551],\n",
       "       [-1.71099465],\n",
       "       [-1.79650825],\n",
       "       [-1.53821278],\n",
       "       [-1.88147219],\n",
       "       [-1.58454902],\n",
       "       [-1.72940938],\n",
       "       [-1.91153931],\n",
       "       [-1.82317055],\n",
       "       [-1.30368087],\n",
       "       [-1.56276842]])"
      ]
     },
     "execution_count": 64,
     "metadata": {},
     "output_type": "execute_result"
    }
   ],
   "source": [
    "np.dot(X,teta[1:].reshape(4,1))+teta[0]"
   ]
  },
  {
   "cell_type": "code",
   "execution_count": null,
   "metadata": {},
   "outputs": [],
   "source": []
  },
  {
   "cell_type": "code",
   "execution_count": null,
   "metadata": {},
   "outputs": [],
   "source": []
  },
  {
   "cell_type": "code",
   "execution_count": 44,
   "metadata": {
    "scrolled": true
   },
   "outputs": [
    {
     "data": {
      "text/plain": [
       "array([[2.70925245e-07],\n",
       "       [6.32001269e-04],\n",
       "       [6.40711899e-07],\n",
       "       [5.36818348e-04],\n",
       "       [6.42751448e-06],\n",
       "       [9.10115816e-04],\n",
       "       [7.75046803e-03],\n",
       "       [4.79646880e-02],\n",
       "       [3.21286885e-07],\n",
       "       [5.92888550e-01],\n",
       "       [3.62093444e-04],\n",
       "       [3.56738812e-02],\n",
       "       [2.86518730e-08],\n",
       "       [1.04029945e-04],\n",
       "       [1.06957456e-01],\n",
       "       [5.56327322e-06],\n",
       "       [1.78657304e-01],\n",
       "       [8.22544339e-06],\n",
       "       [1.05946858e-06],\n",
       "       [8.67290623e-05],\n",
       "       [6.47414313e-01],\n",
       "       [1.21326809e-04],\n",
       "       [1.24097516e-06],\n",
       "       [2.54067610e-06],\n",
       "       [5.90913200e-06],\n",
       "       [6.21126704e-06],\n",
       "       [4.57409052e-08],\n",
       "       [2.31346208e-05],\n",
       "       [2.24062523e-03],\n",
       "       [7.32900371e-05],\n",
       "       [1.36879032e-04],\n",
       "       [4.57161000e-05],\n",
       "       [2.94459481e-04],\n",
       "       [2.27997906e-04],\n",
       "       [5.86111902e-01],\n",
       "       [3.72088233e-01],\n",
       "       [8.33582528e-06],\n",
       "       [7.48651597e-08],\n",
       "       [4.62390749e-02],\n",
       "       [2.79733848e-03],\n",
       "       [3.79070754e-04],\n",
       "       [3.36009907e-04],\n",
       "       [9.11631590e-05],\n",
       "       [8.56606203e-03],\n",
       "       [2.86502251e-03],\n",
       "       [3.16516916e-03],\n",
       "       [5.84692836e-03],\n",
       "       [3.84689894e-05],\n",
       "       [1.74573883e-01],\n",
       "       [3.62485671e-03],\n",
       "       [9.74261788e-01],\n",
       "       [1.01214159e-01],\n",
       "       [7.77277633e-06],\n",
       "       [2.27516589e-04],\n",
       "       [1.26718499e-02],\n",
       "       [6.37042966e-09],\n",
       "       [9.77787683e-01],\n",
       "       [1.72463821e-09],\n",
       "       [9.84961795e-08],\n",
       "       [6.51818252e-02],\n",
       "       [4.04977296e-02],\n",
       "       [2.04176033e-04],\n",
       "       [5.15386878e-04],\n",
       "       [2.47676383e-01],\n",
       "       [9.97149192e-01],\n",
       "       [8.03437448e-01],\n",
       "       [1.12916161e-04],\n",
       "       [5.56259196e-06],\n",
       "       [5.80546171e-10],\n",
       "       [1.22171361e-06],\n",
       "       [9.37522181e-03],\n",
       "       [9.34095475e-01],\n",
       "       [7.98862064e-11],\n",
       "       [4.91366057e-04],\n",
       "       [7.79690182e-03],\n",
       "       [1.48382269e-07],\n",
       "       [4.03605723e-03],\n",
       "       [3.67951068e-02],\n",
       "       [2.95141997e-03],\n",
       "       [3.16859211e-09],\n",
       "       [2.50199313e-09],\n",
       "       [1.34712410e-07],\n",
       "       [1.23753622e-02],\n",
       "       [7.41180591e-06],\n",
       "       [3.86594917e-07],\n",
       "       [2.52575053e-07],\n",
       "       [9.87895726e-01],\n",
       "       [6.58067421e-04],\n",
       "       [1.21102766e-01],\n",
       "       [6.52480677e-04],\n",
       "       [1.38919195e-01],\n",
       "       [3.19936536e-02],\n",
       "       [1.01214159e-01],\n",
       "       [1.19390232e-02],\n",
       "       [7.16155447e-01],\n",
       "       [6.24438487e-02],\n",
       "       [2.81775040e-04],\n",
       "       [5.68413045e-03],\n",
       "       [9.89930794e-01],\n",
       "       [1.10674015e-01]])"
      ]
     },
     "execution_count": 44,
     "metadata": {},
     "output_type": "execute_result"
    }
   ],
   "source": [
    "1/(1+np.exp(-(np.dot(X,teta[1:].reshape(4,1))+teta[0])))"
   ]
  },
  {
   "cell_type": "code",
   "execution_count": null,
   "metadata": {},
   "outputs": [],
   "source": []
  },
  {
   "cell_type": "code",
   "execution_count": null,
   "metadata": {},
   "outputs": [],
   "source": []
  },
  {
   "cell_type": "code",
   "execution_count": null,
   "metadata": {},
   "outputs": [],
   "source": []
  }
 ],
 "metadata": {
  "kernelspec": {
   "display_name": "Python 3",
   "language": "python",
   "name": "python3"
  },
  "language_info": {
   "codemirror_mode": {
    "name": "ipython",
    "version": 3
   },
   "file_extension": ".py",
   "mimetype": "text/x-python",
   "name": "python",
   "nbconvert_exporter": "python",
   "pygments_lexer": "ipython3",
   "version": "3.6.7"
  }
 },
 "nbformat": 4,
 "nbformat_minor": 2
}
