{
 "cells": [
  {
   "cell_type": "code",
   "execution_count": null,
   "metadata": {},
   "outputs": [],
   "source": [
    "\n",
    "#    Прочитать про методы оптимизации для нейронных сетей https://habr.com/post/318970/\n",
    "#    Реализовать самостоятельно логистическую регрессию\n",
    "#        Обучить ее методом градиентного спуска\n",
    "#        Методом nesterov momentum\n",
    "#        Методом rmsprop\n",
    "#    В качестве dataset'а взять Iris, оставив 2 класса:\n",
    "#        Iris Versicolor\n",
    "#        Iris Virginica\n",
    "\n"
   ]
  },
  {
   "cell_type": "code",
   "execution_count": 2,
   "metadata": {},
   "outputs": [],
   "source": [
    "import pandas as pd\n",
    "import numpy as np\n"
   ]
  },
  {
   "cell_type": "code",
   "execution_count": 3,
   "metadata": {},
   "outputs": [],
   "source": [
    "from sklearn.datasets import load_iris\n",
    "data_all = load_iris(True)\n",
    "X = data_all[0]\n",
    "y = data_all[1]\n"
   ]
  },
  {
   "cell_type": "code",
   "execution_count": 4,
   "metadata": {},
   "outputs": [
    {
     "data": {
      "text/plain": [
       "array([0, 0, 0, 0, 0, 0, 0, 0, 0, 0, 0, 0, 0, 0, 0, 0, 0, 0, 0, 0, 0, 0,\n",
       "       0, 0, 0, 0, 0, 0, 0, 0, 0, 0, 0, 0, 0, 0, 0, 0, 0, 0, 0, 0, 0, 0,\n",
       "       0, 0, 0, 0, 0, 0, 1, 1, 1, 1, 1, 1, 1, 1, 1, 1, 1, 1, 1, 1, 1, 1,\n",
       "       1, 1, 1, 1, 1, 1, 1, 1, 1, 1, 1, 1, 1, 1, 1, 1, 1, 1, 1, 1, 1, 1,\n",
       "       1, 1, 1, 1, 1, 1, 1, 1, 1, 1, 1, 1, 2, 2, 2, 2, 2, 2, 2, 2, 2, 2,\n",
       "       2, 2, 2, 2, 2, 2, 2, 2, 2, 2, 2, 2, 2, 2, 2, 2, 2, 2, 2, 2, 2, 2,\n",
       "       2, 2, 2, 2, 2, 2, 2, 2, 2, 2, 2, 2, 2, 2, 2, 2, 2, 2])"
      ]
     },
     "execution_count": 4,
     "metadata": {},
     "output_type": "execute_result"
    }
   ],
   "source": [
    "y"
   ]
  },
  {
   "cell_type": "code",
   "execution_count": null,
   "metadata": {},
   "outputs": [],
   "source": [
    "# Обычнвая линейная регрессия"
   ]
  },
  {
   "cell_type": "code",
   "execution_count": 5,
   "metadata": {},
   "outputs": [],
   "source": [
    "N = 100\n",
    "X = np.random.uniform(low=0, high=100, size=(N,2))\n",
    "Y = 1 + 0.3*X[:,0] + 1.5*X[:,1] +  np.random.normal(scale=5, size=N)"
   ]
  },
  {
   "cell_type": "code",
   "execution_count": 6,
   "metadata": {},
   "outputs": [
    {
     "name": "stdout",
     "output_type": "stream",
     "text": [
      "0 [-1.29764708e-07 -1.26611137e-05 -2.15117504e-06]\n",
      "50000 [-6.03380679e-09 -3.43897495e-06  2.97560111e-06]\n",
      "100000 [ 2.58220112e-11 -2.01227536e-06  2.22987748e-06]\n",
      "150000 [-2.10410245e-10 -1.32548050e-06  1.49996926e-06]\n",
      "200000 [-6.06999895e-10 -8.82522349e-07  1.00047130e-06]\n",
      "250000 [-8.84664009e-10 -5.88127615e-07  6.66838343e-07]\n",
      "300000 [-1.07043352e-09 -3.91966568e-07  4.44438879e-07]\n",
      "350000 [-1.19425048e-09 -2.61232344e-07  2.96212484e-07]\n",
      "400000 [-1.27673794e-09 -1.74101144e-07  1.97422882e-07]\n",
      "450000 [-1.33167810e-09 -1.16030218e-07  1.31581884e-07]\n",
      "500000 [-1.36825840e-09 -7.73272859e-08  8.77003776e-08]\n",
      "550000 [-1.39260237e-09 -5.15326747e-08  5.84543651e-08]\n",
      "600000 [-1.40879097e-09 -3.43411617e-08  3.89625721e-08]\n",
      "650000 [-1.41954437e-09 -2.28834152e-08  2.59717414e-08]\n",
      "700000 [-1.42667522e-09 -1.52470918e-08  1.73136521e-08]\n",
      "750000 [-1.43139178e-09 -1.01576587e-08  1.15432348e-08]\n",
      "Результат: [0.99711566 0.30794517 1.4984227 ]\n"
     ]
    }
   ],
   "source": [
    "i = 0\n",
    "m = 3\n",
    "teta_old = np.zeros(m)\n",
    "teta = np.ones(m)\n",
    "eps = teta*0.00000001\n",
    "alpha = 0.00000001\n",
    "\n",
    "while (np.sum(np.abs(teta-teta_old) > eps)>0):\n",
    "    teta_old = teta.copy()\n",
    "    teta[0] = teta_old[0] - alpha * np.sum(np.dot(teta_old[1:],X.T)+teta_old[0] - Y)/len(Y)\n",
    "    teta[1:] = teta_old[1:] - alpha*np.sum(X.T*(np.dot(teta_old[1:],X.T)+teta_old[0] - Y), axis=1)/len(Y)\n",
    "    if(i%50000 == 0):\n",
    "        print(i, teta-teta_old)\n",
    "    i+=1 \n",
    "\n",
    "print('Результат:', teta)"
   ]
  },
  {
   "cell_type": "code",
   "execution_count": null,
   "metadata": {},
   "outputs": [],
   "source": []
  },
  {
   "cell_type": "code",
   "execution_count": null,
   "metadata": {},
   "outputs": [],
   "source": []
  },
  {
   "cell_type": "code",
   "execution_count": null,
   "metadata": {},
   "outputs": [],
   "source": []
  },
  {
   "cell_type": "code",
   "execution_count": null,
   "metadata": {},
   "outputs": [],
   "source": []
  },
  {
   "cell_type": "code",
   "execution_count": null,
   "metadata": {},
   "outputs": [],
   "source": []
  },
  {
   "cell_type": "code",
   "execution_count": null,
   "metadata": {},
   "outputs": [],
   "source": []
  }
 ],
 "metadata": {
  "kernelspec": {
   "display_name": "Python 3",
   "language": "python",
   "name": "python3"
  },
  "language_info": {
   "codemirror_mode": {
    "name": "ipython",
    "version": 3
   },
   "file_extension": ".py",
   "mimetype": "text/x-python",
   "name": "python",
   "nbconvert_exporter": "python",
   "pygments_lexer": "ipython3",
   "version": "3.6.7"
  }
 },
 "nbformat": 4,
 "nbformat_minor": 2
}
