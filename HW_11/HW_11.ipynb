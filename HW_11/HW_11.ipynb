{
 "cells": [
  {
   "cell_type": "code",
   "execution_count": null,
   "metadata": {},
   "outputs": [],
   "source": [
    "\n",
    "#    Прочитать про методы оптимизации для нейронных сетей https://habr.com/post/318970/\n",
    "#    Реализовать самостоятельно логистическую регрессию\n",
    "#        Обучить ее методом градиентного спуска\n",
    "#        Методом nesterov momentum\n",
    "#        Методом rmsprop\n",
    "#    В качестве dataset'а взять Iris, оставив 2 класса:\n",
    "#        Iris Versicolor\n",
    "#        Iris Virginica\n",
    "\n"
   ]
  },
  {
   "cell_type": "code",
   "execution_count": 57,
   "metadata": {},
   "outputs": [],
   "source": [
    "import pandas as pd\n",
    "import numpy as np\n",
    "import seaborn as sns\n",
    "import matplotlib.pyplot as plt"
   ]
  },
  {
   "cell_type": "code",
   "execution_count": 6,
   "metadata": {},
   "outputs": [],
   "source": [
    "# Обычная линейная регрессия"
   ]
  },
  {
   "cell_type": "code",
   "execution_count": 31,
   "metadata": {},
   "outputs": [],
   "source": [
    "N = 100\n",
    "X = np.random.uniform(low=0, high=100, size=(N,2))\n",
    "Y = 1 + 0.3*X[:,0] + 1.5*X[:,1] +  np.random.normal(scale=5, size=N)"
   ]
  },
  {
   "cell_type": "code",
   "execution_count": 124,
   "metadata": {},
   "outputs": [],
   "source": [
    "def lin_reg(X,y, alpha=0.000001, era=1000000, eps=0.0000001):\n",
    "    j = 0\n",
    "    m = len(X[0])+1\n",
    "    teta_old = np.zeros(m)\n",
    "    teta = np.ones(m)\n",
    "    while (np.sum(np.abs(teta-teta_old) > eps)>0) and (era > j):\n",
    "        teta_old = teta.copy()\n",
    "        teta[0] = teta_old[0] + alpha * np.sum(y - (np.dot(teta_old[1:],X.T)+teta_old[0]))/len(y)\n",
    "        teta[1:] = teta_old[1:] + alpha*np.sum(X*(y-(np.dot(teta_old[1:],X.T)+teta_old[0])).reshape(len(y),1), axis=0)/len(y)\n",
    "        if(j%50000 == 0):\n",
    "            print(j, teta)\n",
    "        j+=1 \n",
    "    print('Количество эпох:',j-1)    \n",
    "    return teta\n"
   ]
  },
  {
   "cell_type": "code",
   "execution_count": 35,
   "metadata": {},
   "outputs": [
    {
     "name": "stdout",
     "output_type": "stream",
     "text": [
      "0 [-6.51579210e-06 -8.71005319e-04  6.25744364e-05]\n",
      "10503\n",
      "Результат: [0.99864886 0.30673969 1.49679383]\n"
     ]
    }
   ],
   "source": [
    "teta = lin_reg(X,Y)\n",
    "print('Результат:', teta)"
   ]
  },
  {
   "cell_type": "code",
   "execution_count": null,
   "metadata": {},
   "outputs": [],
   "source": [
    "# как можно видеть получившиеся коэффициенты отличаются от задааных не более, чем на доли процента  "
   ]
  },
  {
   "cell_type": "code",
   "execution_count": null,
   "metadata": {},
   "outputs": [],
   "source": []
  },
  {
   "cell_type": "code",
   "execution_count": 75,
   "metadata": {},
   "outputs": [],
   "source": [
    "#  Логистическая регрессия с обучением обычным градиентным спуском"
   ]
  },
  {
   "cell_type": "code",
   "execution_count": 9,
   "metadata": {},
   "outputs": [
    {
     "data": {
      "text/plain": [
       "array(['setosa', 'versicolor', 'virginica'], dtype='<U10')"
      ]
     },
     "execution_count": 9,
     "metadata": {},
     "output_type": "execute_result"
    }
   ],
   "source": [
    "from sklearn.datasets import load_iris\n",
    "data_all = load_iris()\n",
    "data_X = data_all['data']\n",
    "data_y = data_all['target']\n",
    "data_all['target_names']"
   ]
  },
  {
   "cell_type": "code",
   "execution_count": 60,
   "metadata": {},
   "outputs": [],
   "source": [
    "X_all = np.hstack((data_X, data_y.reshape(150,1)))\n"
   ]
  },
  {
   "cell_type": "code",
   "execution_count": 61,
   "metadata": {},
   "outputs": [],
   "source": [
    "# фильтруем класс setosa\n",
    "X_y = X_all[X_all[:,-1] != 0]\n"
   ]
  },
  {
   "cell_type": "code",
   "execution_count": 148,
   "metadata": {},
   "outputs": [],
   "source": [
    "X = X_y[:,:-1]\n",
    "y = X_y[:,-1]-1\n",
    "\n",
    "\n",
    "from sklearn.model_selection import train_test_split \n",
    "\n",
    "X_train , X_test, y_train, y_test = train_test_split(X,y, test_size = 0.3)"
   ]
  },
  {
   "cell_type": "code",
   "execution_count": 149,
   "metadata": {},
   "outputs": [
    {
     "data": {
      "text/plain": [
       "array([0., 0., 1., 0., 0., 0., 0., 1., 0., 0., 1., 0., 1., 1., 1., 1., 0.,\n",
       "       0., 1., 1., 1., 1., 0., 0., 0., 0., 1., 0., 1., 1.])"
      ]
     },
     "execution_count": 149,
     "metadata": {},
     "output_type": "execute_result"
    }
   ],
   "source": [
    "y_test"
   ]
  },
  {
   "cell_type": "code",
   "execution_count": 176,
   "metadata": {},
   "outputs": [],
   "source": [
    "def log_reg(X,y, alpha=0.005, era=1000000, eps=0.0000001):\n",
    "    '''\n",
    "       получаем коэффициенты для регрессии\n",
    "    '''\n",
    "    j = 0\n",
    "    m = len(X[0])+1\n",
    "    teta_old = np.zeros(m)\n",
    "    teta = np.ones(m)\n",
    "    while (np.sum(np.abs(teta-teta_old) > eps)>0) and (era > j):\n",
    "        teta_old = teta.copy()\n",
    "        teta[0] = teta_old[0] + alpha*np.sum(y-(1/(1+np.exp(-(np.dot(teta_old[1:],X.T)+teta_old[0])))))/len(y)\n",
    "        teta[1:] = teta_old[1:] + alpha*np.sum(X*((y-1/(1+np.exp(-(np.dot(teta_old[1:],X.T)+teta_old[0])))).reshape(len(y),1)), axis=0)/len(y)\n",
    "        if(j%50000 == 0):\n",
    "            print(j,teta)\n",
    "        j+=1 \n",
    "    print('Количество эпох:',j-1)     \n",
    "    return teta\n",
    "\n",
    "def get_pred(y, level = 0.5):\n",
    "    '''\n",
    "       переводим получившиеся коэффициенты в метки классов по уровню отсечения\n",
    "    '''\n",
    "    return np.floor(y+1-level)\n",
    "    "
   ]
  },
  {
   "cell_type": "code",
   "execution_count": 177,
   "metadata": {},
   "outputs": [
    {
     "name": "stdout",
     "output_type": "stream",
     "text": [
      "0 [0.9975     0.98516001 0.993075   0.98935001 0.996685  ]\n",
      "50000 [-1.87045906 -3.25285823 -3.03253649  4.55626093  5.15813779]\n",
      "100000 [-3.10070432 -3.7239182  -3.78182174  5.39592671  6.4558262 ]\n",
      "150000 [-4.08175549 -3.95752842 -4.18325618  5.84619961  7.26643342]\n",
      "200000 [-4.93070165 -4.09277377 -4.43975416  6.13792177  7.84935044]\n",
      "250000 [-5.69130058 -4.17370568 -4.61852235  6.34311401  8.29882247]\n",
      "300000 [-6.38598397 -4.2204993  -4.74968255  6.49385864  8.66088055]\n",
      "350000 [-7.02834705 -4.24426738 -4.84913187  6.60740547  8.96161362]\n",
      "400000 [-7.62753499 -4.25183692 -4.92621647  6.69419453  9.21722682]\n",
      "450000 [-8.19014397 -4.24771199 -4.98687458  6.76107488  9.43844285]\n",
      "500000 [-8.72116937 -4.2350161  -5.03510525  6.812805    9.63269855]\n",
      "550000 [-9.22453022 -4.21599587 -5.07372476  6.85283231  9.80534572]\n",
      "600000 [-9.70338319 -4.19231217 -5.10478718  6.88373344  9.96035315]\n",
      "650000 [-10.16032306  -4.16521863  -5.1298329    6.90747961  10.10073879]\n",
      "700000 [-10.59751725  -4.13567656  -5.15004334   6.92560574  10.22884711]\n",
      "750000 [-11.01680003  -4.10443172  -5.16634128   6.93932282  10.34653313]\n",
      "800000 [-11.41974076  -4.07206744  -5.17945833   6.94959568  10.45528821]\n",
      "850000 [-11.80769464  -4.03904238  -5.1899817    6.95719845  10.55632814]\n",
      "900000 [-12.18184146  -4.00571808  -5.19838751   6.96275512  10.65065621]\n",
      "950000 [-12.54321564  -3.97237945  -5.20506502   6.96677012  10.73910919]\n",
      "Количество эпох: 999999\n"
     ]
    }
   ],
   "source": [
    "teta = log_reg(X, y)\n",
    "y_p_1 = 1/(1+np.exp(-(np.sum(X*teta[1:],axis=1)+teta[0])))\n",
    "y_c_1 = get_pred(y_p_1)"
   ]
  },
  {
   "cell_type": "code",
   "execution_count": 178,
   "metadata": {},
   "outputs": [
    {
     "data": {
      "text/plain": [
       "array([0., 0., 0., 0., 0., 0., 0., 0., 0., 0., 0., 0., 0., 0., 0., 0., 0.,\n",
       "       0., 0., 0., 1., 0., 0., 0., 0., 0., 0., 0., 0., 0., 0., 0., 0., 1.,\n",
       "       0., 0., 0., 0., 0., 0., 0., 0., 0., 0., 0., 0., 0., 0., 0., 0., 1.,\n",
       "       1., 1., 1., 1., 1., 1., 1., 1., 1., 1., 1., 1., 1., 1., 1., 1., 1.,\n",
       "       1., 1., 1., 1., 1., 1., 1., 1., 1., 1., 1., 1., 1., 1., 1., 0., 1.,\n",
       "       1., 1., 1., 1., 1., 1., 1., 1., 1., 1., 1., 1., 1., 1., 1.])"
      ]
     },
     "execution_count": 178,
     "metadata": {},
     "output_type": "execute_result"
    }
   ],
   "source": [
    "y_c_1"
   ]
  },
  {
   "cell_type": "code",
   "execution_count": 179,
   "metadata": {},
   "outputs": [],
   "source": [
    "from sklearn.metrics import roc_auc_score"
   ]
  },
  {
   "cell_type": "code",
   "execution_count": 180,
   "metadata": {},
   "outputs": [
    {
     "name": "stdout",
     "output_type": "stream",
     "text": [
      "roc_auc: 0.9699999999999999\n"
     ]
    }
   ],
   "source": [
    "print('roc_auc:',roc_auc_score(y,y_c_1))"
   ]
  },
  {
   "cell_type": "code",
   "execution_count": 181,
   "metadata": {},
   "outputs": [
    {
     "data": {
      "text/plain": [
       "<matplotlib.collections.PathCollection at 0x7f933b2b9ef0>"
      ]
     },
     "execution_count": 181,
     "metadata": {},
     "output_type": "execute_result"
    },
    {
     "data": {
      "image/png": "[encoded data removed]",
      "text/plain": [
       "<Figure size 432x288 with 1 Axes>"
      ]
     },
     "metadata": {},
     "output_type": "display_data"
    }
   ],
   "source": [
    "# смещая границу отсечения по классам от 0 до 1 можно увидеть насколько уверенно модель разделила классы  \n",
    "plt.scatter(np.array([0.01*l for l in range(101)]), np.array([roc_auc_score(y,get_pred(y_p_1,0.01*l)) for l in range(101)]))"
   ]
  },
  {
   "cell_type": "code",
   "execution_count": 156,
   "metadata": {},
   "outputs": [],
   "source": [
    "# как видно из результатов модель сошлась не доконца (отсеклось по количеству эпох) "
   ]
  },
  {
   "cell_type": "code",
   "execution_count": 157,
   "metadata": {},
   "outputs": [],
   "source": [
    "# теперь проверим для тестовой выборке"
   ]
  },
  {
   "cell_type": "code",
   "execution_count": 182,
   "metadata": {},
   "outputs": [
    {
     "name": "stdout",
     "output_type": "stream",
     "text": [
      "0 [0.99757143 0.98542858 0.99320715 0.98951429 0.99668572]\n",
      "50000 [-2.2389957  -2.90470117 -3.59439829  4.60485629  4.79493488]\n",
      "100000 [-3.75587862 -3.2149133  -4.49688119  5.38983792  6.04595247]\n",
      "150000 [-4.97734709 -3.33794822 -4.95972396  5.78317547  6.83112671]\n",
      "200000 [-6.03695663 -3.38502326 -5.24181343  6.01702854  7.40134687]\n",
      "250000 [-6.98604403 -3.39046082 -5.43149867  6.16471974  7.84946881]\n",
      "300000 [-7.85147129 -3.37062592 -5.56816077  6.25976183  8.22064852]\n",
      "350000 [-8.64980621 -3.33501356 -5.67209091  6.32062197  8.5400939 ]\n",
      "400000 [-9.39235816 -3.28968199 -5.75481074  6.35864091  8.82312953]\n",
      "450000 [-10.08738414  -3.23868583  -5.82334161   6.38125755   9.07963262]\n",
      "500000 [-10.74120334  -3.18480174  -5.8821944    6.39355253   9.31624708]\n",
      "550000 [-11.3588221   -3.1299455   -5.9343833    6.39907961   9.53758957]\n",
      "600000 [-11.9443126   -3.07543284  -5.98198083   6.40035536   9.74695077]\n",
      "650000 [-12.50105654  -3.02215251  -6.02644052   6.39916833   9.94672463]\n",
      "700000 [-13.03190935  -2.97068605  -6.06879447   6.39678482  10.13868224]\n",
      "750000 [-13.53931496  -2.92139302  -6.10977988   6.39409158  10.32415258]\n",
      "800000 [-14.02538855  -2.87447303  -6.14992324   6.39169762  10.50414523]\n",
      "850000 [-14.4919777   -2.83001135  -6.18959816   6.39000842  10.67943568]\n",
      "900000 [-14.94070867  -2.78801272  -6.22906629   6.3892808   10.85062578]\n",
      "950000 [-15.37302214  -2.74842648  -6.26850673   6.38966371  11.01818732]\n",
      "Количество эпох: 999999\n",
      "roc_auc: 0.9285714285714286\n"
     ]
    }
   ],
   "source": [
    "teta = log_reg(X_train, y_train)\n",
    "y_p_1t = 1/(1+np.exp(-(np.sum(X_test*teta[1:],axis=1)+teta[0])))\n",
    "y_c_1t = get_pred(y_p_1t)\n",
    "print('roc_auc:',roc_auc_score(y_test,y_c_1t))"
   ]
  },
  {
   "cell_type": "code",
   "execution_count": 183,
   "metadata": {},
   "outputs": [
    {
     "data": {
      "text/plain": [
       "<matplotlib.collections.PathCollection at 0x7f933b299198>"
      ]
     },
     "execution_count": 183,
     "metadata": {},
     "output_type": "execute_result"
    },
    {
     "data": {
      "image/png": "[encoded data removed]",
      "text/plain": [
       "<Figure size 432x288 with 1 Axes>"
      ]
     },
     "metadata": {},
     "output_type": "display_data"
    }
   ],
   "source": [
    "plt.scatter(np.array([0.01*l for l in range(101)]), np.array([roc_auc_score(y_test,get_pred(y_p_1t,0.01*l)) for l in range(101)]))"
   ]
  },
  {
   "cell_type": "code",
   "execution_count": 160,
   "metadata": {},
   "outputs": [],
   "source": [
    "#  Логистическая регрессия с обучением Nesterov Accelerated Gradient"
   ]
  },
  {
   "cell_type": "code",
   "execution_count": 184,
   "metadata": {},
   "outputs": [],
   "source": [
    "def log_reg_nest(X,y, alpha=0.005, era=1000000, eps=0.0000001, gamma=0.9):\n",
    "    '''\n",
    "       получаем коэффициенты для регрессии\n",
    "    '''\n",
    "    j = 0\n",
    "    m = len(X[0])+1\n",
    "    vt = np.zeros(m)\n",
    "    teta_old = np.zeros(m)\n",
    "    teta = np.ones(m)\n",
    "    while (np.sum(np.abs(teta-teta_old) > eps)>0) and (era > j):\n",
    "        teta_old = teta.copy()\n",
    "        gr =y-(1/(1+np.exp(-(np.dot((teta_old[1:]-gamma*vt[1:]),X.T)+(teta_old[0]-gamma*vt[0])))))\n",
    "        vt[0]= gamma*vt[0]+(1-gamma)*alpha*np.sum(gr)/len(y)\n",
    "        teta[0] = teta_old[0] + vt[0]\n",
    "        vt[1:] = gamma*vt[1:]+(1-gamma)*alpha*np.sum(X*(gr.reshape(len(y),1)), axis=0)/len(y)\n",
    "        teta[1:] = teta_old[1:] + vt[1:]\n",
    "        if(j%50000 == 0):\n",
    "            print(j,teta)\n",
    "        j+=1 \n",
    "    print('Количество эпох:',j-1) \n",
    "    return teta"
   ]
  },
  {
   "cell_type": "code",
   "execution_count": 185,
   "metadata": {},
   "outputs": [
    {
     "name": "stdout",
     "output_type": "stream",
     "text": [
      "0 [0.99975   0.998516  0.9993075 0.998935  0.9996685]\n",
      "50000 [-1.8705405  -3.25338819 -3.03291388  4.55698123  5.15869081]\n",
      "100000 [-3.10073624 -3.7242621  -3.78211633  5.3964006   6.45623665]\n",
      "150000 [-4.08176793 -3.95778515 -4.18349487  5.84655216  7.26676793]\n",
      "200000 [-4.9307063  -4.09297825 -4.43995332  6.13820081  7.84963392]\n",
      "250000 [-5.69130279 -4.17387437 -4.61869212  6.34334305  8.29906777]\n",
      "300000 [-6.38598641 -4.22064145 -4.74982951  6.49405108  8.66109564]\n",
      "350000 [-7.02835107 -4.2443888  -4.84926052  6.6075697   8.96180402]\n",
      "400000 [-7.62754124 -4.25194158 -4.92633     6.69433621  9.2173966 ]\n",
      "450000 [-8.19015274 -4.24780277 -4.9869754   6.76119805  9.43859516]\n",
      "500000 [-8.72118076 -4.23509517 -5.0351952   6.81291264  9.63283586]\n",
      "550000 [-9.22454418 -4.21606493 -5.0738053   6.85292675  9.80547002]\n",
      "600000 [-9.70339964 -4.19237257 -5.10485949  6.88381651  9.96046608]\n",
      "650000 [-10.16034186  -4.16527151  -5.12989797   6.90755283  10.10084172]\n",
      "700000 [-10.59753825  -4.13572285  -5.150102     6.92567035  10.22894119]\n",
      "750000 [-11.01682309  -4.10447221  -5.16639424   6.93937989  10.34661933]\n",
      "800000 [-11.41976572  -4.07210282  -5.17950619   6.94964612  10.45536738]\n",
      "850000 [-11.80772137  -4.03907324  -5.190025     6.95724303  10.55640099]\n",
      "900000 [-12.18186982  -4.00574493  -5.19842671   6.96279453  10.65072337]\n",
      "950000 [-12.54324549  -3.97240276  -5.20510054   6.96680497  10.73917122]\n",
      "Количество эпох: 999999\n"
     ]
    }
   ],
   "source": [
    "teta = log_reg_nest(X, y)\n",
    "y_p_2 = 1/(1+np.exp(-(np.sum(X*teta[1:],axis=1)+teta[0])))\n",
    "y_c_2 = get_pred(y_p_2)"
   ]
  },
  {
   "cell_type": "code",
   "execution_count": 186,
   "metadata": {},
   "outputs": [
    {
     "data": {
      "text/plain": [
       "0.9699999999999999"
      ]
     },
     "execution_count": 186,
     "metadata": {},
     "output_type": "execute_result"
    }
   ],
   "source": [
    "roc_auc_score(y,y_c_2)"
   ]
  },
  {
   "cell_type": "code",
   "execution_count": 187,
   "metadata": {},
   "outputs": [
    {
     "data": {
      "text/plain": [
       "<matplotlib.collections.PathCollection at 0x7f933b1f35c0>"
      ]
     },
     "execution_count": 187,
     "metadata": {},
     "output_type": "execute_result"
    },
    {
     "data": {
      "image/png": "[encoded data removed]",
      "text/plain": [
       "<Figure size 432x288 with 1 Axes>"
      ]
     },
     "metadata": {},
     "output_type": "display_data"
    }
   ],
   "source": [
    "plt.scatter(np.array([0.01*l for l in range(101)]), np.array([roc_auc_score(y,get_pred(y_p_2,0.01*l)) for l in range(101)]))"
   ]
  },
  {
   "cell_type": "code",
   "execution_count": null,
   "metadata": {},
   "outputs": [],
   "source": [
    "#  вторая модель сошлась так же не доконца (отсеклось по количеству эпох)\n",
    "#  и коэффициенты похожи на коэффициенты первой модели"
   ]
  },
  {
   "cell_type": "code",
   "execution_count": null,
   "metadata": {},
   "outputs": [],
   "source": [
    "# теперь проверим для тестовой выборке"
   ]
  },
  {
   "cell_type": "code",
   "execution_count": 188,
   "metadata": {},
   "outputs": [
    {
     "name": "stdout",
     "output_type": "stream",
     "text": [
      "0 [0.99975714 0.99854286 0.99932071 0.99895143 0.99966857]\n",
      "50000 [-2.23902241 -2.90517312 -3.5949015   4.60559646  4.79538167]\n",
      "100000 [-3.75587419 -3.21520407 -4.49726618  5.39030869  6.04629787]\n",
      "150000 [-4.97733783 -3.33816073 -4.96002024  5.78351511  6.83141262]\n",
      "200000 [-6.03695209 -3.38518894 -5.24204708  6.01728859  7.40158887]\n",
      "250000 [-6.98604766 -3.39059338 -5.43168712  6.16492523  7.84967602]\n",
      "300000 [-7.85148406 -3.37073303 -5.56831547  6.25992708  8.22082746]\n",
      "350000 [-8.64982798 -3.33510029 -5.67221964  6.32075616  8.54024961]\n",
      "400000 [-9.39238834 -3.28975208 -5.75491894  6.35875045  8.82326602]\n",
      "450000 [-10.08742192  -3.23874218  -5.82343327   6.38134717   9.07975314]\n",
      "500000 [-10.7412479   -3.18484673  -5.88227253   6.39362591   9.31635427]\n",
      "550000 [-11.3588726   -3.12998107  -5.93445025   6.39913966   9.53768562]\n",
      "600000 [-11.94436826  -3.0754606   -5.98203849   6.40040445   9.74703747]\n",
      "650000 [-12.50111664  -3.02217384  -6.02649041   6.39920841   9.94680348]\n",
      "700000 [-13.03197324  -2.97070208  -6.06883785   6.39681752  10.13875449]\n",
      "750000 [-13.53938207  -2.92140472  -6.10981781   6.39411824  10.32421928]\n",
      "800000 [-14.02545836  -2.87448119  -6.14995659   6.39171935  10.50420724]\n",
      "850000 [-14.49204975  -2.83001664  -6.18962768   6.39002616  10.67949373]\n",
      "900000 [-14.94078256  -2.7880157   -6.2290926    6.38929532  10.8506805 ]\n",
      "950000 [-15.37309753  -2.74842761  -6.26853036   6.38967564  11.01823923]\n",
      "Количество эпох: 999999\n",
      "roc_auc: 0.9285714285714286\n"
     ]
    }
   ],
   "source": [
    "teta = log_reg_nest(X_train, y_train)\n",
    "y_p_2t = 1/(1+np.exp(-(np.sum(X_test*teta[1:],axis=1)+teta[0])))\n",
    "y_c_2t = get_pred(y_p)\n",
    "print('roc_auc:',roc_auc_score(y_test,y_c_2t))"
   ]
  },
  {
   "cell_type": "code",
   "execution_count": 189,
   "metadata": {},
   "outputs": [
    {
     "data": {
      "text/plain": [
       "<matplotlib.collections.PathCollection at 0x7f933b1c8860>"
      ]
     },
     "execution_count": 189,
     "metadata": {},
     "output_type": "execute_result"
    },
    {
     "data": {
      "image/png": "[encoded data removed]",
      "text/plain": [
       "<Figure size 432x288 with 1 Axes>"
      ]
     },
     "metadata": {},
     "output_type": "display_data"
    }
   ],
   "source": [
    "plt.scatter(np.array([0.01*l for l in range(101)]), np.array([roc_auc_score(y_test,get_pred(y_p_2t,0.01*l)) for l in range(101)]))"
   ]
  },
  {
   "cell_type": "code",
   "execution_count": 137,
   "metadata": {},
   "outputs": [],
   "source": [
    "#  Логистическая регрессия с обучением RMSProp"
   ]
  },
  {
   "cell_type": "code",
   "execution_count": 190,
   "metadata": {},
   "outputs": [],
   "source": [
    "def log_reg_rmsp(X,y, alpha=0.001, era=1000000, eps=0.0000001, gamma=0.9):\n",
    "    '''\n",
    "       получаем коэффициенты для регрессии\n",
    "    '''\n",
    "    j = 0\n",
    "    e = 0.00000001\n",
    "    m = len(X[0])+1\n",
    "    Egt = np.zeros(m)\n",
    "    teta_old = np.zeros(m)\n",
    "    teta = np.ones(m)\n",
    "    while (np.sum(np.abs(teta-teta_old) > eps)>0) and (era > j):\n",
    "        teta_old = teta.copy()\n",
    "        gt = y-(1/(1+np.exp(-(np.dot((teta_old[1:]),X.T)+(teta_old[0])))))\n",
    "        teta[0] = teta_old[0] + alpha*(np.sum(gt)/len(y))/(np.sqrt(Egt[0]+e))\n",
    "        teta[1:] = teta_old[1:] + alpha*(np.sum(X*(gt.reshape(len(y),1)), axis=0)/len(y))/(np.sqrt(Egt[1:]+e))\n",
    "        Egt[0]  =gamma*Egt[0] +(1-gamma)*(np.sum(gt)/len(y))**2\n",
    "        Egt[1:] =gamma*Egt[1:]+(1-gamma)*(np.sum(X*(gt.reshape(len(y),1)), axis=0)/len(y))**2\n",
    "        if(j%50000 == 0):\n",
    "            print(j,teta)\n",
    "        j+=1\n",
    "    print('Количество эпох:',j-1) \n",
    "    return teta"
   ]
  },
  {
   "cell_type": "code",
   "execution_count": 191,
   "metadata": {},
   "outputs": [
    {
     "name": "stdout",
     "output_type": "stream",
     "text": [
      "0 [ -3.9999971  -28.67998439 -12.84999284 -20.29998915  -5.62999663]\n",
      "50000 [-13.86960134  -3.93106256  -5.44533895   7.05763543  11.51051579]\n",
      "100000 [-40.81253205  -2.48602105  -6.51519164   9.17609933  17.74015963]\n",
      "150000 [-42.56722962  -2.46737595  -6.67405903   9.41931695  18.26998264]\n",
      "200000 [-42.65082369  -2.46541555  -6.68471118   9.43158468  18.29459681]\n",
      "250000 [-42.63240178  -2.46468508  -6.6829154    9.42870997  18.28636295]\n",
      "300000 [-42.65623422  -2.46429979  -6.68283998   9.43206354  18.28919459]\n",
      "Количество эпох: 311256\n"
     ]
    }
   ],
   "source": [
    "teta = log_reg_rmsp(X, y)\n",
    "y_p_3 = 1/(1+np.exp(-(np.sum(X*teta[1:],axis=1)+teta[0])))\n",
    "y_c_3 = get_pred(y_p_3)"
   ]
  },
  {
   "cell_type": "code",
   "execution_count": 193,
   "metadata": {},
   "outputs": [
    {
     "data": {
      "text/plain": [
       "0.98"
      ]
     },
     "execution_count": 193,
     "metadata": {},
     "output_type": "execute_result"
    }
   ],
   "source": [
    "roc_auc_score(y,y_c_3)"
   ]
  },
  {
   "cell_type": "code",
   "execution_count": 194,
   "metadata": {},
   "outputs": [
    {
     "data": {
      "text/plain": [
       "<matplotlib.collections.PathCollection at 0x7f933b122e80>"
      ]
     },
     "execution_count": 194,
     "metadata": {},
     "output_type": "execute_result"
    },
    {
     "data": {
      "image/png": "[encoded data removed]",
      "text/plain": [
       "<Figure size 432x288 with 1 Axes>"
      ]
     },
     "metadata": {},
     "output_type": "display_data"
    }
   ],
   "source": [
    "plt.scatter(np.array([0.01*l for l in range(101)]), np.array([roc_auc_score(y,get_pred(y_p_3,0.01*l)) for l in range(101)]))"
   ]
  },
  {
   "cell_type": "code",
   "execution_count": 195,
   "metadata": {},
   "outputs": [],
   "source": [
    "#  третья модель сошлась значительно быстрей \n",
    "#  к конечным значениям близко подошла примерно в 8 раз быстрей, чем первые две \n",
    "#  и еще модель более уверено разделяет классы, чем первые две"
   ]
  },
  {
   "cell_type": "code",
   "execution_count": 196,
   "metadata": {},
   "outputs": [],
   "source": [
    "# теперь проверим для тестовой выборке"
   ]
  },
  {
   "cell_type": "code",
   "execution_count": 197,
   "metadata": {},
   "outputs": [
    {
     "name": "stdout",
     "output_type": "stream",
     "text": [
      "0 [ -3.85714083 -28.14284589 -12.58570912 -19.97142058  -5.62856891]\n",
      "50000 [-14.66970934  -2.89006468  -6.60148615   6.41700296  11.61929437]\n",
      "100000 [-58.81038042  -1.47621015 -14.45413037  10.22273233  34.11943683]\n",
      "150000 [-96.56239652  -1.1577734  -22.38299566  14.65898199  55.36506847]\n",
      "200000 [-127.57038422   -0.93403569  -28.96138061   18.26003315   73.23261706]\n",
      "250000 [-152.94614111   -0.67442161  -34.20741727   20.98807054   88.05580885]\n",
      "300000 [-173.80228367   -0.37569333  -38.38829409   23.02564995  100.35443373]\n",
      "350000 [-1.91145627e+02 -9.14038196e-02 -4.18269787e+01  2.46404029e+01\n",
      "  1.10637385e+02]\n",
      "400000 [-2.05876420e+02  1.59525858e-01 -4.47190773e+01  2.59840659e+01\n",
      "  1.19380435e+02]\n",
      "450000 [-218.5994478     0.37720525  -47.19390061   27.13317074  126.92699517]\n",
      "500000 [-229.71267223    0.56429477  -49.3351109    28.13275909  133.50780075]\n",
      "550000 [-239.55357291    0.72530205  -51.22473107   29.02278485  139.32658527]\n",
      "600000 [-248.37404895    0.8654698   -52.91374289   29.82535126  144.53452087]\n",
      "650000 [-256.35973137    0.98886413  -54.43918613   30.55617061  149.24320897]\n",
      "700000 [-263.65088524    1.09861466  -55.82892111   31.2269562   153.53706436]\n",
      "750000 [-270.35583258    1.19713571  -57.10440156   31.84672651  157.48127654]\n",
      "800000 [-276.55982025    1.28630536  -58.28247326   32.42259622  161.12711547]\n",
      "850000 [-282.33104885    1.36760074  -59.37658693   32.96028655  164.51555924]\n",
      "900000 [-287.72487619    1.44219721  -60.39764006   33.46447091  167.67983152]\n",
      "950000 [-292.78681426    1.51104085  -61.35457559   33.93901751  170.64721364]\n",
      "Количество эпох: 999999\n",
      "roc_auc: 0.9285714285714286\n"
     ]
    }
   ],
   "source": [
    "teta = log_reg_rmsp(X_train, y_train)\n",
    "y_p_3t = 1/(1+np.exp(-(np.sum(X_test*teta[1:],axis=1)+teta[0])))\n",
    "y_c_3t = get_pred(y_p_3t)\n",
    "print('roc_auc:',roc_auc_score(y_test,y_c_3t))"
   ]
  },
  {
   "cell_type": "code",
   "execution_count": 198,
   "metadata": {},
   "outputs": [
    {
     "data": {
      "text/plain": [
       "<matplotlib.collections.PathCollection at 0x7f933b0fcd68>"
      ]
     },
     "execution_count": 198,
     "metadata": {},
     "output_type": "execute_result"
    },
    {
     "data": {
      "image/png": "[encoded data removed]",
      "text/plain": [
       "<Figure size 432x288 with 1 Axes>"
      ]
     },
     "metadata": {},
     "output_type": "display_data"
    }
   ],
   "source": [
    "plt.scatter(np.array([0.01*l for l in range(101)]), np.array([roc_auc_score(y_test,get_pred(y_p_3t,0.01*l)) for l in range(101)]))"
   ]
  },
  {
   "cell_type": "code",
   "execution_count": null,
   "metadata": {},
   "outputs": [],
   "source": []
  }
 ],
 "metadata": {
  "kernelspec": {
   "display_name": "Python 3",
   "language": "python",
   "name": "python3"
  },
  "language_info": {
   "codemirror_mode": {
    "name": "ipython",
    "version": 3
   },
   "file_extension": ".py",
   "mimetype": "text/x-python",
   "name": "python",
   "nbconvert_exporter": "python",
   "pygments_lexer": "ipython3",
   "version": "3.6.7"
  }
 },
 "nbformat": 4,
 "nbformat_minor": 2
}
