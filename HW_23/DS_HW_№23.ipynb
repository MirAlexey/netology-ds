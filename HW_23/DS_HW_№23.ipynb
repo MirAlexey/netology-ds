{
 "cells": [
  {
   "cell_type": "code",
   "execution_count": null,
   "metadata": {},
   "outputs": [],
   "source": [
    "# Прошу прощения, пока не сделано. Решение будет в течении суток."
   ]
  },
  {
   "cell_type": "code",
   "execution_count": null,
   "metadata": {},
   "outputs": [],
   "source": [
    "Элементарные алгоритмы обработки временных рядов\n",
    "Преподаватель: Алексей Кузьмин\n",
    "\n",
    "Взять ряд из первого задания (в двух вариантах - стационарный и нет) \n",
    "и приблизить оба эти варианта моделями из класса MA. Оценить качество и \n",
    "прислать соображения в почему была выбрана та или иная модель. \n",
    "(задание оформить в jupyter-notebook)\n"
   ]
  }
 ],
 "metadata": {
  "kernelspec": {
   "display_name": "Python 3",
   "language": "python",
   "name": "python3"
  },
  "language_info": {
   "codemirror_mode": {
    "name": "ipython",
    "version": 3
   },
   "file_extension": ".py",
   "mimetype": "text/x-python",
   "name": "python",
   "nbconvert_exporter": "python",
   "pygments_lexer": "ipython3",
   "version": "3.6.7"
  }
 },
 "nbformat": 4,
 "nbformat_minor": 2
}
