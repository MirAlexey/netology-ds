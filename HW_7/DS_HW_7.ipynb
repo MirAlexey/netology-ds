{
 "cells": [
  {
   "cell_type": "code",
   "execution_count": null,
   "metadata": {},
   "outputs": [],
   "source": [
    "# Пока не доделанно просьба не проверять :)\n",
    "\n",
    "\n",
    "# Задание 1 \n",
    "# Завершаем практическое задание №2. Необходимо для каждой распознанной \n",
    "# фамилии вывести на экран наиболее подходящий вариант из стартового протокола \n",
    "\n",
    "# Задание 2 \n",
    "# Постройте модель kNN для распознавания цифр. Посчитайте получившееся\n",
    "# значение точности (последняя строка в файле 7. kNN digits.ipynb)"
   ]
  },
  {
   "cell_type": "code",
   "execution_count": 1,
   "metadata": {},
   "outputs": [],
   "source": [
    "import Levenshtein"
   ]
  },
  {
   "cell_type": "code",
   "execution_count": 2,
   "metadata": {},
   "outputs": [],
   "source": [
    "claim_list = [\n",
    "    'Шехавцова Анна',\n",
    "    'Гречихина Наталья',\n",
    "    'Козлова Алена',\n",
    "    'Груздева Алина',\n",
    "    'Кущенко Анна',\n",
    "    'Чистякова Анастасия'\n",
    "]"
   ]
  },
  {
   "cell_type": "code",
   "execution_count": 3,
   "metadata": {},
   "outputs": [],
   "source": [
    "speech_recognition = [\n",
    "    'кучменко она',\n",
    "    'кущенко оксана',\n",
    "    'груздь алина',\n",
    "    'рычихина наталья',\n",
    "    'шиховцева на',\n",
    "    'чистова анастасия'\n",
    "]"
   ]
  },
  {
   "cell_type": "code",
   "execution_count": 6,
   "metadata": {},
   "outputs": [
    {
     "data": {
      "text/plain": [
       "{'кучменко она': {'Шехавцова Анна': 11,\n",
       "  'Гречихина Наталья': 14,\n",
       "  'Козлова Алена': 11,\n",
       "  'Груздева Алина': 10,\n",
       "  'Кущенко Анна': 5,\n",
       "  'Чистякова Анастасия': 15},\n",
       " 'кущенко оксана': {'Шехавцова Анна': 11,\n",
       "  'Гречихина Наталья': 15,\n",
       "  'Козлова Алена': 11,\n",
       "  'Груздева Алина': 11,\n",
       "  'Кущенко Анна': 5,\n",
       "  'Чистякова Анастасия': 14},\n",
       " 'груздь алина': {'Шехавцова Анна': 11,\n",
       "  'Гречихина Наталья': 14,\n",
       "  'Козлова Алена': 9,\n",
       "  'Груздева Алина': 5,\n",
       "  'Кущенко Анна': 10,\n",
       "  'Чистякова Анастасия': 16},\n",
       " 'рычихина наталья': {'Шехавцова Анна': 14,\n",
       "  'Гречихина Наталья': 3,\n",
       "  'Козлова Алена': 14,\n",
       "  'Груздева Алина': 14,\n",
       "  'Кущенко Анна': 14,\n",
       "  'Чистякова Анастасия': 12},\n",
       " 'шиховцева на': {'Шехавцова Анна': 6,\n",
       "  'Гречихина Наталья': 14,\n",
       "  'Козлова Алена': 9,\n",
       "  'Груздева Алина': 9,\n",
       "  'Кущенко Анна': 10,\n",
       "  'Чистякова Анастасия': 13},\n",
       " 'чистова анастасия': {'Шехавцова Анна': 13,\n",
       "  'Гречихина Наталья': 12,\n",
       "  'Козлова Алена': 12,\n",
       "  'Груздева Алина': 14,\n",
       "  'Кущенко Анна': 14,\n",
       "  'Чистякова Анастасия': 4}}"
      ]
     },
     "execution_count": 6,
     "metadata": {},
     "output_type": "execute_result"
    }
   ],
   "source": [
    "names = {}\n",
    "\n",
    "for recognized_name in speech_recognition:\n",
    "    names[recognized_name] = {real_name: Levenshtein.distance(recognized_name, real_name) for real_name in claim_list}\n",
    "names"
   ]
  },
  {
   "cell_type": "code",
   "execution_count": 10,
   "metadata": {},
   "outputs": [
    {
     "ename": "AttributeError",
     "evalue": "'list' object has no attribute 'items'",
     "output_type": "error",
     "traceback": [
      "\u001b[0;31m---------------------------------------------------------------------------\u001b[0m",
      "\u001b[0;31mAttributeError\u001b[0m                            Traceback (most recent call last)",
      "\u001b[0;32m<ipython-input-10-f82027bda42f>\u001b[0m in \u001b[0;36m<module>\u001b[0;34m()\u001b[0m\n\u001b[1;32m      1\u001b[0m \u001b[0;32mfor\u001b[0m \u001b[0mkey\u001b[0m\u001b[0;34m,\u001b[0m \u001b[0mvaley\u001b[0m \u001b[0;32min\u001b[0m \u001b[0mnames\u001b[0m\u001b[0;34m.\u001b[0m\u001b[0mitems\u001b[0m\u001b[0;34m(\u001b[0m\u001b[0;34m)\u001b[0m\u001b[0;34m:\u001b[0m\u001b[0;34m\u001b[0m\u001b[0;34m\u001b[0m\u001b[0m\n\u001b[0;32m----> 2\u001b[0;31m     \u001b[0mprint\u001b[0m\u001b[0;34m(\u001b[0m\u001b[0msorted\u001b[0m\u001b[0;34m(\u001b[0m\u001b[0mvaley\u001b[0m\u001b[0;34m.\u001b[0m\u001b[0mitems\u001b[0m\u001b[0;34m(\u001b[0m\u001b[0;34m)\u001b[0m\u001b[0;34m,\u001b[0m \u001b[0mkey\u001b[0m \u001b[0;34m=\u001b[0m \u001b[0;32mlambda\u001b[0m \u001b[0mx\u001b[0m\u001b[0;34m:\u001b[0m \u001b[0mx\u001b[0m\u001b[0;34m[\u001b[0m\u001b[0;36m1\u001b[0m\u001b[0;34m]\u001b[0m\u001b[0;34m)\u001b[0m\u001b[0;34m)\u001b[0m\u001b[0;34m\u001b[0m\u001b[0;34m\u001b[0m\u001b[0m\n\u001b[0m",
      "\u001b[0;31mAttributeError\u001b[0m: 'list' object has no attribute 'items'"
     ]
    }
   ],
   "source": [
    "for key, valey in names.items():\n",
    "    print(sorted(valey.items(), key = lambda x: x[1]))\n"
   ]
  },
  {
   "cell_type": "code",
   "execution_count": null,
   "metadata": {},
   "outputs": [],
   "source": []
  }
 ],
 "metadata": {
  "kernelspec": {
   "display_name": "Python 3",
   "language": "python",
   "name": "python3"
  },
  "language_info": {
   "codemirror_mode": {
    "name": "ipython",
    "version": 3
   },
   "file_extension": ".py",
   "mimetype": "text/x-python",
   "name": "python",
   "nbconvert_exporter": "python",
   "pygments_lexer": "ipython3",
   "version": "3.6.7"
  }
 },
 "nbformat": 4,
 "nbformat_minor": 2
}
